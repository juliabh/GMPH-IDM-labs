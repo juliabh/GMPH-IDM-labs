{
 "cells": [
  {
   "cell_type": "markdown",
   "metadata": {},
   "source": [
    "# Solution: Simulating competing hazards"
   ]
  },
  {
   "cell_type": "markdown",
   "metadata": {},
   "source": [
    "The model we want to specify in this etivity has 3 compartments: I (infected), R (recovered) and M (dead). Like in etivity 1, infected people can recover at a rate $\\gamma$. Additionally they can also now die (transition to the M compartment) at a rate $\\mu$.\n",
    "\n",
    "The differential equations for this model look like this:\n",
    "\\begin{align}\n",
    "\\frac{dI}{dt} & = -\\gamma I -\\mu I \\\\\n",
    "\\frac{dR}{dt} & = \\gamma I \\\\\n",
    "\\frac{dM}{dt} & = \\mu I\n",
    "\\end{align}\n",
    "\n",
    "This corresponds to the following model diagram:\n",
    "\n",
    "<img src=\"../../IDM1/Graphics and Data/w1_nb2_model_diagram.png\">\n",
    "\n",
    "As you can see, the equation describing the rate of change in the recovered (R) compartment (second line) is not affected by this addition. However, we need a new equation describing the rate of change in the deceased (M) compartment (third line). People move into this compartment from the infected compartment (I) at a rate $\\mu$ - this transition also needs to be added in the rate of change in the infected compartment I (first line). \n",
    "\n",
    "The **model function** describing this set of differential equations looks like this:"
   ]
  },
  {
   "cell_type": "code",
   "execution_count": 1,
   "metadata": {},
   "outputs": [],
   "source": [
    "# As always, the model function takes as input arguments (in the following order): time, state and parameters\n",
    "cohort_model <- function(time, state, parameters) {  \n",
    "\n",
    "    with(as.list(c(state, parameters)), {  # tell R to unpack the variable names (I, R and M) and model parameters \n",
    "                                           # (gamma and mu) from the inputs \"state\" and \"parameters\"\n",
    "        \n",
    "    # The differential equations\n",
    "      dI <- -gamma * I - mu * I  # included -mu * I\n",
    "      dR <- gamma * I            # no change\n",
    "      dM <- mu * I               # a new line to describe the rate of change in the M compartment\n",
    "      \n",
    "    # Return the number of people in each compartment at each timestep (in the same order as the input state variables)\n",
    "    return(list(c(dI, dR, dM))) \n",
    "    })\n",
    "  \n",
    "}"
   ]
  },
  {
   "cell_type": "markdown",
   "metadata": {},
   "source": [
    "**Defining model input and timesteps**"
   ]
  },
  {
   "cell_type": "code",
   "execution_count": 2,
   "metadata": {},
   "outputs": [],
   "source": [
    "initial_state_values <- c(I = 1000000,   # at the start, there are 10^6 infected people\n",
    "                          R = 0,         # no one has recovered\n",
    "                          M = 0)         # no one has died \n",
    "\n",
    "parameters <- c(gamma = 0.1,             # the recovery rate gamma is 0.1 days^-1\n",
    "                mu = 0.2)                # the mortality rate mu is 0.2 days^-1\n",
    "\n",
    "times <- seq(from = 0, to = 4*7, by = 1) # we want to model the course of the infection over 4 weeks = 4*7 days\n",
    "                                         # (remembering that the rates are in units of days^-1)"
   ]
  },
  {
   "cell_type": "markdown",
   "metadata": {},
   "source": [
    "### After 4 weeks, do you expect more people to have recovered or more people to have died, and why? \n",
    "\n",
    "We expect more people to die than to recover because the mortality rate (0.2) is higher than the recovery rate (0.1), so people move more quickly from I to M than from I to R."
   ]
  },
  {
   "cell_type": "markdown",
   "metadata": {},
   "source": [
    "Load the deSolve package and use it to solve the differential equations:"
   ]
  },
  {
   "cell_type": "code",
   "execution_count": 3,
   "metadata": {},
   "outputs": [
    {
     "name": "stderr",
     "output_type": "stream",
     "text": [
      "Warning message:\n",
      "\"package 'deSolve' was built under R version 3.6.1\"Registered S3 methods overwritten by 'ggplot2':\n",
      "  method         from \n",
      "  [.quosures     rlang\n",
      "  c.quosures     rlang\n",
      "  print.quosures rlang\n"
     ]
    }
   ],
   "source": [
    "library(deSolve)\n",
    "library(reshape2)\n",
    "library(ggplot2)\n",
    "\n",
    "output <- as.data.frame(ode(y = initial_state_values, \n",
    "                            times = times, \n",
    "                            func = cohort_model,\n",
    "                            parms = parameters))"
   ]
  },
  {
   "cell_type": "markdown",
   "metadata": {},
   "source": [
    "Plotting the output over time indeed shows that more people have indeed died than recovered:"
   ]
  },
  {
   "cell_type": "code",
   "execution_count": 4,
   "metadata": {},
   "outputs": [
    {
     "data": {
      "image/png": "[encoded data removed]",
      "text/plain": [
       "plot without title"
      ]
     },
     "metadata": {},
     "output_type": "display_data"
    }
   ],
   "source": [
    "output_long <- melt(as.data.frame(output), id = \"time\")                  # turn output dataset into long format\n",
    "\n",
    "ggplot(data = output_long,                                               # specify object containing data to plot\n",
    "       aes(x = time, y = value, colour = variable, group = variable)) +  # assign columns to axes and groups\n",
    "  geom_line() +                                                          # represent data as lines\n",
    "  xlab(\"Time (days)\")+                                                   # add label for x axis\n",
    "  ylab(\"Number of people\") +                                             # add label for y axis\n",
    "  labs(colour = \"Compartment\")                                           # add legend title\n",
    "\n",
    "# ggplot automatically adds the new compartment as a separate colour/group \n",
    "# because it is contained within the output dataframe"
   ]
  },
  {
   "cell_type": "markdown",
   "metadata": {},
   "source": [
    "### Based on the model output, what proportion of the initially infected cohort died before recovering over the 4 week period?"
   ]
  },
  {
   "cell_type": "code",
   "execution_count": 5,
   "metadata": {},
   "outputs": [
    {
     "data": {
      "text/html": [
       "<table>\n",
       "<thead><tr><th scope=col>time</th><th scope=col>I</th><th scope=col>R</th><th scope=col>M</th></tr></thead>\n",
       "<tbody>\n",
       "\t<tr><td> 0          </td><td>1000000.0000</td><td>     0.00   </td><td>     0.0    </td></tr>\n",
       "\t<tr><td> 1          </td><td> 740818.2240</td><td> 86393.93   </td><td>172787.9    </td></tr>\n",
       "\t<tr><td> 2          </td><td> 548811.6238</td><td>150396.13   </td><td>300792.3    </td></tr>\n",
       "\t<tr><td> 3          </td><td> 406569.6441</td><td>197810.12   </td><td>395620.2    </td></tr>\n",
       "\t<tr><td> 4          </td><td> 301194.1295</td><td>232935.29   </td><td>465870.6    </td></tr>\n",
       "\t<tr><td> 5          </td><td> 223130.0332</td><td>258956.66   </td><td>517913.3    </td></tr>\n",
       "\t<tr><td> 6          </td><td> 165298.7445</td><td>278233.75   </td><td>556467.5    </td></tr>\n",
       "\t<tr><td> 7          </td><td> 122456.2989</td><td>292514.57   </td><td>585029.1    </td></tr>\n",
       "\t<tr><td> 8          </td><td>  90717.8284</td><td>303094.06   </td><td>606188.1    </td></tr>\n",
       "\t<tr><td> 9          </td><td>  67205.4086</td><td>310931.53   </td><td>621863.1    </td></tr>\n",
       "\t<tr><td>10          </td><td>  49786.9751</td><td>316737.67   </td><td>633475.3    </td></tr>\n",
       "\t<tr><td>11          </td><td>  36883.0919</td><td>321038.97   </td><td>642077.9    </td></tr>\n",
       "\t<tr><td>12          </td><td>  27323.6579</td><td>324225.45   </td><td>648450.9    </td></tr>\n",
       "\t<tr><td>13          </td><td>  20241.8599</td><td>326586.05   </td><td>653172.1    </td></tr>\n",
       "\t<tr><td>14          </td><td>  14995.5341</td><td>328334.82   </td><td>656669.6    </td></tr>\n",
       "\t<tr><td>15          </td><td>  11108.9626</td><td>329630.35   </td><td>659260.7    </td></tr>\n",
       "\t<tr><td>16          </td><td>   8229.7197</td><td>330590.09   </td><td>661180.2    </td></tr>\n",
       "\t<tr><td>17          </td><td>   6096.7248</td><td>331301.09   </td><td>662602.2    </td></tr>\n",
       "\t<tr><td>18          </td><td>   4516.5637</td><td>331827.81   </td><td>663655.6    </td></tr>\n",
       "\t<tr><td>19          </td><td>   3345.9518</td><td>332218.02   </td><td>664436.0    </td></tr>\n",
       "\t<tr><td>20          </td><td>   2478.7415</td><td>332507.09   </td><td>665014.2    </td></tr>\n",
       "\t<tr><td>21          </td><td>   1836.2963</td><td>332721.23   </td><td>665442.5    </td></tr>\n",
       "\t<tr><td>22          </td><td>   1360.3615</td><td>332879.88   </td><td>665759.8    </td></tr>\n",
       "\t<tr><td>23          </td><td>   1007.7803</td><td>332997.41   </td><td>665994.8    </td></tr>\n",
       "\t<tr><td>24          </td><td>    746.5819</td><td>333084.47   </td><td>666168.9    </td></tr>\n",
       "\t<tr><td>25          </td><td>    553.0813</td><td>333148.97   </td><td>666297.9    </td></tr>\n",
       "\t<tr><td>26          </td><td>    409.7326</td><td>333196.76   </td><td>666393.5    </td></tr>\n",
       "\t<tr><td>27          </td><td>    303.5373</td><td>333232.15   </td><td>666464.3    </td></tr>\n",
       "\t<tr><td>28          </td><td>    224.8659</td><td>333258.38   </td><td>666516.8    </td></tr>\n",
       "</tbody>\n",
       "</table>\n"
      ],
      "text/latex": [
       "\\begin{tabular}{r|llll}\n",
       " time & I & R & M\\\\\n",
       "\\hline\n",
       "\t  0           & 1000000.0000 &      0.00    &      0.0    \\\\\n",
       "\t  1           &  740818.2240 &  86393.93    & 172787.9    \\\\\n",
       "\t  2           &  548811.6238 & 150396.13    & 300792.3    \\\\\n",
       "\t  3           &  406569.6441 & 197810.12    & 395620.2    \\\\\n",
       "\t  4           &  301194.1295 & 232935.29    & 465870.6    \\\\\n",
       "\t  5           &  223130.0332 & 258956.66    & 517913.3    \\\\\n",
       "\t  6           &  165298.7445 & 278233.75    & 556467.5    \\\\\n",
       "\t  7           &  122456.2989 & 292514.57    & 585029.1    \\\\\n",
       "\t  8           &   90717.8284 & 303094.06    & 606188.1    \\\\\n",
       "\t  9           &   67205.4086 & 310931.53    & 621863.1    \\\\\n",
       "\t 10           &   49786.9751 & 316737.67    & 633475.3    \\\\\n",
       "\t 11           &   36883.0919 & 321038.97    & 642077.9    \\\\\n",
       "\t 12           &   27323.6579 & 324225.45    & 648450.9    \\\\\n",
       "\t 13           &   20241.8599 & 326586.05    & 653172.1    \\\\\n",
       "\t 14           &   14995.5341 & 328334.82    & 656669.6    \\\\\n",
       "\t 15           &   11108.9626 & 329630.35    & 659260.7    \\\\\n",
       "\t 16           &    8229.7197 & 330590.09    & 661180.2    \\\\\n",
       "\t 17           &    6096.7248 & 331301.09    & 662602.2    \\\\\n",
       "\t 18           &    4516.5637 & 331827.81    & 663655.6    \\\\\n",
       "\t 19           &    3345.9518 & 332218.02    & 664436.0    \\\\\n",
       "\t 20           &    2478.7415 & 332507.09    & 665014.2    \\\\\n",
       "\t 21           &    1836.2963 & 332721.23    & 665442.5    \\\\\n",
       "\t 22           &    1360.3615 & 332879.88    & 665759.8    \\\\\n",
       "\t 23           &    1007.7803 & 332997.41    & 665994.8    \\\\\n",
       "\t 24           &     746.5819 & 333084.47    & 666168.9    \\\\\n",
       "\t 25           &     553.0813 & 333148.97    & 666297.9    \\\\\n",
       "\t 26           &     409.7326 & 333196.76    & 666393.5    \\\\\n",
       "\t 27           &     303.5373 & 333232.15    & 666464.3    \\\\\n",
       "\t 28           &     224.8659 & 333258.38    & 666516.8    \\\\\n",
       "\\end{tabular}\n"
      ],
      "text/markdown": [
       "\n",
       "| time | I | R | M |\n",
       "|---|---|---|---|\n",
       "|  0           | 1000000.0000 |      0.00    |      0.0     |\n",
       "|  1           |  740818.2240 |  86393.93    | 172787.9     |\n",
       "|  2           |  548811.6238 | 150396.13    | 300792.3     |\n",
       "|  3           |  406569.6441 | 197810.12    | 395620.2     |\n",
       "|  4           |  301194.1295 | 232935.29    | 465870.6     |\n",
       "|  5           |  223130.0332 | 258956.66    | 517913.3     |\n",
       "|  6           |  165298.7445 | 278233.75    | 556467.5     |\n",
       "|  7           |  122456.2989 | 292514.57    | 585029.1     |\n",
       "|  8           |   90717.8284 | 303094.06    | 606188.1     |\n",
       "|  9           |   67205.4086 | 310931.53    | 621863.1     |\n",
       "| 10           |   49786.9751 | 316737.67    | 633475.3     |\n",
       "| 11           |   36883.0919 | 321038.97    | 642077.9     |\n",
       "| 12           |   27323.6579 | 324225.45    | 648450.9     |\n",
       "| 13           |   20241.8599 | 326586.05    | 653172.1     |\n",
       "| 14           |   14995.5341 | 328334.82    | 656669.6     |\n",
       "| 15           |   11108.9626 | 329630.35    | 659260.7     |\n",
       "| 16           |    8229.7197 | 330590.09    | 661180.2     |\n",
       "| 17           |    6096.7248 | 331301.09    | 662602.2     |\n",
       "| 18           |    4516.5637 | 331827.81    | 663655.6     |\n",
       "| 19           |    3345.9518 | 332218.02    | 664436.0     |\n",
       "| 20           |    2478.7415 | 332507.09    | 665014.2     |\n",
       "| 21           |    1836.2963 | 332721.23    | 665442.5     |\n",
       "| 22           |    1360.3615 | 332879.88    | 665759.8     |\n",
       "| 23           |    1007.7803 | 332997.41    | 665994.8     |\n",
       "| 24           |     746.5819 | 333084.47    | 666168.9     |\n",
       "| 25           |     553.0813 | 333148.97    | 666297.9     |\n",
       "| 26           |     409.7326 | 333196.76    | 666393.5     |\n",
       "| 27           |     303.5373 | 333232.15    | 666464.3     |\n",
       "| 28           |     224.8659 | 333258.38    | 666516.8     |\n",
       "\n"
      ],
      "text/plain": [
       "   time I            R         M       \n",
       "1   0   1000000.0000      0.00      0.0\n",
       "2   1    740818.2240  86393.93 172787.9\n",
       "3   2    548811.6238 150396.13 300792.3\n",
       "4   3    406569.6441 197810.12 395620.2\n",
       "5   4    301194.1295 232935.29 465870.6\n",
       "6   5    223130.0332 258956.66 517913.3\n",
       "7   6    165298.7445 278233.75 556467.5\n",
       "8   7    122456.2989 292514.57 585029.1\n",
       "9   8     90717.8284 303094.06 606188.1\n",
       "10  9     67205.4086 310931.53 621863.1\n",
       "11 10     49786.9751 316737.67 633475.3\n",
       "12 11     36883.0919 321038.97 642077.9\n",
       "13 12     27323.6579 324225.45 648450.9\n",
       "14 13     20241.8599 326586.05 653172.1\n",
       "15 14     14995.5341 328334.82 656669.6\n",
       "16 15     11108.9626 329630.35 659260.7\n",
       "17 16      8229.7197 330590.09 661180.2\n",
       "18 17      6096.7248 331301.09 662602.2\n",
       "19 18      4516.5637 331827.81 663655.6\n",
       "20 19      3345.9518 332218.02 664436.0\n",
       "21 20      2478.7415 332507.09 665014.2\n",
       "22 21      1836.2963 332721.23 665442.5\n",
       "23 22      1360.3615 332879.88 665759.8\n",
       "24 23      1007.7803 332997.41 665994.8\n",
       "25 24       746.5819 333084.47 666168.9\n",
       "26 25       553.0813 333148.97 666297.9\n",
       "27 26       409.7326 333196.76 666393.5\n",
       "28 27       303.5373 333232.15 666464.3\n",
       "29 28       224.8659 333258.38 666516.8"
      ]
     },
     "metadata": {},
     "output_type": "display_data"
    }
   ],
   "source": [
    "# Printing the full model output:\n",
    "output"
   ]
  },
  {
   "cell_type": "code",
   "execution_count": 6,
   "metadata": {},
   "outputs": [
    {
     "data": {
      "text/html": [
       "<table>\n",
       "<thead><tr><th></th><th scope=col>time</th><th scope=col>I</th><th scope=col>R</th><th scope=col>M</th></tr></thead>\n",
       "<tbody>\n",
       "\t<tr><th scope=row>29</th><td>28      </td><td>224.8659</td><td>333258.4</td><td>666516.8</td></tr>\n",
       "</tbody>\n",
       "</table>\n"
      ],
      "text/latex": [
       "\\begin{tabular}{r|llll}\n",
       "  & time & I & R & M\\\\\n",
       "\\hline\n",
       "\t29 & 28       & 224.8659 & 333258.4 & 666516.8\\\\\n",
       "\\end{tabular}\n"
      ],
      "text/markdown": [
       "\n",
       "| <!--/--> | time | I | R | M |\n",
       "|---|---|---|---|---|\n",
       "| 29 | 28       | 224.8659 | 333258.4 | 666516.8 |\n",
       "\n"
      ],
      "text/plain": [
       "   time I        R        M       \n",
       "29 28   224.8659 333258.4 666516.8"
      ]
     },
     "metadata": {},
     "output_type": "display_data"
    },
    {
     "data": {
      "text/html": [
       "0.666516756058322"
      ],
      "text/latex": [
       "0.666516756058322"
      ],
      "text/markdown": [
       "0.666516756058322"
      ],
      "text/plain": [
       "[1] 0.6665168"
      ]
     },
     "metadata": {},
     "output_type": "display_data"
    }
   ],
   "source": [
    "# Printing the output at timestep/day 28:\n",
    "output[output$time == 28,]\n",
    "\n",
    "# Divide the number of people who died over the 4 week period by the number of people initially infected:\n",
    "output[29,\"M\"]/1000000\n",
    "# Answer: proportion = 0.6665"
   ]
  },
  {
   "cell_type": "markdown",
   "metadata": {},
   "source": [
    "### Now use the competing hazards formula given in the video lecture to calculate the case fatality rate. Does this agree with your answer to the previous question?\n",
    "\n",
    "The formula is: \n",
    "\\begin{align}\n",
    "CFR = \\frac{\\mu}{\\mu+\\gamma} \n",
    "\\end{align}"
   ]
  },
  {
   "cell_type": "code",
   "execution_count": 7,
   "metadata": {},
   "outputs": [
    {
     "data": {
      "text/html": [
       "<strong>mu:</strong> 0.666666666666667"
      ],
      "text/latex": [
       "\\textbf{mu:} 0.666666666666667"
      ],
      "text/markdown": [
       "**mu:** 0.666666666666667"
      ],
      "text/plain": [
       "       mu \n",
       "0.6666667 "
      ]
     },
     "metadata": {},
     "output_type": "display_data"
    }
   ],
   "source": [
    "# Calculate this by referring to the values in the parameters vector:\n",
    "parameters[\"mu\"]/(parameters[\"mu\"]+parameters[\"gamma\"])\n",
    "# Answer: CFR = 0.6667\n",
    "# This is approximately the same as the case fatality rate observed in the model output. The agreement would be exact if we allowed the simulation to run for longer."
   ]
  },
  {
   "cell_type": "markdown",
   "metadata": {},
   "source": [
    "### Which value of $\\mu$ do you need to get a case fatality rate of 50% assuming $\\gamma$ stays fixed? \n",
    "\n",
    "Rearranging the CFR equation above to solve for $\\mu$ gives:\n",
    "\n",
    "\\begin{align}\n",
    "CFR = \\frac{\\mu}{\\mu+\\gamma} \\\\\n",
    "\\mu = CFR(\\mu+\\gamma) \\\\\n",
    "\\mu = \\mu CFR + \\gamma CFR \\\\\n",
    "\\mu - \\mu CFR = \\gamma CFR \\\\\n",
    "\\mu(1-CFR) = \\gamma CFR \\\\\n",
    "\\mu = \\frac{\\gamma CFR}{1-CFR}\n",
    "\\end{align}\n",
    "\n",
    "Calculating *mu* with CFR = 0.50 and *gamma* = 0.1:\n",
    "\n",
    "\\begin{align}\n",
    "\\mu = \\frac{0.1 * 0.50}{1-0.50} \\\\\n",
    "\\mu = 0.1\n",
    "\\end{align}\n",
    "\n",
    "This makes sense! If $\\mu$ and $\\gamma$ are equal, then they represent two competing hazards that are also equal. Thus, half of people die and half recover, so the case fatality rate is 50%.\n",
    "\n",
    "Double-check this by modifying the code to simulate the model using these parameters:"
   ]
  },
  {
   "cell_type": "code",
   "execution_count": 8,
   "metadata": {},
   "outputs": [
    {
     "data": {
      "text/html": [
       "0.498151074699568"
      ],
      "text/latex": [
       "0.498151074699568"
      ],
      "text/markdown": [
       "0.498151074699568"
      ],
      "text/plain": [
       "[1] 0.4981511"
      ]
     },
     "metadata": {},
     "output_type": "display_data"
    }
   ],
   "source": [
    "# The only thing we are changing is mu, so we only need to update the parameters vector and solve the model with this\n",
    "parameters <- c(gamma = 0.1, mu = 0.1)\n",
    "\n",
    "output <- as.data.frame(ode(y = initial_state_values, \n",
    "                            times = times, \n",
    "                            func = cohort_model,\n",
    "                            parms = parameters))\n",
    "\n",
    "# Calculate the case fatality rate:\n",
    "output[29,\"M\"]/1000000\n",
    "\n",
    "# This indeed gives us approximately 0.50"
   ]
  },
  {
   "cell_type": "markdown",
   "metadata": {},
   "source": [
    "Again we can plot the output and compare it with what we got with our previous parameters:"
   ]
  },
  {
   "cell_type": "code",
   "execution_count": 9,
   "metadata": {},
   "outputs": [
    {
     "data": {
      "image/png": "[encoded data removed]",
      "text/plain": [
       "plot without title"
      ]
     },
     "metadata": {},
     "output_type": "display_data"
    }
   ],
   "source": [
    "output_long <- melt(as.data.frame(output), id = \"time\")                  # turn output dataset into long format\n",
    "\n",
    "ggplot(data = output_long,                                               # specify object containing data to plot\n",
    "       aes(x = time, y = value, colour = variable, group = variable)) +  # assign columns to axes and groups\n",
    "  geom_line() +                                                          # represent data as lines\n",
    "  xlab(\"Time (days)\")+                                                   # add label for x axis\n",
    "  ylab(\"Number of people\") +                                             # add label for y axis\n",
    "  labs(colour = \"Compartment\")                                           # add legend title                         "
   ]
  },
  {
   "cell_type": "markdown",
   "metadata": {},
   "source": [
    "As you notice, we only see red and blue lines here representing the number of people in the I and M compartment, despite having plotted all 3 compartments. This is just because, with $\\mu$ = $\\gamma$ and R(0) = M(0) (the initial number recovered and deceased), the number of recovered and deceased people is identical at each timestep so the lines completely overlap."
   ]
  },
  {
   "cell_type": "code",
   "execution_count": null,
   "metadata": {},
   "outputs": [],
   "source": []
  }
 ],
 "metadata": {
  "kernelspec": {
   "display_name": "R",
   "language": "R",
   "name": "ir"
  },
  "language_info": {
   "codemirror_mode": "r",
   "file_extension": ".r",
   "mimetype": "text/x-r-source",
   "name": "R",
   "pygments_lexer": "r",
   "version": "3.5.1"
  }
 },
 "nbformat": 4,
 "nbformat_minor": 2
}

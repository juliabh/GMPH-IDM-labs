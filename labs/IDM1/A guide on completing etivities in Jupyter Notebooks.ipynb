{
 "cells": [
  {
   "cell_type": "markdown",
   "metadata": {},
   "source": [
    "# A guide on completing etivities in Jupyter Notebooks\n",
    "\n",
    "All coding etivities in this course use the R programming language, built into a third-party interface called Jupyter Notebooks. This document you are reading right now is a Jupyter notebook! This interface has the advantage that we can write out the instructions and explanations, but also give you an interactive space for coding. You can work on this online, without having to download any software.\n",
    "\n",
    "### How to use R in Jupyter notebooks to complete etivities\n",
    "\n",
    "Jupyter notebooks are documents which can include text, code chunks (also called \"cells\"), and code output - e.g.  plots. A cell looks like this:"
   ]
  },
  {
   "cell_type": "code",
   "execution_count": null,
   "metadata": {},
   "outputs": [],
   "source": [
    "# This is a code cell"
   ]
  },
  {
   "cell_type": "markdown",
   "metadata": {},
   "source": [
    "Within the cell is an R script. For example, the cell above only contains a comment (which start with # in R). Below is an example with actual content: this code saves the text \"this is an example\" into a variable called \"example\". So far, this code has only been written - to do anything with it, you need to execute it or **run** the cell. To do this, click on the cell and then click on the \"Run\" button at the top of the page."
   ]
  },
  {
   "cell_type": "code",
   "execution_count": null,
   "metadata": {},
   "outputs": [],
   "source": [
    "example <- \"this is an example\""
   ]
  },
  {
   "cell_type": "markdown",
   "metadata": {},
   "source": [
    "You should see that after running the code chunk, a number appears on the left in the In[] brackets. Every time you run a cell, this number will increase by 1. This way, you can see if you have already executed a code chunk or not.\n",
    "\n",
    "Throughout a session, the notebook \"remembers\" the code you have run. This means we now have a variable with some content in it saved, and we can refer to it in a different cell.\n",
    "\n",
    "Since we only saved some information into the \"example\" variable so far, there was no output when running the previous cell. Now, have a look at how output appears in a notebook, by running the cell below:"
   ]
  },
  {
   "cell_type": "code",
   "execution_count": null,
   "metadata": {},
   "outputs": [],
   "source": [
    "print(example)"
   ]
  },
  {
   "cell_type": "markdown",
   "metadata": {},
   "source": [
    "Running this command prints the content of the \"example\" variable (\"this is an example\") below the code chunk. This is how all output is displayed in Jupyter notebooks. For example, running the following cell will first save a dataframe with some data in it and then display a simple plot."
   ]
  },
  {
   "cell_type": "code",
   "execution_count": null,
   "metadata": {},
   "outputs": [],
   "source": [
    "df <- data.frame(x = 1:5, y = 1:5)\n",
    "plot(x = df$x, y = df$y)"
   ]
  },
  {
   "cell_type": "markdown",
   "metadata": {},
   "source": [
    "Whenever you work on a notebook, Coursera will store your work within that notebook - you should save your progress regularly by pressing the Save icon at the top. \n",
    "\n",
    "This is the main thing you need to know to complete etivities in this course. We give you the etivity instructions written within an interactive Jupyter notebook, interspersed with cells where you can fill in your own code. The solution file to each etivity is provided as a non-interactive \"read-only\" notebook - this means it will look the same as a notebook, but you cannot make changes to the code. \n",
    "\n",
    "### Other useful commands\n",
    "\n",
    "If you want to delete any stored information, you can revert all your executed code by clicking \"Kernel\" at the top, and then select the \"Restart & Clear Output\" drop-down option. This will leave all your code written in the cells, but you have to start running it again from the beginning. Altneratively, at the end of an etivity you can chose the \"Restart & Run All\" option, to run the complete code in the entire notebook from the beginning. These options can be useful if at any point you overwrite the content of a variable for example - the notebook will always store the content specified in the cell you executed/ran most recently!\n",
    "\n",
    "### Help and further information\n",
    "\n",
    "There are more options in working with Jupyter notebooks on Coursera, such as copying a file or downloading the etivities. You can find further information on this here:  \n",
    "https://learner.coursera.help/hc/en-us/articles/360004995312-Solve-problems-with-Jupyter-Notebooks"
   ]
  }
 ],
 "metadata": {
  "kernelspec": {
   "display_name": "R",
   "language": "R",
   "name": "ir"
  },
  "language_info": {
   "codemirror_mode": "r",
   "file_extension": ".r",
   "mimetype": "text/x-r-source",
   "name": "R",
   "pygments_lexer": "r",
   "version": "3.5.1"
  }
 },
 "nbformat": 4,
 "nbformat_minor": 2
}

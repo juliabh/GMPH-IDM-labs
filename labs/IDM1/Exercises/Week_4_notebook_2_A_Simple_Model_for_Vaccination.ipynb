{
 "cells": [
  {
   "cell_type": "markdown",
   "metadata": {},
   "source": [
    "# A simple model for vaccination"
   ]
  },
  {
   "cell_type": "markdown",
   "metadata": {},
   "source": [
    "In this etivity, we are going back to the simple SIR model from week 3, without births or deaths, to look at the effect of vaccination. The aim of this etivity is to represent vaccination in a very simple way - we are assuming it already happened before we run our model! By changing the initial conditions, we can prepare the population so that it has received a certain coverage of vaccination. Even though this is very simplistic, it will allow us to study some important effects of vaccination on the infection dynamics.\n",
    "\n",
    "We are starting with the transmission and recovery parameters *beta* = 0.4 days$^{-1}$ and *gamma* = 0.1 days $^{-1}$. To incorporate immunity from vaccination in the model, we assume that a proportion *p* of the total population starts in the recovered compartment, representing the vaccine coverage and assuming the vaccine is perfectly effective. Again, we assume the epidemic starts with a single infected case introduced into the population.\n",
    "\n",
    "Model this scenario for a duration of 2 years, assuming that the vaccine coverage is 50%, and plot the prevalence in each compartment over time. Confirm that you observe an epidemic peaking at around 125 days after introduction of the infectious person in the population. Also have a look at the proportion susceptible and recovered, to double-check this looks like what you would expect given your initial conditions.\n",
    "\n",
    "### Question: Does everyone in the population need to be vaccinated in order to prevent an epidemic? What do you observe if you model the infection dynamics with different values for *p*? Can you explain why?"
   ]
  },
  {
   "cell_type": "code",
   "execution_count": 1,
   "metadata": {},
   "outputs": [],
   "source": [
    "### YOUR CODE GOES HERE ###"
   ]
  },
  {
   "cell_type": "markdown",
   "metadata": {},
   "source": [
    "Hopefully, you have seen that once a certain proportion of the population is immune, no epidemic occurs. This is called the **critical vaccination threshold** or **herd immunity threshold**.\n",
    "\n",
    "Now, use your code above to investigate how the herd immunity threshold changes if we are modelling a disease with a different infection and recovery rate. \n",
    "\n",
    "### Question: What proportion of the population needs to be vaccinated in order to prevent an epidemic if *beta* = 0.4 and *gamma* = 0.2 days$^{-1}$? What if *beta* = 0.6 and *gamma* = 0.1 days$^{-1}$?\n",
    "\n",
    "As you can see, the proportion of the population that needs to be vaccinated varies with different infection-related parameters. Think about why that is so in the context of herd immunity, and what is different between the scenarios you have just modelled. \n",
    "\n",
    "### Question: Remember that vaccination changes the effective reproduction number, by reducing the number of people who are susceptible. Based on your answers to the previous questions, can you use the formula for the effective reproduction number R<sub>eff</sub> to derive a formula for calculating the critical vaccination threshold?"
   ]
  }
 ],
 "metadata": {
  "kernelspec": {
   "display_name": "R",
   "language": "R",
   "name": "ir"
  }
 },
 "nbformat": 4,
 "nbformat_minor": 2
}

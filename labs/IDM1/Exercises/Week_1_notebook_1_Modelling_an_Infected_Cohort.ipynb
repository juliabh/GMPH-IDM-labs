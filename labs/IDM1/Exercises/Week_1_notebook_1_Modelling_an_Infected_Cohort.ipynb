{
 "cells": [
  {
   "cell_type": "markdown",
   "metadata": {},
   "source": [
    "# Modelling an infected cohort"
   ]
  },
  {
   "cell_type": "markdown",
   "metadata": {},
   "source": [
    "In this etivity, you will code your first simple model and use it to answer a research question. To get used to the format for models in R, we'll start by giving you some parts of the code, and you need to fill in the missing numbers or code blocks by replacing the *#YOUR CODE#* placeholders. At the end of each etivity, we'll provide a solution file that contains the full code, annotated with comments. Make sure you understand each line, and soon you'll be able to write your own model from scratch!\n",
    "\n",
    "If you need to brush up on your R, there is the R reference prepared for this specialisation, which you can access at any time in the course resoureces, as well as the worked example for ```ode()```. Refer to these whenever you need.\n",
    "\n",
    "Your task is to find out how long it takes for\n",
    "a cohort of infected people to recover. As you saw in the video,\n",
    "to answer this question you need to keep track of 2 populations: \n",
    "those that are infected (compartment I), and those that have recovered (compartment R). \n",
    "Infected people recover at a rate $\\gamma$ (*gamma*). The differential equations describing this are:\n",
    "\n",
    "\\begin{align}\n",
    "\\frac{dI}{dt} & = -\\gamma I \\\\\n",
    "\\frac{dR}{dt} & = \\gamma I\n",
    "\\end{align}"
   ]
  },
  {
   "cell_type": "markdown",
   "metadata": {},
   "source": [
    "Load the packages which you need for this etivity, by running the following cell:"
   ]
  },
  {
   "cell_type": "code",
   "execution_count": 1,
   "metadata": {},
   "outputs": [],
   "source": [
    "library(deSolve)   # package to solve the model\n",
    "library(reshape2)  # package to change the shape of the model output\n",
    "library(ggplot2)   # package for plotting"
   ]
  },
  {
   "cell_type": "markdown",
   "metadata": {},
   "source": [
    "To start, it is useful to code what we know about the situation we want to model.\n",
    "We are looking at a cohort of 10$^6$ currently infected people, and no one has recovered so far. The average duration of infection is 10 days. The question we want to answer is how many people will recover from the infection over a 4-week period.\n",
    "\n",
    "Given this data, fill in the correct values to the following variables, and run the cell:"
   ]
  },
  {
   "cell_type": "code",
   "execution_count": null,
   "metadata": {},
   "outputs": [],
   "source": [
    "initial_number_infected <- #YOUR CODE#   # the initial infected population size\n",
    "initial_number_recovered <- #YOUR CODE#  # the initial number of people in the recovered state\n",
    "recovery_rate <- #YOUR CODE#             # the rate of recovery gamma, in units of days^-1\n",
    "follow_up_duration <- #YOUR CODE#        # the duration to run the model for, in units of days\n",
    "  \n",
    "# Hint: the units of the recovery rate and the follow-up duration should be consistent."
   ]
  },
  {
   "cell_type": "markdown",
   "metadata": {},
   "source": [
    "Now, we combine this data into objects that are recognised by the deSolve package as **model input**. To do this, again run the code below."
   ]
  },
  {
   "cell_type": "code",
   "execution_count": null,
   "metadata": {},
   "outputs": [],
   "source": [
    "# The initial state values are stored as a vector and each value is assigned a name.\n",
    "initial_state_values <- c(I = initial_number_infected, \n",
    "                          R = initial_number_recovered)\n",
    "\n",
    "# Parameters are also stored as a vector with assigned names and values. \n",
    "parameters <- c(gamma = recovery_rate)  \n",
    "# In this case we only have one parameter, gamma."
   ]
  },
  {
   "cell_type": "markdown",
   "metadata": {},
   "source": [
    "Think about: what kind of information is stored in the ```initial_state_values``` and ```parameters``` vectors?\n",
    "\n",
    "Additionally, we need to specify the time we want the model to run for. This depends on the question we want to answer. In the cell below, the duration you specified earlier is automatically filled in when you run it."
   ]
  },
  {
   "cell_type": "code",
   "execution_count": null,
   "metadata": {},
   "outputs": [],
   "source": [
    "# The times vector creates a sequence of timepoints at which we want to calculate the number of people \n",
    "# in the I and R compartment.\n",
    "times <- seq(from = 0, to = follow_up_duration, by = 1) "
   ]
  },
  {
   "cell_type": "markdown",
   "metadata": {},
   "source": [
    "Think about: what kind of information is stored in the ```times``` vector?\n",
    "\n",
    "Check your answers by having a look at each of these vectors to familiarise yourself with the structure: in the following code cell we have typed the object names, so you just need to press \"Run\" to see what each of them contains."
   ]
  },
  {
   "cell_type": "code",
   "execution_count": null,
   "metadata": {},
   "outputs": [],
   "source": [
    "initial_state_values\n",
    "parameters\n",
    "times"
   ]
  },
  {
   "cell_type": "markdown",
   "metadata": {},
   "source": [
    "The next step is specifying the model. Using the example code in the introductory document, complete the following model function with the differential equations above."
   ]
  },
  {
   "cell_type": "code",
   "execution_count": null,
   "metadata": {},
   "outputs": [],
   "source": [
    "cohort_model <- function(time, state, parameters) { \n",
    "  \n",
    "    with(as.list(c(state, parameters)), {\n",
    "      \n",
    "      dI <- #YOUR CODE#\n",
    "      dR <- #YOUR CODE#\n",
    "      \n",
    "      return(list(c(dI, dR)))\n",
    "    })\n",
    "  \n",
    "}"
   ]
  },
  {
   "cell_type": "markdown",
   "metadata": {},
   "source": [
    "Now all there's left to do is solving this set of equations using the deSolve package. Fill in the following command, which calculates and stores the number of infected and recovered people at each timestep in the ```output``` dataframe. Don't forget to run it!"
   ]
  },
  {
   "cell_type": "code",
   "execution_count": 1,
   "metadata": {},
   "outputs": [],
   "source": [
    "# Hint: if you can't remember what those arguments correspond to, just look up the ode help file:\n",
    "?ode"
   ]
  },
  {
   "cell_type": "code",
   "execution_count": null,
   "metadata": {},
   "outputs": [],
   "source": [
    "output <- as.data.frame(ode(y = #YOUR CODE#, \n",
    "                            times = #YOUR CODE#, \n",
    "                            func = #YOUR CODE#,\n",
    "                            parms = #YOUR CODE#))"
   ]
  },
  {
   "cell_type": "markdown",
   "metadata": {},
   "source": [
    "Printing the **model output** returns a dataframe with columns ```time``` (containing our times vector), ```I``` (containing the number of infected people at each timestep) and ```R``` (containing the number of recovered people at each timestep):"
   ]
  },
  {
   "cell_type": "code",
   "execution_count": null,
   "metadata": {},
   "outputs": [],
   "source": [
    "output"
   ]
  },
  {
   "cell_type": "markdown",
   "metadata": {},
   "source": [
    "### Question: Based on the output, how many people have recovered after 4 weeks? What proportion of the total population does this correspond to?\n",
    "\n",
    "Now, plot your model output in the following cell, with time on the x axis and the number of infected and recovered people on the y axis.  You can use the introductory document for help with this."
   ]
  },
  {
   "cell_type": "code",
   "execution_count": null,
   "metadata": {
    "scrolled": true
   },
   "outputs": [],
   "source": [
    "# First turn the output dataset into a long format, so that the number in each compartment at each timestep\n",
    "# are all in the same column\n",
    "output_long <- melt(as.data.frame(output), id = \"time\")                  \n",
    "\n",
    "# Plot the number of people in each compartment over time\n",
    "ggplot(data = #YOUR CODE#,                                               # specify object containing data to plot\n",
    "       aes(#YOUR CODE#)) +                                               # assign columns to axes and groups\n",
    "  geom_line() +                                                          # represent data as lines\n",
    "  xlab(\"Time (days)\")+                                                   # add label for x axis\n",
    "  ylab(\"Number of people\")                                               # add label for y axis"
   ]
  },
  {
   "cell_type": "markdown",
   "metadata": {},
   "source": [
    "### Question: Based on the plot, at what timepoint were infected and recovered individuals equal in number?\n",
    "\n",
    "For the last part of the etivity, try varying $\\gamma$ to see how it affects the output. For example, in the cell below change ```gamma``` ($\\gamma$) to correspond to an average infectious period of:  \n",
    "a) 2 days  \n",
    "b) 20 days. \n",
    "\n",
    "What is the recovery rate in these 2 cases?"
   ]
  },
  {
   "cell_type": "code",
   "execution_count": null,
   "metadata": {},
   "outputs": [],
   "source": [
    "parameters <- c(gamma = #YOUR CODE#)\n",
    "output <- #COPY-PASTE CODE FROM ABOVE#\n",
    "                \n",
    "# Since the initial number in each compartment and the timesteps of interest haven't changed, \n",
    "# these are the only parts of the code we need to rerun.\n",
    "\n",
    "# Now, copy-paste your plot code from above here to visualise the output."
   ]
  },
  {
   "cell_type": "markdown",
   "metadata": {},
   "source": [
    "### Question: What changes do you observe in the transition to the recovered compartment if $\\gamma$ is higher or lower? For example, how long does it take for everyone to recover in both cases?\n",
    "\n",
    "## Well done on writing your first model code. Now, check the solutions!\n",
    "Once you are done with an etivity, the Solutions item will be unlocked, or you can open the \"Solutions\" folder in your Jupyter workspace. In this folder, you will find feedback and model code for all the coding etivities throughout the course. After completing an exercise, you should always carefully compare your answers and code with the solutions! It is especially important to get the coding right from the start, because we are building on the same modelling framework throughout the course. Additionally, the solution files sometimes contain further information that will help you deepen your understanding of the lesson.  \n",
    "To make the most of the learning experience, we always recommend trying to complete the whole etivity before checking the solutions - but if you are stuck at any point, they can also help you to move on to the next part."
   ]
  },
  {
   "cell_type": "code",
   "execution_count": null,
   "metadata": {},
   "outputs": [],
   "source": []
  }
 ],
 "metadata": {
  "kernelspec": {
   "display_name": "R",
   "language": "R",
   "name": "ir"
  },
  "language_info": {
   "codemirror_mode": "r",
   "file_extension": ".r",
   "mimetype": "text/x-r-source",
   "name": "R",
   "pygments_lexer": "r",
   "version": "3.5.1"
  }
 },
 "nbformat": 4,
 "nbformat_minor": 2
}

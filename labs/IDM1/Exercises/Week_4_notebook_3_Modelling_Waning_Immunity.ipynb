{
 "cells": [
  {
   "cell_type": "markdown",
   "metadata": {},
   "source": [
    "# Modelling waning immunity"
   ]
  },
  {
   "cell_type": "markdown",
   "metadata": {},
   "source": [
    "In the last 2 etivities, you gained a better understanding of how susceptibility in a population can change independently of the epidemic - first through population turnover, then through vaccination. So far we have only modelled immunising infections where recovered or vaccinated individuals are permamently immune to (re)infection. However, many infections only provide temporary immunity after recovery - immunity can wane over time, returning those previously infected (or vaccinated) individuals to the susceptible pool. This is the scenario you will explore in this etivity. \n",
    "\n",
    "Go back to your simple SIR model from week 3, assuming no births or deaths and a totally susceptible population with the exception of 1 infected individual. The infection and recovery rates are 0.4 and 0.2 days$^{-1}$ respectively, and the average duration of immunity is 10 years.\n",
    "\n",
    "### Question: What is the value of the waning rate $\\sigma$? Draw a diagram for this model structure on paper. \n",
    "\n",
    "Code this model below, making sure to make an appropriate choice for the duration to run the model for and the intervals to solve the equations at. Generate a plot to study the infection dynamics.\n",
    "\n",
    "### Question: What do you observe about the infection dynamics? How does this compare to the model with population turnover from the first notebook this week? \n",
    "\n",
    "Also try to think of this in the context of informing disease control measures, which is usually the aim of using mathematical models for infectious diseases. Imagine the immunity you see building up in the population after the first outbreak here is actually due to vaccination (you should see that after about 3 months, 78% of the population are immune).\n",
    "\n",
    "### Question: In this case, what implications would this have for a vaccination programme against this disease?"
   ]
  },
  {
   "cell_type": "code",
   "execution_count": null,
   "metadata": {},
   "outputs": [],
   "source": [
    "### YOUR CODE GOES HERE ###"
   ]
  },
  {
   "cell_type": "markdown",
   "metadata": {},
   "source": [
    "Now, copy-paste your code below to model a scenario where the immunity provided by infection is much more short-lived, only lasting 6 months on average.\n",
    "\n",
    "### Question: What do you observe about the infection dynamics? How does this compare to the model with slow waning of immunity, and with population turnover?"
   ]
  },
  {
   "cell_type": "code",
   "execution_count": null,
   "metadata": {},
   "outputs": [],
   "source": [
    "### YOUR CODE GOES HERE ###"
   ]
  },
  {
   "cell_type": "markdown",
   "metadata": {},
   "source": [
    "Lastly, in the previous example, change the initial conditions to represent an endemic infection rather than introduction of a single infected case into the population. Assume an endemic prevalence of 10% and that 60% of the population are already immune at the first timestep. Adapt this in the code above.\n",
    "\n",
    "### Question: What do you observe about the infection dynamics if you change the initial state values?"
   ]
  }
 ],
 "metadata": {
  "kernelspec": {
   "display_name": "R",
   "language": "R",
   "name": "ir"
  }
 },
 "nbformat": 4,
 "nbformat_minor": 2
}

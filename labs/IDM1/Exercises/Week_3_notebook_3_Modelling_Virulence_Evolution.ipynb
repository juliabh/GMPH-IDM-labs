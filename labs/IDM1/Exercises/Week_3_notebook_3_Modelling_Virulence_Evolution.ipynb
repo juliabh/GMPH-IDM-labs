{
 "cells": [
  {
   "cell_type": "markdown",
   "metadata": {},
   "source": [
    "# Modelling virulence evolution"
   ]
  },
  {
   "cell_type": "markdown",
   "metadata": {},
   "source": [
    "In week 2, you started thinking about the factors driving epidemic growth and decline, and have since gained insight into the fundamental drivers of epidemics. In this etivity you will explore alternative forms for disease natural history, by focusing on one specific factor you might have thought of: the **virulence** of a pathogen, which represents the severity of disease caused by a pathogen.\n",
    "\n",
    "In this etivity you will build on the basic SIR framework, to model a simple example of the 'trade-off hypothesis'. Under this hypothesis, a pathogen needs to cause some virulence in order to transmit from one host to another (for example, respiratory infections often spread by coughing and sneezing). However, too much virulence and the host may die too quickly to infect others. \n",
    "\n",
    "So if $\\beta$ is the per-capita rate of infection and $\\mu$ is the per-capita rate of disease-induced mortality, then both parameters are no longer fixed constants, but now depend on the virulence. \n",
    "\n",
    "In this exercise, we will consider a model of virulence in which transmissibility (represented by $\\beta$) and disease-induced mortality (represented by $\\mu$) are linked to each other through the virulence parameter $x$, where $x$ > 0, and a larger $x$ corresponds to higher virulence. Let us assume, for $\\beta$ and $\\mu$, that:\n",
    "\n",
    "\\begin{align}\n",
    "\\beta & = \\beta_0 \\times x \\\\\n",
    "\\mu & = \\mu_0 \\times x^2\n",
    "\\end{align}\n",
    "\n",
    "where $\\beta_0$ and $\\mu_0$ are fixed parameters. \n",
    "\n",
    "In the cell below, fill in the #YOUR CODE# placeholders, assuming that $\\beta_0$ = 1.5 per day, the average duration of infection before recovering is 4 days and $\\mu_0$ = 1 per day. Then, use the SIR model code you developed in previous etivities, and include a transition for disease-induced mortality $\\mu$, which acts on those infected. Use this model to plot the prevalence of infection and explore the effect of different values for $x$. Your task is to explore the behaviour of this alternative expression of the model parameters and find the optimal virulence for spreading in a population with no prior immunity.\n",
    "\n",
    "### Question: What value of $x$ produces the biggest epidemics?\n",
    "\n",
    "### Optional question: Can you mathematically derive the optimal value of $x$ for any value of $\\beta_0$, $\\gamma$ and $\\mu_0$?"
   ]
  },
  {
   "cell_type": "code",
   "execution_count": null,
   "metadata": {},
   "outputs": [],
   "source": [
    "x <- #YOUR CODE# \n",
    "\n",
    "# Vector storing the parameters describing the transition rates in units of days^-1\n",
    "parameters <- c(beta = #YOUR CODE#,      # infection rate\n",
    "                gamma = #YOUR CODE#,     # recovery rate\n",
    "                mu = #YOUR CODE#)        # disease-induced mortality rate"
   ]
  },
  {
   "cell_type": "code",
   "execution_count": null,
   "metadata": {},
   "outputs": [],
   "source": [
    "### YOUR CODE GOES HERE ###"
   ]
  }
 ],
 "metadata": {
  "kernelspec": {
   "display_name": "R",
   "language": "R",
   "name": "ir"
  }
 },
 "nbformat": 4,
 "nbformat_minor": 2
}

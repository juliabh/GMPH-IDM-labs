{
 "cells": [
  {
   "cell_type": "markdown",
   "metadata": {},
   "source": [
    "# SIR Model with a Constant Force of Infection"
   ]
  },
  {
   "cell_type": "markdown",
   "metadata": {},
   "source": [
    "In the last 2 etivities, you have learnt how you can represent differential equations in R through the use of the deSolve package. In this etivity you will use this skill to start coding a simplified SIR model within R. Let's recap first what an SIR model is: \n",
    "\n",
    "<img src=\"../GraphicsAndData/w1_nb3_model_diagram.png\">\n",
    "\n",
    "The differential equations for this system are:\n",
    "\n",
    "\\begin{align}\n",
    "\\frac{dS}{dt} & = -\\lambda S \\\\\n",
    "\\frac{dI}{dt} & = \\lambda S - \\gamma I \\\\\n",
    "\\frac{dR}{dt} & = \\gamma I\n",
    "\\end{align}\n",
    "\n",
    "We can use the SIR model to describe a disease that can be split into 3 states: susceptible (S), infected (I), or recovered (R). All those infected are infectious, and all those recovered are immune, so they cannot get the disease again.\n",
    "\n",
    "One part of this model should already be very familiar to you! The transition from I to R is what we explored in etivity 1. The new addition is the susceptibles in compartment S. As you learnt in the lecture, depending on how many people in the population are infectious, susceptible people experience a force of infection $\\lambda$ (*lambda*), which is the transition rate at which they become infected.\n",
    "\n",
    "In this etivity, we are trying to simulate an outbreak of a new infectious disease that our population of 10$^{6}$ people has not been exposed to before. This means that we are starting with a single case, everyone else is susceptible to the disease, and no one is yet immune or recovered. This can for example reflect a situation where an infected person introduces a new disease into a geographically isolated population, like on an island, or even when an infections \"spill over\" from other animals into a human population. In terms of the initial conditions for our model, we can define: S = 10$^{6}$-1 = 999999, I = 1 and R = 0. \n",
    "\n",
    "Now it's your turn to write and solve this model in R, assuming a constant force of infection of 0.2 days$^{-1}$. Like in the first coding etivity, the infection has an average duration of 10 days, but this time we want to run the model for 60 days. Try to write the whole code by yourself - but if you have trouble remembering how, just go back to the etivity 1 solution to check. We have also added some hints in the cell below, to help you remember which different parts are required. As you go along, it is good practice to add your own comments to every part, explaining what the code is for. When you're done writing the code and the comments, run it and print the output to double-check that everything works."
   ]
  },
  {
   "cell_type": "code",
   "execution_count": null,
   "metadata": {},
   "outputs": [],
   "source": [
    "# LOAD THE PACKAGES:\n",
    "\n",
    "### YOUR CODE GOES HERE ###\n",
    "\n",
    "# MODEL INPUTS:\n",
    "\n",
    "### YOUR CODE GOES HERE ###\n",
    "\n",
    "# TIMESTEPS:\n",
    "\n",
    "### YOUR CODE GOES HERE ###\n",
    "\n",
    "# SIR MODEL FUNCTION \n",
    "# We are renaming this to sir_model. \n",
    "# Remember to include the input arguments, differential equations and output objects here.\n",
    "\n",
    "sir_model <- #YOUR CODE#\n",
    "\n",
    "# MODEL OUTPUT (solving the differential equations):\n",
    "\n",
    "### YOUR CODE GOES HERE ###"
   ]
  },
  {
   "cell_type": "markdown",
   "metadata": {},
   "source": [
    "In the following cell, plot the number of people in each compartment over time. You should see that at the peak of the epidemic, around 500000 people are infected."
   ]
  },
  {
   "cell_type": "code",
   "execution_count": null,
   "metadata": {},
   "outputs": [],
   "source": [
    "# Plot:\n",
    "\n",
    "### YOUR CODE GOES HERE ###"
   ]
  },
  {
   "cell_type": "markdown",
   "metadata": {},
   "source": [
    "### Question: based on the plot, describe the pattern of the epidemic over the 2 month period. How does the number of people in the susceptible, infected and recovered compartments change over time? After how many days does the epidemic reach its peak? When does it end?"
   ]
  },
  {
   "cell_type": "markdown",
   "metadata": {},
   "source": [
    "In this etivity you have coded your first simple SIR model - good job! This is what we will be building on as the models get more complex over the course of the specialisations. The nice thing is that the general structure of the R code stays the same no matter how complex the model gets, so you can keep reusing and modifying the code you developed here! For this reason we have provided an empty file called \"model_function_code.R\" in your workspace, which you can copy-paste your code into **after double-checking it is correct with the solution file in the \"Solutions\" folder**. You can then always go back to it and copy-paste it into the next etivity files to adapt."
   ]
  }
 ],
 "metadata": {
  "kernelspec": {
   "display_name": "R",
   "language": "R",
   "name": "ir"
  },
  "language_info": {
   "codemirror_mode": "r",
   "file_extension": ".r",
   "mimetype": "text/x-r-source",
   "name": "R",
   "pygments_lexer": "r",
   "version": "3.5.1"
  }
 },
 "nbformat": 4,
 "nbformat_minor": 2
}

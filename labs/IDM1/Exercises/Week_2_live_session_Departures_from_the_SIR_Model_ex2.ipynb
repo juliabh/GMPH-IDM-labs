{
 "cells": [
  {
   "cell_type": "markdown",
   "metadata": {},
   "source": [
    "# Group work: Departures from the SIR model"
   ]
  },
  {
   "cell_type": "markdown",
   "metadata": {},
   "source": [
    "## Exercise 2: Coding exercise\n",
    "\n",
    "In this group work, you will explore several other model structures and investigate how different assumptions about the natural history of a disease can influence model outputs. For each of the three model structures and corresponding parameter values shown below, R<sub>0</sub> = 2. Look at these and, within your group, first discuss questions 1-3. Then, choose one model for each member of your group to code. Based on questions 4 and 5, compare your model outputs to each other. \n",
    "    \n",
    "### 1) For each model structure, write down the differential equations on paper and confirm that everyone specified the same equations. Compare the model structures, forces of infection and information on parameters: what are the different assumptions underlying each? \n",
    "\n",
    "### 2) Together, interpret and write down what each parameter represents in the different models, and calculate the missing parameter values based on the given information.\n",
    "\n",
    "### 3) Which model outputs might you want to look at and compare? \n",
    "\n",
    "### 4) In the cell below, write the code for your chosen model structure, and plot the number of people in each compartment over time. \n",
    "\n",
    "### 5) Compare the outputs for the three models: what are the differences and why might they arise, given that in each case we are modelling an infection with an R<sub>0</sub>=2?\n",
    "\n",
    "*Hint: For each of the three models, you could consider generating additional plots to explore the effect of varying parameter values on the model output.  Observing how the transmission dynamics are affected by higher or lower values of $r$ (model 1), $p$ (model 2) and $\\delta$ (model 3) might give you insights into why some outputs from the three model structures are different.*"
   ]
  },
  {
   "cell_type": "markdown",
   "metadata": {},
   "source": [
    "## Model structures\n",
    "\n",
    "### MODEL 1: SEIR model\n",
    "<img src = \"Graphics and Data\\w2_groupwork_model1.png\">\n",
    "\n",
    "**Force of infection:**  \n",
    "\\begin{align}\n",
    "\\lambda = \\beta \\frac{I}{N}\n",
    "\\end{align}\n",
    "\n",
    "**Parameter information:**  \n",
    "<img src = \"Graphics and Data\\w2_groupwork_parameters1.png\" width=\"300\">\n",
    "\n",
    "### MODEL 2: SAIR model (1)\n",
    "<img src = \"Graphics and Data\\w2_groupwork_model2.png\">\n",
    "\n",
    "**Force of infection:**  \n",
    "\\begin{align}\n",
    "\\lambda = \\beta \\frac{I}{N}\n",
    "\\end{align}\n",
    "\n",
    "**Parameter information:**\n",
    "<img src = \"Graphics and Data\\w2_groupwork_parameters2.png\" width=\"300\">\n",
    "\n",
    "### MODEL 3: SAIR model (2)\n",
    "<img src = \"Graphics and Data\\w2_groupwork_model3.png\">\n",
    "\n",
    "**Force of infection:**  \n",
    "\\begin{align}\n",
    "\\lambda = \\beta_1 \\frac{A}{N} + \\beta_2 \\frac{I}{N}\n",
    "\\end{align}\n",
    "\n",
    "**Parameter information:** \n",
    "<img src = \"Graphics and Data\\w2_groupwork_parameters3.png\" width=\"300\">"
   ]
  },
  {
   "cell_type": "code",
   "execution_count": 1,
   "metadata": {},
   "outputs": [],
   "source": [
    "# LOAD THE PACKAGES:\n",
    "library(deSolve)\n",
    "library(reshape2)\n",
    "library(ggplot2)\n",
    "\n",
    "# Population size:\n",
    "N <- 1000\n",
    "# Assume 1 infected person at the beginning of the simulation\n",
    "\n",
    "### YOUR CODE GOES HERE ###"
   ]
  },
  {
   "cell_type": "code",
   "execution_count": null,
   "metadata": {},
   "outputs": [],
   "source": []
  }
 ],
 "metadata": {
  "kernelspec": {
   "display_name": "R",
   "language": "R",
   "name": "ir"
  },
  "language_info": {
   "codemirror_mode": "r",
   "file_extension": ".r",
   "mimetype": "text/x-r-source",
   "name": "R",
   "pygments_lexer": "r",
   "version": "3.5.1"
  }
 },
 "nbformat": 4,
 "nbformat_minor": 2
}

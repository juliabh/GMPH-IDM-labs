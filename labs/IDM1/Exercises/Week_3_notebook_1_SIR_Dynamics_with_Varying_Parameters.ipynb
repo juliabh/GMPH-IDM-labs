{
 "cells": [
  {
   "cell_type": "markdown",
   "metadata": {},
   "source": [
    "# SIR dynamics with varying parameters"
   ]
  },
  {
   "cell_type": "markdown",
   "metadata": {},
   "source": [
    "In the first week, you gained first experience with coding simple models in R using the deSolve package. Last week, you went into further details about the drivers of an epidemic and the dynamics of the SIR model. This week, we are bringing this together to think more deeply about the roles of $\\beta$ and $\\gamma$.\n",
    "\n",
    "### Question: Imagine a disease where every person infects 1 person on average, every 2 days, and is infectious for 4 days. What are the values for $\\beta$ and $\\gamma$?\n",
    "\n",
    "So far, when looking at the dynamics of an epidemic, we have always plotted the number of people in each compartment. Sometimes however it is more informative to look at the proportion of the population in each compartment rather than the actual number, particularly if the population size changes over time. Although we are modelling an epidemic in a closed population with constant population size in this etivity, it is a good opportunity to practice plotting the prevalence as a proportion of the total population who are in the S, I and R compartments. To do this, it is helpful to first think about which variables you need to calculate this at each timestep.\n",
    "\n",
    "Model the epidemic with the $\\beta$ and $\\gamma$ values you calculated above, assuming introduction of a single infected person in a totally susceptible population of 1 million. Remember you can go back to your model function file from week 1 and copy-paste the SIR code you have previously developed. You might also have to try different durations to run the model for. Then plot the proportion of susceptible, infected and recovered people over time.\n",
    "\n",
    "### Question: What do you observe?"
   ]
  },
  {
   "cell_type": "code",
   "execution_count": null,
   "metadata": {},
   "outputs": [],
   "source": [
    "### YOUR CODE GOES HERE ###"
   ]
  },
  {
   "cell_type": "markdown",
   "metadata": {},
   "source": [
    "Now imagine an intervention is introduced to control infection, for example infected people are isolated so that they cannot spread infection. As a result, $\\beta$ drops to 0.1. Model the epidemic under this new scenario. \n",
    "\n",
    "### Question: What do you observe?"
   ]
  },
  {
   "cell_type": "code",
   "execution_count": null,
   "metadata": {},
   "outputs": [],
   "source": [
    "### YOUR CODE GOES HERE ###"
   ]
  },
  {
   "cell_type": "markdown",
   "metadata": {},
   "source": [
    "In your code above, vary $\\gamma$ with $\\beta$ held constant at 0.1 days$^{-1}$. Notice that there are some values where the initial infected case fails to cause an epidemic.\n",
    "\n",
    "### Question: Assuming $\\beta$ equals 0.1 days$^{-1}$, what value of $\\gamma$ do you need in order to get an epidemic? In real life, what could give rise to such a change in $\\gamma$?\n",
    "*Hint: as the infection rate becomes lower, i.e. the infection spreads more slowly, you have to follow the population over a longer period to observe a visible change in the proportion infected.*\n",
    "\n",
    "You should see that different combinations of infection and recovery rates can give rise to very different infection dynamics. \n",
    "\n",
    "### Question: Based on your answers to the previous question, can you think of a condition involving $\\beta$ and $\\gamma$ that is necessary for an epidemic? Test this condition using your code above.\n",
    "\n",
    "**Like in week 1, don't forget to check the correct answers provided in the \"Solutions\" folder!**"
   ]
  }
 ],
 "metadata": {
  "kernelspec": {
   "display_name": "R",
   "language": "R",
   "name": "ir"
  },
  "language_info": {
   "codemirror_mode": "r",
   "file_extension": ".r",
   "mimetype": "text/x-r-source",
   "name": "R",
   "pygments_lexer": "r",
   "version": "3.5.1"
  }
 },
 "nbformat": 4,
 "nbformat_minor": 2
}

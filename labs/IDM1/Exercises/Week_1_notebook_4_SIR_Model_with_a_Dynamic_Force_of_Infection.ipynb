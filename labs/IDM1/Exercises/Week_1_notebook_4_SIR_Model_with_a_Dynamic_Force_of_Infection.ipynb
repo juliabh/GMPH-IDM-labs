{
 "cells": [
  {
   "cell_type": "markdown",
   "metadata": {},
   "source": [
    "# SIR Model with a Dynamic Force of Infection"
   ]
  },
  {
   "cell_type": "markdown",
   "metadata": {},
   "source": [
    "In the previous etivity this week, you gained first experience with the concept of the force of infection. However, in the previous model, we made the unrealistic assumption that the force of infection can be expressed as a constant rate. As you have just learnt, in reality $\\lambda$ changes over time, depending on the number of infected people in the population. This is what we are looking at in this etivity! \n",
    "\n",
    "Remember, the diagram for a simple SIR model looks as follows, except that now we define $\\lambda$ as a function of the infection rate, $\\beta$ (*beta*), and the proportion of the population that is infectious, I/N. \n",
    "\n",
    "<img src=\"../GraphicsAndData/w1_nb4_model_diagram.png\">\n",
    "\n",
    "### Question: Write out the differential equations for an SIR model with a dynamic force of infection on paper. Which assumptions are you making in this model structure?\n",
    "\n",
    "Now that you have the differential equations, it's time to simulate this SIR model! In the cell below, copy-paste your code from the model function file that you created in the last etivity, and extend it to capture a dynamic force of infection. Our assumptions for the initial conditions (S = 999999, I = 1 and R = 0), simulation period (60 days) and $\\gamma$ (0.1 days$^{-1}$) remain the same as in the previous etivity, and the daily infection rate $\\beta$ equals 1.\n",
    "\n",
    "Plot the curves of infection, susceptibility and recovery over time like in the previous etivities.\n",
    "\n",
    "### Question: After how many days does the epidemic peak? What is the peak prevalence?"
   ]
  },
  {
   "cell_type": "code",
   "execution_count": null,
   "metadata": {},
   "outputs": [],
   "source": [
    "## YOUR CODE GOES HERE ##\n",
    "\n",
    "# Hint: one addition you need to make in this etivity is to calculate the total population size N to be able to\n",
    "# calculate the proportion infected for the force of infection. \n",
    "# How you do this is up to you, but one option would be to calculate it within the model function where you specify\n",
    "# the differential equations."
   ]
  },
  {
   "cell_type": "markdown",
   "metadata": {},
   "source": [
    "In the second part of the etivity, you get to explore how your epidemic curve changes under different assumptions for $\\beta$ and $\\gamma$. To make this easier, we have written a function (which is loaded from a separate R script), that allows you to plot the model output by entering different combinations of parameters. Run the example below, using the same parameter values as your model above, and check that your output was correct. If not, you should first go back to your code to see if you can find your mistake.\n",
    "\n",
    "If everything works, you can start changing the values for $\\beta$ and $\\gamma$ below to explore how the epidemic behaviour changes under different parameter scenarios. We will look at this behaviour in more detail in the next few weeks!\n",
    "\n",
    "### Question: How does the pattern of the epidemic change with different values for $\\beta$ or $\\gamma$? For example, how do these different parameter combinations affect when the peak of the epidemic happens, how many people are infected at the peak, and when the epidemic ends?\n",
    "\n",
    "Note that at this point, the focus is on *describing* what you observe under different parameter assumptions - next week, you will delve deeper into *why* we observe these patterns in an epidemic."
   ]
  },
  {
   "cell_type": "code",
   "execution_count": 2,
   "metadata": {},
   "outputs": [
    {
     "ename": "ERROR",
     "evalue": "Error in parse(text = x, srcfile = src): <text>:11:21: unexpected '='\n10: run_sir_model(beta = #YOUR CODE#, \n11:               gamma =\n                        ^\n",
     "output_type": "error",
     "traceback": [
      "Error in parse(text = x, srcfile = src): <text>:11:21: unexpected '='\n10: run_sir_model(beta = #YOUR CODE#, \n11:               gamma =\n                        ^\nTraceback:\n"
     ]
    }
   ],
   "source": [
    "# Load the external R code\n",
    "source(\"../GraphicsAndData/w1_nb4_source_code.R\")\n",
    "\n",
    "# Prepare the format for the plot display\n",
    "par(mfrow = c(2,4))  # Show 2*4 separate plots in one page (2 rows, 4 per row)\n",
    "\n",
    "# Run the model and plot the output with different beta and gamma values.\n",
    "# You might also have to change the time that you run the model for, by changing the value of the duration argument, \n",
    "# in units of days (for example, to reproduce your model above, this would be duration = 60).\n",
    "run_sir_model(beta = #YOUR CODE#, \n",
    "              gamma = #YOUR CODE#,\n",
    "              duration = #YOUR CODE#)\n",
    "run_sir_model(beta = #YOUR CODE#, \n",
    "              gamma = #YOUR CODE#,\n",
    "              duration = #YOUR CODE#) \n",
    "# Repeat the run_sir_model() command here for every parameter combination you want to try, and\n",
    "# adapt the par() command above depending on how many plots you want to look at"
   ]
  },
  {
   "cell_type": "markdown",
   "metadata": {},
   "source": [
    "Lastly, use the solution code in the \"Solutions\" folder to confirm that your model code is working properly. Make any corrections necessary. It’s worth getting this right at this stage, as this is the basic model structure that you will be building on in the following weeks. Use the corrected code to update your model function file to build on in the following weeks."
   ]
  }
 ],
 "metadata": {
  "kernelspec": {
   "display_name": "R",
   "language": "R",
   "name": "ir"
  },
  "language_info": {
   "codemirror_mode": "r",
   "file_extension": ".r",
   "mimetype": "text/x-r-source",
   "name": "R",
   "pygments_lexer": "r",
   "version": "3.5.1"
  }
 },
 "nbformat": 4,
 "nbformat_minor": 2
}

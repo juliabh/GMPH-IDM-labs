{
 "cells": [
  {
   "cell_type": "markdown",
   "metadata": {},
   "source": [
    "# Neonatal vaccination to reduce prevalence of an endemic disease in livestock"
   ]
  },
  {
   "cell_type": "markdown",
   "metadata": {},
   "source": [
    "This week, you have learned about how different susceptibility-shaping mechanisms can have a big impact on disease dynamics. In this exercise, your task is to bring these mechanisms - population turnover, vaccination and waning immunity - together to investigate a public health question. By now hopefully you will be familiar with the general approach used, to simulate a model in R. This etivity is less structured, so it allows you to independently practice what you have learnt over the whole course so far. Here are the instructions:\n",
    "\n",
    "A neonatal vaccine has recently become available against an endemic viral infection in livestock. The Ministry of Agriculture has asked you to model the impact of different vaccination scenarios to inform the design of a farm animal vaccination programme. They provide you with the following information:\n",
    "- The infection rate of the disease in this population is 1 day$^{-1}$ and the average duration of the infectious period is 20 days. \n",
    "- The average lifespan of the population is 3 years.\n",
    "- The total population size in the country is 300000 and has not varied over time. The disease is endemic but thought to be relatively rare in this population.\n",
    "- The vaccine, which has perfect efficacy, is given to a proportion *p_vacc* of newborn animals (that is, it is a neonatal vaccine). It is currently not known whether immunity to the disease and to the vaccine is life-long or wanes over time.\n",
    "\n",
    "They want you to run the model to endemic equilibrum to answer the questions below.\n",
    "\n",
    "**Tip:** It might be helpful to first read all the questions and think about what kind of model structure and parameters you need to be able to answer them all, and draw a diagram of the model structure before coding it. You have covered all these principles separately in the course so far, so if you struggle with a specific aspect you might want to look back at previous etivities. But don't worry - the etivity is designed to be challenging and get you thinking about how to develop and use a model to answer a specific research question!\n",
    "\n",
    "### What is the endemic prevalence of the disease currently (the baseline prevalence), assuming permanent immunity?\n",
    "### What proportion of newborn animals would you need to vaccinate to reduce the prevalence by half, assuming life-long immunity?\n",
    "### Would it be possible to eliminate the disease from the population using neonatal vaccination under the assumption of lifelong immunity?\n",
    "### If the average duration of immunity is only 1 year, how would this impact the proportional reduction in the prevalence with the vaccine coverage you obtained above compared to the baseline? \n",
    "### Would it be possible to eliminate the disease from the population using neonatal vaccination under these assumptions?\n",
    "### If an adjuvant (a vaccine promoter) was given along with the vaccine, that would extend the duration of immunity to 2.5 years on average, what vaccine coverage would be needed to reduce the baseline prevalence by half? Would it be possible to eliminate the disease from the population under these assumptions using neonatal vaccination?\n",
    "### Based on your results, what overall recommendation would you give to the Minister?\n",
    "### Also provide some information to help the Minister interpret these results. Write down the assumptions in your modelling approach that you think might affect your results. Are there any adaptations you could make to the model structure that would make it more realistic or that would allow you to answer more detailed questions?"
   ]
  },
  {
   "cell_type": "code",
   "execution_count": 1,
   "metadata": {},
   "outputs": [],
   "source": [
    "### YOUR CODE GOES HERE ###"
   ]
  },
  {
   "cell_type": "markdown",
   "metadata": {},
   "source": [
    "**Of course, check your answers against those in the \"Solutions\" folder!**"
   ]
  }
 ],
 "metadata": {
  "kernelspec": {
   "display_name": "R",
   "language": "R",
   "name": "ir"
  }
 },
 "nbformat": 4,
 "nbformat_minor": 2
}

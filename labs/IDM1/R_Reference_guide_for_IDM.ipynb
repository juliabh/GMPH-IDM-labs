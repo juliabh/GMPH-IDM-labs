{
 "cells": [
  {
   "cell_type": "markdown",
   "metadata": {},
   "source": [
    "# R Reference guide for IDM  \n",
    "\n",
    "# Contents\n",
    "1. [How to read and use this guide](#howread)\n",
    "\n",
    "2. [Things to know](#things)  \n",
    "2.1 [When writing your own code](#ownCode)  \n",
    "2.2 [Not covered here](#nothere)  \n",
    "2.3 [Computers are logical; languages can be weird](#weird)  \n",
    "\n",
    "3. [Get started](#start)  \n",
    "3.1 [On Coursera: Jupyter](#coursera)  \n",
    "3.2 [R and RStudio](#Rstudio)  \n",
    "\n",
    "4. [Basics / refresher: comments, variable assignation, function calls](#4)  \n",
    "\n",
    "5. [Data Types](#5)  \n",
    "5.1 [Atomic types, and creating atomic vectors](#5.1)  \n",
    "5.1.1 [Coercion](#coercion)  \n",
    "5.1.2 [Missing values: `NA`](#NA)  \n",
    "\n",
    "6. [Data Structures](#structures)  \n",
    "6.1 [Vectors and matrices](#6.1)  \n",
    "6.1.1 [Selecting elements: \\[\\]](#6.1.1)  \n",
    "6.2 [Lists](#lists)  \n",
    "6.2.1 [Selecting from a list: `[[]]` and `[]`, and by `$`name](#listselect)   \n",
    "6.2.2 [Dataframes: a special case of a list](#dataframes)  \n",
    "6.3 [Data formats: Wide and long](#widelong)  \n",
    "\n",
    "7. [Functions](#functions)  \n",
    "7.1 [Vectorisation](#vectorise)  \n",
    "7.2 [Reading the help file for a function](#helpfile)  \n",
    "7.3 [Make your own function](#ownfunc)  \n",
    "\n",
    "8. [Base R and packages](#packages)  \n",
    "\n",
    "9. [Plotting](#plot)  \n",
    "9.1 [Base R: ```plot()```](#baseplot)  \n",
    "9.2 [More sophisticated plots: ```ggplot```](#ggplot)  \n",
    "\n",
    "10. [Finding general help and resources](#resources)\n"
   ]
  },
  {
   "cell_type": "markdown",
   "metadata": {},
   "source": [
    "# 1. How to read and use this guide<a name=\"howread\"></a>\n",
    "\n",
    "This is intended as a quick reference guide to the R you will need for Infectious Disease Modelling, starting from the basics, and noting common sources of error along the way. If you want to go further with R or programming in general, there is a *lot* of information on the internet: see [section 10](#resources) for some suggestions.\n",
    "\n",
    "* R code within text looks like this: `x <- 7`.  \n",
    "* Functions will be referred to like this: `function()` (with parentheses after the function name)  \n",
    "* You can copy and paste code from here into your own R script to run it. Where there's function output examples in the code blocks in this document, they start like this: `#> `   "
   ]
  },
  {
   "cell_type": "markdown",
   "metadata": {},
   "source": [
    "# 2. Things to know<a name=\"things\"></a>\n",
    "\n",
    "No-one memorises everything! If you know how to look up what you want to do, and understand what you find, you're most of the way there.\n",
    "\n",
    "\n",
    "## 2.1 When writing your own code<a name=\"ownCode\"></a>\n",
    "\n",
    "Put ```# comments``` everywhere - for your benefit while learning and for referring back to after a period of time. (Also, for other people who might use your code!)\n",
    "\n",
    "Aim for consistent formatting and naming:  \n",
    "\n",
    "* R doesn't enforce much formatting, but without doing things like indenting your code where appropriate, it's difficult to read, and even harder to find problems or make changes.  \n",
    "  \n",
    "* Variable names:  \n",
    "    * Keep in mind, R is case-sensitive.  \n",
    "    * snake_case (words separated by underscores) is often recommended for variable names; you can't have spaces, and separating with dots is used in other contexts in R so it can cause confusion. \n",
    "    * Meaningful variable names can help you follow your work.  \n",
    "  \n",
    "* For a style guide: look here <https://style.tidyverse.org/index.html>  \n",
    "\n",
    "There is usually more than one way of programming something. What you use will often be a matter of preference.\n",
    " \n",
    "\n",
    "## 2.2 Not covered here<a name=\"nothere\"></a>\n",
    "\n",
    "Many concepts in programming and R specific topics are not covered (or not in any detail): of note,\n",
    "\n",
    "* if/then/else statements, loops <https://www.datacamp.com/community/tutorials/tutorial-on-loops-in-r>\n",
    "* data structures with more than 2 dimensions\n",
    "* Tidyverse (<https://www.tidyverse.org/>), apart from ggplot\n",
    "* environments\n",
    "* all the functionality of RStudio  \n",
    "\n",
    "\n",
    "\n",
    "## 2.3 Computers are logical; languages can be weird<a name=\"weird\"></a>\n",
    "\n",
    "Like human languages, programming languages have similarities and differences; you may have prior knowledge about how other languages do things - or you might find this out in the future. In general, if you think a language has some strange syntax or weird function names, or behaves oddly, remember that this might be due to:  \n",
    "\n",
    "* historical reasons - a language evolves as people develop it, not always totally logically\n",
    "* speed optimisation\n",
    "* storage optimisation (storage used to be expensive!)\n",
    "* other implementation reasons\n",
    "\n",
    "R was developed for statistics; some aspects of R can be traced to this history.  \n",
    "\n",
    "So whether or not you already know other languages, keep an open mind when it comes to 'idiosyncracies', and be aware that other programming languages do differ!\n",
    "\n",
    "    \n",
    "***  "
   ]
  },
  {
   "cell_type": "markdown",
   "metadata": {},
   "source": [
    "# 3. Getting started<a name=\"start\"></a>\n",
    "\n",
    "In this course, your training in writing infectious disease models in R is delivered through *notebooks*.\n",
    "\n",
    "A \"notebook\" document can include text, code chunks (or cells), and code output - e.g.  plots. Text can be formatted with *markdown* -  markers are used to denote formatting. For example, \\*this text\\* will come out as *this text* - in italics. The code chunks/cells can be run within the notebook, or the whole document can be exported to html for use online, or a .pdf file. This is particularly useful for preparing resources such as this guide.\n",
    " \n",
    "[Rstudio](https://www.rstudio.com/products/rstudio/download/) contains the functionality needed to create and use an R notebook. In this course, we use Jupyter notebooks. This is integrated into the Coursera platform - you can work online without having to download R, Rstudio, etc.\n",
    "\n",
    "\n",
    "## 3.1 On Coursera: Jupyter Notebooks<a name=\"coursera\"></a>\n",
    "\n",
    "We give you etivities written within a Jupyter notebook. Instructions are interspersed with cells containing some example code and some code for you to complete. See the quick guide here: <LINK TO GUIDE>\n",
    "\n",
    "Coursera help available here:\n",
    "https://learner.coursera.help/hc/en-us/articles/360004995312-Solve-problems-with-Jupyter-Notebooks"
   ]
  },
  {
   "cell_type": "code",
   "execution_count": null,
   "metadata": {},
   "outputs": [],
   "source": [
    "## Code in a notebook will be in a section which looks like this\n",
    "\n",
    "example <- \"here is an example\"\n",
    "\n",
    "# when it's your turn, we use this convention:\n",
    "\n",
    "yourturn <- #YOUR CODE#\n"
   ]
  },
  {
   "cell_type": "markdown",
   "metadata": {},
   "source": [
    "## 3.2 On your computer: R and RStudio<a name=\"Rstudio\"></a>\n",
    "\n",
    "If you can and want to work on your own computer, and become familiar with a common R user setup:\n",
    "\n",
    "**Install R** from: (https://cran.r-project.org/) (searching R download should find this)\n",
    "\n",
    "**Install RStudio** (free version) from: (https://www.rstudio.com/products/rstudio/download/).  \n",
    "\n",
    "RStudio is an Integrated Development Environment (IDE) for R. IDEs add many useful features to your programming experience, panels showing history, help, plots, etc.  \n",
    "See <http://ncss-tech.github.io/stats_for_soil_survey/chapters/1_introduction/1_introduction.html#3_rstudio:_an_integrated_development_environment_(ide)_for_r> for an illustration. An IDE has more features than a good text editor such as [notepad++](https://notepad-plus-plus.org/), which will at least do things such as syntax highlighting (colouring your code).\n",
    "\n",
    "\n",
    "Get started after installation:\n",
    "\n",
    "* open RStudio and open a new R script \n",
    "* decide on a working directory, especially if you will load data from files, and/or have multiple scripts\n",
    "    * it's good to keep files associated with your work in one place\n",
    "    * type ```setwd(\"[insert path here]\")```"
   ]
  },
  {
   "cell_type": "code",
   "execution_count": null,
   "metadata": {},
   "outputs": [],
   "source": [
    "setwd(\"C:/mydocs/mynewproject\") # in Windows, use / for a separator\n",
    "setwd(\"~/mydocs/mynewproject\") # linux/ mac\n"
   ]
  },
  {
   "cell_type": "markdown",
   "metadata": {},
   "source": [
    "You'll mostly type or copy into your script, like writing a text file; and then run (all or some of it). Output will appear in the console, plots in the plot panel, and as you create variables, they'll appear in the environment panel.\n",
    "\n",
    "\n",
    "If you're re-opening RStudio, having worked in it before: \n",
    "RStudio can save your open scripts and the contents of your environment, which can help if it was closed unexpectedly but beware that you should not rely on anything specifically being saved. "
   ]
  },
  {
   "cell_type": "markdown",
   "metadata": {},
   "source": [
    "# 4. Basics / refresher: comments, variable assignation, function calls<a name=\"4\"></a>"
   ]
  },
  {
   "cell_type": "code",
   "execution_count": 2,
   "metadata": {},
   "outputs": [
    {
     "data": {
      "text/html": [
       "10"
      ],
      "text/latex": [
       "10"
      ],
      "text/markdown": [
       "10"
      ],
      "text/plain": [
       "[1] 10"
      ]
     },
     "metadata": {},
     "output_type": "display_data"
    },
    {
     "name": "stdout",
     "output_type": "stream",
     "text": [
      "[1] 50\n"
     ]
    }
   ],
   "source": [
    "# text starting with # are comments (they don't get run)\n",
    "\n",
    "# text starting with # are comments (they aren't run as code)\n",
    "\n",
    "x <- 10 # 'assigns' the value 10 to a name, x\n",
    "# read this as \"x gets 10\"\n",
    "# once you have created an object, you can refer to it by name in later code\n",
    "y <- 2 * x\n",
    "\n",
    "# R doesn't tell you if you've already used a name, it just reassigns\n",
    "x <- 20 # x is now 20\n",
    "a <- x # a is given the same value as x\n",
    "x <- 50 # now x is 50. a keeps the value it had before, rather than changing when you change x\n",
    "\n",
    "# Note: not all programming languages work this way! Some treat variables as \"pointers\" to objects, and changing the object would affect each pointer to it.\n",
    "\n",
    "# R is case sensitive:\n",
    "X <- 51 # capital X, not the same as x\n",
    "\n",
    "## Functions\n",
    "# to call a function, use the function name, with the arguments - inputs - in parentheses\n",
    "print(x)  # this returns the contents of x to the screen\n",
    "y         # shorthand for printing the contents of y\n",
    "\n",
    "\n",
    "# Loading data\n",
    "dat <- read.csv(## \"the path to your file goes here\" ##)\n",
    "# the filename and path are entered as a character string, in quotes.    \n",
    "\n",
    "# If the file you want is in your working directory, R will find it with just the filename.\n",
    "    "
   ]
  },
  {
   "cell_type": "markdown",
   "metadata": {},
   "source": [
    "**A note on the use of the operator ```<-``` :**\n",
    "Many programming languages use the equals sign ```=``` for assignation. In R, you can use either ```<-``` or ```=```.  \n",
    "```<-``` is used partly for historical reasons, and some people prefer it to avoid confusion with ```==``` which is used for comparison. Within function calls, ```=``` is used for assigning arguments.\n"
   ]
  },
  {
   "cell_type": "markdown",
   "metadata": {},
   "source": [
    "\n",
    "# 5. Data Types<a name=\"5\"></a>  \n",
    "\n",
    "## 5.1 Atomic types, and creating atomic vectors <a name=\"5.1\"></a>\n",
    "\n",
    "R has 6 'atomic' - fundamental - types: logical, character, numeric types (integer, double, and complex), and raw (for binary data). They can be the building blocks for other types. \n",
    "\n",
    "The type `factor` (you may know about factors from the statistics course) is special.\n",
    "\n",
    "The simplest *data structures* are **atomic vectors** (usually just called **vectors**). All *elements* in an atomic vector must be of one type.\n",
    "This code chunk shows you a function, ```c()```, using it to create vectors of the 4 common atomic types.\n",
    "\n",
    "We will use this example data later in the guide."
   ]
  },
  {
   "cell_type": "code",
   "execution_count": 1,
   "metadata": {},
   "outputs": [
    {
     "data": {
      "text/html": [
       "'double'"
      ],
      "text/latex": [
       "'double'"
      ],
      "text/markdown": [
       "'double'"
      ],
      "text/plain": [
       "[1] \"double\""
      ]
     },
     "metadata": {},
     "output_type": "display_data"
    }
   ],
   "source": [
    "# the function \"c()\" combines what you provide it. By default, it makes a vector.\n",
    "\n",
    "# logical vector\n",
    "infected         <- c(TRUE, FALSE, TRUE, TRUE, FALSE) # sometimes abbreviated to T and F\n",
    "# Often useful as the output of a function:\n",
    "# a function could test whether something is TRUE or FALSE\n",
    "# producing a logical vector\n",
    "# the contents of this can then determine what happens somewhere else\n",
    "\n",
    "# character vector\n",
    "parameters       <- c(\"mu\", \"gamma\", \"beta\") \n",
    "# character elements are given within quotes\n",
    "\n",
    "# numeric: double (short for: double precision floating point)\n",
    "min_temperature  <- c(1.51, 2.7, 3.1, 0.05, -2, 5) \n",
    "\n",
    "# numeric: integer? \n",
    "number_of_eggs   <- c(2, 4, 6, 8, 5) # doesn't actually make an integer vector\n",
    "typeof(number_of_eggs)\n",
    "#> [1] \"double\" \n",
    "# Not an integer. To make an integer vector, either:\n",
    "number_of_eggs   <- as.integer(number_of_eggs) # converts your vector\n",
    "number_of_eggs   <- c(2L, 4L) \n",
    "# L specifies the numbers are integers. \n",
    "# We don't use \"I\" for integer - too close to a \"1\" \n",
    "# and \"i\" is used in complex numbers."
   ]
  },
  {
   "cell_type": "markdown",
   "metadata": {},
   "source": [
    "### 5.1.1 Coercion\n",
    "\n",
    "A function often expects certain data types and structures as inputs. \n",
    "\n",
    "Above, ```number_of_eggs <- c(2, 4, 6, 8, 5)``` did not create an integer vector, even though all the elements were given as integers. R made it a double.\n",
    "\n",
    "Many languages require you to define your data type when you create (or 'declare') a variable. R does not. When you don't specify a type, R decides what it is. This can make getting started quick, but can hide issues if you make a mistake or if you don't know what R automatically decides."
   ]
  },
  {
   "cell_type": "code",
   "execution_count": null,
   "metadata": {},
   "outputs": [],
   "source": [
    "# For example, what does R do with this?\n",
    "stuff <- c(3, 4, TRUE, \"cat\")\n",
    "stuff\n",
    "#> [1] \"3\"    \"4\"    \"TRUE\" \"cat\" \n",
    "# R has converted everything into the character type!"
   ]
  },
  {
   "cell_type": "markdown",
   "metadata": {},
   "source": [
    "The function `c()` expects all the inputs to be the same type, so R chooses the first type on this hierarchy: *logical > integer > double > character* that all the inputs given could be. If you try to input a variable into a function which is expecting a different type, R will try to *coerce* what you give it into what it needs.\n"
   ]
  },
  {
   "cell_type": "code",
   "execution_count": null,
   "metadata": {},
   "outputs": [],
   "source": [
    "#The function \"paste()\" expects character inputs.\n",
    "paste(number_of_eggs) \n",
    "#> [1] \"3 4 5\" # the output here is a character vector (with one element); you can tell because the element is in quotes\n",
    " \n",
    "# Try taking the mean() of a character vector. Does R coerce to anything?\n",
    "# On the other hand, try taking the mean() of a character vector. Does R coerce to anything?\n",
    "var <- c(\"1\", \"2\", \"3\")\n",
    "mean(var)\n",
    "\n",
    "# R returns a warning - it does not automatically coerce character variables into numbers.\n",
    "#> Warning in mean.default(parameters): argument is not numeric or logical:\n",
    "#> returning NA\n",
    "#> [1] NA"
   ]
  },
  {
   "cell_type": "markdown",
   "metadata": {},
   "source": [
    "### 5.1.2 Missing values: NA<a name=\"NA\"></a>\n",
    "Feeding a character vector to ```mean()``` returned ```NA```. ```NA``` represents missing values in R.  \n",
    "\n",
    "When a function cannot use the input given, it might return ```NA```.  \n",
    "If you need to show that data values are missing (e.g. one measurement wasn't available or applicable for a particular patient), you should include an `NA` in the relevant place.  \n",
    "\n",
    "It is important to distinguish between \"missing\" and \"blank\". Missing values often have to be specially considered, or removed. \n"
   ]
  },
  {
   "cell_type": "markdown",
   "metadata": {},
   "source": [
    "\n"
   ]
  },
  {
   "cell_type": "markdown",
   "metadata": {},
   "source": [
    "# 6. Data Structures<a name=\"structures\"></a>\n",
    "\n",
    "The main, fundamental data structures you will use, and how to select (and therefore also replace) elements from them.\n",
    "\n",
    "## 6.1 Vectors and matrices<a name=\"6.1\"></a>\n",
    "[Atomic vectors](#5.1) are those where every element is of the same type.\n",
    "\n",
    "### 6.1.1 Selecting elements: `[]`<a name=\"6.1.1\"></a>\n",
    "\n",
    "Square brackets are used to select elements:\n"
   ]
  },
  {
   "cell_type": "code",
   "execution_count": null,
   "metadata": {},
   "outputs": [],
   "source": [
    "# Example data (see also Section 5.1)\n",
    "min_temperature  <- c(1.51, 2.7, 3.14, 0.05, -2, 5)\n",
    "parameters       <- c(\"mu\", \"gamma\", \"beta\")\n",
    "\n",
    "# Return the second element\n",
    "min_temperature[2] \n",
    "\n",
    "# Select and replace the contents of the first element\n",
    "min_temperature[1] <- 1.4 \n",
    "min_temperature[1]\n",
    "\n",
    "# Multiple elements can be selected in two ways \n",
    "# - either by using a numbered index or using a logical vector. \n",
    "parameters[c(2,3)]\n",
    "\n",
    "# When using a logical vector, it must be the same length as the data you are selecting from.\n",
    "# TRUE and FALSE denote whether each element should be selected.\n",
    "# This can be very useful when selecting only data that meets specific criteria, as we will see later.\n",
    "parameters[c(FALSE, TRUE, TRUE)]\n",
    "\n",
    "\n",
    "# Selection in two dimensions\n",
    "my_mat <- matrix(c(1:9), ncol = 3) # an example matrix using the numbers 1-9 (the colon is shorthand for creating a sequence)\n",
    "my_mat\n",
    "\n",
    "\n",
    "# To select from a this matrix you can use a single number, which will count down each column and row\n",
    "my_mat[8]\n",
    "\n",
    "# Use [i, j] notation to select the item at the i'th row, j'th column\n",
    "my_mat[2, 3]\n",
    "\n",
    "# or select a whole column like this (also works for rows!)\n",
    "my_mat[, 3]\n",
    "\n"
   ]
  },
  {
   "cell_type": "markdown",
   "metadata": {},
   "source": [
    "Note - many other programming languages count starting from 0, so the first element would be referenced using [0], the second element would be [1], and so on. In R, data structures are indexed starting at 1."
   ]
  },
  {
   "cell_type": "markdown",
   "metadata": {},
   "source": [
    "## 6.2 Lists<a name=\"lists\"></a>\n",
    "\n",
    "Sometimes called **generic vectors**, distinguishing them from atomic vectors.\n",
    "\n",
    "The elements of a list contain other data structures. You can have different structures and different types in one list:\n",
    "vectors, matrices, other lists, functions... \n",
    "\n",
    "### 6.2.1 Selecting from a list: `[[]]` and `[]`, and `$name`<a name=\"listselect\"></a>\n",
    "\n",
    "Selecting from lists works slightly differently than selecting from vectors.\n"
   ]
  },
  {
   "cell_type": "code",
   "execution_count": 1,
   "metadata": {},
   "outputs": [
    {
     "ename": "ERROR",
     "evalue": "Error in eval(expr, envir, enclos): object 'infected' not found\n",
     "output_type": "error",
     "traceback": [
      "Error in eval(expr, envir, enclos): object 'infected' not found\nTraceback:\n"
     ]
    }
   ],
   "source": [
    "# Example data (see also Section 5.1)\n",
    "infected         <- c(TRUE, FALSE, TRUE, TRUE, FALSE)\n",
    "parameters       <- c(\"mu\", \"gamma\", \"beta\")\n",
    "min_temperature  <- c(1.51, 2.7, 3.1, 0.05, -2, 5)\n",
    "\n",
    "# Create a list containing the 'infected', 'parameters' and 'min_temperature' vectors\n",
    "my_list <- list(infected, parameters, min_temperature)\n",
    "\n",
    "# To select a \"slice\" or subset of the list use single brackets.\n",
    "# This returns part of your original list, as a list!\n",
    "my_list[1] # returns the first element of my_list, as a list\n",
    "\n",
    "# This is clearer if you select more than one element:\n",
    "my_list[c(1,2)] # returns the first two elements of my_list, as a list\n",
    "\n",
    "# To access the element itself, use double brackets.\n",
    "# Effectively we're selecting the slice, and then the element out of that slice.\n",
    "my_list[[1]] # note this now returns a vector, not a list!"
   ]
  },
  {
   "cell_type": "code",
   "execution_count": null,
   "metadata": {},
   "outputs": [],
   "source": [
    "# We may want to first select an element of a list, then a part of the vector inside\n",
    "# In that case, either of these will work\n",
    "my_list[[c(2,1)]]\n",
    "my_list[[2]][1]\n"
   ]
  },
  {
   "cell_type": "code",
   "execution_count": null,
   "metadata": {},
   "outputs": [],
   "source": [
    "# All these number indexes can be hard to keep track of!\n",
    "# Instead, you can give the elements names.\n",
    "# Here the list is created as above, but with appropriate names:\n",
    "my_list <- list(status = infected, params = parameters, min_temps = min_temperature) \n",
    "my_list\n",
    "\n",
    "# Notice the $name notation in the output!\n",
    "# You can select elements using their names in the same way\n",
    "my_list$params"
   ]
  },
  {
   "cell_type": "markdown",
   "metadata": {},
   "source": [
    "<http://www.r-tutor.com/r-introduction/list> for a basic introduction to lists."
   ]
  },
  {
   "cell_type": "markdown",
   "metadata": {},
   "source": [
    "### 6.2.2 **Names and other attributes**\n",
    "\n",
    "Names given to a data structure's elements (such as ``$status`` and ``$params``) are an example of an *attribute*. Attributes are \"metadata\", they give you information on the variable itself (rather than its contents). \n",
    "\n",
    "Another important attribute is ```dimensions```. This gives information on the number of dimensions of a data structure. Giving a vector a ```dimensions``` attribute turns it into an array: an array with 2 dimensions is a matrix.\n",
    "\n"
   ]
  },
  {
   "cell_type": "markdown",
   "metadata": {},
   "source": [
    "### 6.2.3 Dataframes: a special case of a list <a name=\"dataframes\"></a>\n",
    "\n",
    "Given that R has been developed for scientists, imagine a structure like a results table for recording outcomes of your experiments.\n",
    "\n",
    "Every element in a dataframe holds a vector of the same length. These vectors can be different types.\n",
    "You can treat a column like a vector, and the whole dataframe like a list.\n",
    "You can select using the [i, j] notation that works for matrices as well as the ways of selecting from a list."
   ]
  },
  {
   "cell_type": "code",
   "execution_count": 2,
   "metadata": {},
   "outputs": [
    {
     "data": {
      "text/html": [
       "<table>\n",
       "<thead><tr><th scope=col>patientID</th><th scope=col>test1</th><th scope=col>test2</th></tr></thead>\n",
       "<tbody>\n",
       "\t<tr><td>A </td><td>27</td><td>28</td></tr>\n",
       "\t<tr><td>B </td><td>40</td><td>25</td></tr>\n",
       "\t<tr><td>C </td><td>48</td><td>50</td></tr>\n",
       "</tbody>\n",
       "</table>\n"
      ],
      "text/latex": [
       "\\begin{tabular}{r|lll}\n",
       " patientID & test1 & test2\\\\\n",
       "\\hline\n",
       "\t A  & 27 & 28\\\\\n",
       "\t B  & 40 & 25\\\\\n",
       "\t C  & 48 & 50\\\\\n",
       "\\end{tabular}\n"
      ],
      "text/markdown": [
       "\n",
       "| patientID | test1 | test2 |\n",
       "|---|---|---|\n",
       "| A  | 27 | 28 |\n",
       "| B  | 40 | 25 |\n",
       "| C  | 48 | 50 |\n",
       "\n"
      ],
      "text/plain": [
       "  patientID test1 test2\n",
       "1 A         27    28   \n",
       "2 B         40    25   \n",
       "3 C         48    50   "
      ]
     },
     "metadata": {},
     "output_type": "display_data"
    }
   ],
   "source": [
    "observations <- data.frame(patientID = c(\"A\", \"B\", \"C\"), \n",
    "                           test1 = c(27, 40, 48), \n",
    "                           test2 = c(28, 25, 50),\n",
    "                           stringsAsFactors = FALSE) # this last argument means the character inputs - strings - are not treated as factors\n",
    "head(observations) # have a look at the top few rows (5 rows by default)\n"
   ]
  },
  {
   "cell_type": "markdown",
   "metadata": {},
   "source": [
    "You can select from dataframes (and other data structures) using a condition. Think of this as \"filtering\" the data for a desired property."
   ]
  },
  {
   "cell_type": "code",
   "execution_count": null,
   "metadata": {},
   "outputs": [],
   "source": [
    "observations[observations$test1 < 30, ]\n",
    "# or\n",
    "observations[observations$patientID == \"B\", ]\n"
   ]
  },
  {
   "cell_type": "markdown",
   "metadata": {},
   "source": [
    "Note: the tidyverse has lots of functionality on data structures, and now has a new type of structure: the ```tibble```. See <https://www.tidyverse.org/> for the comprehensive guide to the tidyverse.\n"
   ]
  },
  {
   "cell_type": "markdown",
   "metadata": {},
   "source": [
    "## 6.3 Data formats: Wide and long\n",
    "When you imagine a \"results table\" you might think of a table like the ```observations``` [dataframe](#dataframes):"
   ]
  },
  {
   "cell_type": "code",
   "execution_count": 3,
   "metadata": {},
   "outputs": [
    {
     "data": {
      "text/html": [
       "<table>\n",
       "<thead><tr><th scope=col>patientID</th><th scope=col>test1</th><th scope=col>test2</th></tr></thead>\n",
       "<tbody>\n",
       "\t<tr><td>A </td><td>27</td><td>28</td></tr>\n",
       "\t<tr><td>B </td><td>40</td><td>25</td></tr>\n",
       "\t<tr><td>C </td><td>48</td><td>50</td></tr>\n",
       "</tbody>\n",
       "</table>\n"
      ],
      "text/latex": [
       "\\begin{tabular}{r|lll}\n",
       " patientID & test1 & test2\\\\\n",
       "\\hline\n",
       "\t A  & 27 & 28\\\\\n",
       "\t B  & 40 & 25\\\\\n",
       "\t C  & 48 & 50\\\\\n",
       "\\end{tabular}\n"
      ],
      "text/markdown": [
       "\n",
       "| patientID | test1 | test2 |\n",
       "|---|---|---|\n",
       "| A  | 27 | 28 |\n",
       "| B  | 40 | 25 |\n",
       "| C  | 48 | 50 |\n",
       "\n"
      ],
      "text/plain": [
       "  patientID test1 test2\n",
       "1 A         27    28   \n",
       "2 B         40    25   \n",
       "3 C         48    50   "
      ]
     },
     "metadata": {},
     "output_type": "display_data"
    }
   ],
   "source": [
    "observations"
   ]
  },
  {
   "cell_type": "markdown",
   "metadata": {},
   "source": [
    "This is \"wide\" format. Lots of situations require \"long\" format. There's a useful pair of functions that helps here:"
   ]
  },
  {
   "cell_type": "code",
   "execution_count": 3,
   "metadata": {},
   "outputs": [
    {
     "ename": "ERROR",
     "evalue": "Error in melt(observations, id.vars = c(\"patientID\")): object 'observations' not found\n",
     "output_type": "error",
     "traceback": [
      "Error in melt(observations, id.vars = c(\"patientID\")): object 'observations' not found\nTraceback:\n",
      "1. melt(observations, id.vars = c(\"patientID\"))"
     ]
    }
   ],
   "source": [
    "#\n",
    "require(reshape2)\n",
    "\n",
    "melt(observations, id.vars = c(\"patientID\"))\n"
   ]
  },
  {
   "cell_type": "markdown",
   "metadata": {},
   "source": [
    "Can you see why they are called \"wide\" and \"long\" format? Essentially, wide format is one row per patient, in this example, with all the data for one patient in one row, and long gives us multiple rows per patient, with each test having its own row."
   ]
  },
  {
   "cell_type": "markdown",
   "metadata": {},
   "source": [
    "# 7. Functions\n",
    "\n",
    "A function takes in inputs, called *arguments*, and does \"something\" with them. One of the simplest, most commonly used functions, ```c()```, combines what you give it, into a vector. Functions generally expect particular types of input; arguments you give, might be coerced to that type or structure if possible, or you might get an error.  "
   ]
  },
  {
   "cell_type": "code",
   "execution_count": null,
   "metadata": {},
   "outputs": [],
   "source": [
    "# You can pass arguments in directly\n",
    "mean(c(1.51, 2.7, 3.1, 0.05, -2, 5))\n",
    "\n",
    "# Or pass in the name of a variable, as long as it exists in your environment\n",
    "min_temperature  <- c(1.51, 2.7, 3.1, 0.05, -2, 5)\n",
    "mean(min_temperature)    "
   ]
  },
  {
   "cell_type": "code",
   "execution_count": null,
   "metadata": {},
   "outputs": [],
   "source": [
    "# some functions look a bit different, e.g. +\n",
    "\n",
    "1 + 2 \n",
    "#> [1] 3\n",
    "# here, you are applying the function '+', to the arguments 1 and 2. \n",
    "# For some functions, this is more intuitive syntax."
   ]
  },
  {
   "cell_type": "markdown",
   "metadata": {},
   "source": [
    "## 7.1 Vectorisation\n",
    "Many functions can take a vector as input. Either the function is applied using the whole vector, such as the ```mean()``` example, or functions can be applied element-by-element.\n",
    "<https://bookdown.org/rdpeng/rprogdatascience/vectorized-operations.html> shows a couple of examples.\n",
    "\n",
    "This means if you need to do something to a whole vector, you don't have to read through the elements one-by-one. Useful!"
   ]
  },
  {
   "cell_type": "markdown",
   "metadata": {},
   "source": [
    "## 7.2 Reading the help file for a function<a name=\"helpfile\"></a>\n",
    "```?functionname``` retrieves the help file.\n",
    "They are all structured similarly:  \n",
    "The Arguments section tells you the arguments the function expects.  \n",
    "Many functions have a Value section: this is the output of the function.\n",
    "\n",
    "Arguments of a function, can be functions.\n",
    "The function ```apply()``` takes in a function and a data structure and applies it to relevant divisions of the data structure (for example, if you need to apply a function over each row of a matrix in turn)."
   ]
  },
  {
   "cell_type": "markdown",
   "metadata": {},
   "source": [
    "## 7.3 Make your own function<a name=\"ownfunc\"></a>\n",
    "\n",
    "There is plenty of this in the IDM specialisation!"
   ]
  },
  {
   "cell_type": "code",
   "execution_count": null,
   "metadata": {},
   "outputs": [],
   "source": [
    "# Make a function which takes in a character vector, and says Hi.\n",
    "\n",
    "greetings <- function(x) { # function takes in 1 argument\n",
    "                           # the argument gets assigned the name x within the environment of the function\n",
    "\n",
    "    hello <- paste(\"Hi\", x, \"!\")\n",
    "    return(hello)  \n",
    "\n",
    "}\n",
    "\n",
    "greetings(\"Doctor\")\n",
    "greetings(c(\"Doctor\", \"Professor\")) # Vectorised\n",
    "greetings(1) # coerces the input to character."
   ]
  },
  {
   "cell_type": "code",
   "execution_count": null,
   "metadata": {},
   "outputs": [],
   "source": [
    "# Let's create a function which requires a numeric argument.\n",
    "# This function takes one argument representing a temperature in Fahrenheit, and converts it to Celcius\n",
    "f_to_c <- function(f) { \n",
    "  c <- (f - 32) * (5 / 9)\n",
    "  return(c)\n",
    "}\n",
    "\n",
    "f_to_c(90) # would f_to_c(\"ninety\") work? Try it!"
   ]
  },
  {
   "cell_type": "markdown",
   "metadata": {},
   "source": [
    "# 8. Base R and packages<a name=\"packages\"></a>\n",
    "\n",
    "**Base R** comes with the default installation. A **package** is a collection of functions (and sometimes data), developed for particular uses.\n",
    "You can think of the R \"library\" as containing many packages. Some packages are installed with the default installation, such as the stats package, as these are so fundamental for most users.\n",
    "\n",
    "`install.packages()`: installs packages  \n",
    "`library()` takes a package name and loads it, if installed. Then you can directly use the functions in it.\n",
    "\n",
    "The main, non-base R packages you will use in IDM are deSolve, ggplot, and reshape."
   ]
  },
  {
   "cell_type": "markdown",
   "metadata": {},
   "source": [
    "# 9. Plotting<a name=\"plot\"></a>\n",
    "\n",
    "## 9.1 Base R: ```plot()``` <a name=\"baseplot\"></a>\n",
    "R's built-in ```plot()``` function is versatile; you can often get a quick look at your data easily.\n",
    "Plot has a lot of methods which R chooses from depending on the data you give it, to produce a suitable plot.\n",
    "There are also built-in functions such as ```boxplot``` which are quick and easy.\n",
    "We'll use the ```observations``` dataframe, as [above](#dataframes):\n",
    "\n"
   ]
  },
  {
   "cell_type": "code",
   "execution_count": null,
   "metadata": {},
   "outputs": [],
   "source": [
    "# load our example observations\n",
    "observations <- data.frame(patientID = c(\"A\", \"B\", \"C\"), \n",
    "                           test1 = c(27, 40, 48), \n",
    "                           test2 = c(28, 25, 50),\n",
    "                           stringsAsFactors = FALSE)\n",
    "\n",
    "# examples of basic, base plots\n",
    "plot(observations$test1, observations$test2)\n",
    "boxplot(observations$test1, observations$test2)"
   ]
  },
  {
   "cell_type": "markdown",
   "metadata": {},
   "source": [
    "## 9.2 More sophisticated plots: ```ggplot```<a name=\"ggplot\"></a>\n",
    "A powerful system for visualising data.  \n",
    "\n",
    "* makes you think about the structure and the meaning of your data in order to visualise it\n",
    "* the syntax is very different to base plotting functions\n",
    " \n",
    "You create a ggplot object, and then add layers with whatever ```aes```thetics you require: aesthetics includes defining how your variables in your data are assigned to the axes, how they are formatted, and presented.\n",
    "\n",
    "To learn about ggplot, go here: <http://r-statistics.co/ggplot2-Tutorial-With-R.html> - a nice tutorial, which we will not simply rewrite here!\n",
    "A note: early on, that tutorial says to state what dataframe to use first. This is not necessary; each layer of a ggplot can be drawn from different dataframes, using a ```data = ``` argument. But you should think carefully about your data if you are doing this!\n",
    "\n",
    "Let's have a quick look at ggplot:"
   ]
  },
  {
   "cell_type": "code",
   "execution_count": null,
   "metadata": {},
   "outputs": [],
   "source": [
    "require(ggplot2)\n",
    "\n",
    "# load our example observations\n",
    "observations <- data.frame(patientID = c(\"A\", \"B\", \"C\"), \n",
    "                           test1 = c(27, 40, 48), \n",
    "                           test2 = c(28, 25, 50),\n",
    "                           stringsAsFactors = FALSE)\n",
    "\n",
    "# ggplot\n",
    "patient_plot <- ggplot(data = observations)\n",
    "patient_plot <- patient_plot + geom_point(aes(x = test1, y = test2)) ## aes = short for aesthetics\n",
    "patient_plot"
   ]
  },
  {
   "cell_type": "markdown",
   "metadata": {},
   "source": [
    "# 10. Finding general help and resources<a name=\"resources\"></a>\n",
    "**within R**: \n",
    "\n",
    "* `?functionname` to get the help file for a function\n",
    "    * parts of the help file also show up automatically in RStudio when you type functions\n",
    "* When you get error messages - search for them on the internet if you can't work out what's wrong\n",
    "\n",
    "**on the internet: Infectious Disease Modelling-specific**:  \n",
    "\n",
    "https://www.reconlearn.org/  \n",
    "\n",
    "**on the internet: General R**:  \n",
    "\n",
    "* Getting started with R and RStudio <https://www.reconlearn.org/post/practical-intror.html>  \n",
    "This is part of the reconlearn collection, and is a great introduction to working in R.\n",
    "\n",
    "* General guides - RStudio website <https://www.rstudio.com/online-learning/#r-programming>\n",
    "has plenty of links and suggestions for R programming and related subjects.\n",
    "\n",
    "* <https://cran.r-project.org/>  \n",
    "    * manuals for packages\n",
    "    * **vignettes** - useful examples  \n",
    "    * e.g. for deSolve: <https://cran.r-project.org/web/packages/deSolve/index.html>\n",
    "\n",
    "* Books (free, online)\n",
    "    * <https://adv-r.hadley.nz/> : Advanced R, Hadley Wickham (Second edition)\n",
    "The title is \"advanced R\", but it starts off with a solid guide to fundamentals\n",
    "    * <https://r4ds.had.co.nz/> : R for data science, Hadley Wickham\n",
    "\n",
    "* ggplot help\n",
    "    * <http://r-statistics.co/ggplot2-Tutorial-With-R.html> - a nice tutorial\n",
    "    \n",
    "* **R language definitions**: the official explanation of R\n",
    "    * <https://cran.r-project.org/doc/manuals/r-release/R-lang.html#Introduction>\n",
    "\n",
    "* Q & A sites: such as <https://stackoverflow.com/>\n",
    "\n",
    "\n",
    "Bear in mind that R, and even more so certain packages, can change fast! Often, someone else will be writing something to solve an issue that you've been having, and the next time you look for help, you might find something new. This also means when you search the internet for help, it's often worth double-checking whether what you've found is still valid."
   ]
  },
  {
   "cell_type": "code",
   "execution_count": null,
   "metadata": {},
   "outputs": [],
   "source": []
  }
 ],
 "metadata": {
  "kernelspec": {
   "display_name": "R",
   "language": "R",
   "name": "ir"
  },
  "language_info": {
   "codemirror_mode": "r",
   "file_extension": ".r",
   "mimetype": "text/x-r-source",
   "name": "R",
   "pygments_lexer": "r",
   "version": "3.5.1"
  }
 },
 "nbformat": 4,
 "nbformat_minor": 2
}

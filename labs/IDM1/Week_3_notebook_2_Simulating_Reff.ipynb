{
 "cells": [
  {
   "cell_type": "markdown",
   "metadata": {},
   "source": [
    "# Simulating the effective reproduction number R<sub>eff</sub>"
   ]
  },
  {
   "cell_type": "markdown",
   "metadata": {},
   "source": [
    "In the last etivity, you derived the expression for the basic reproduction number R<sub>0</sub> in the simple SIR model: we get an epidemic only if $\\beta$/$\\gamma$ > 1, i.e. if the average number of secondary cases caused by a single infected case in a totally susceptible population is greater than 1. As susceptibility declines over the course of the epidemic, the effective reproduction number R<sub>eff</sub> determines the shape of the epidemic curve as it reflects the amount of immunity in the population at any given time.\n",
    "\n",
    "Remember that in a simple homogenous SIR model, R<sub>eff</sub> is directly related to the proportion of the population that is susceptible:\n",
    "\\begin{align}\n",
    "R_{eff} = R_{0} \\frac{S}{N}\n",
    "\\end{align}\n",
    "\n",
    "In this etivity, your task is to model an epidemic and study the connection between the behaviour of R<sub>eff</sub> and the epidemic curve. Like in the previous etivities, we are looking at a closed fully susceptible population, into which a single infected person is introduced. The rest is up to you! Use your previously developed SIR code and chose your combination of parameters so that R<sub>0</sub> > 1. Solve the differential equations, and use the output to calculate R<sub>eff</sub> at each timestep. Then, generate 2 plots for comparison: one of the proportion of susceptible, infected and recovered individuals over time, and one of the effective reproduction number over time. \n",
    "\n",
    "Comparing the changes over time is easiest if you can align the R<sub>eff</sub> plot directly below the SIR proportion plot. To achieve this, include the code for the 2 plots right after each other in the same cell, and move the legend of the proportion plot to the bottom using the theme command. Use help(theme) or search the internet to find out how!"
   ]
  },
  {
   "cell_type": "code",
   "execution_count": null,
   "metadata": {},
   "outputs": [],
   "source": [
    "# Modelling the epidemic\n",
    "\n",
    "### YOUR CODE GOES HERE ###\n",
    "\n",
    "# Plotting the proportion of people in each compartment over time\n",
    "\n",
    "### YOUR CODE GOES HERE ###\n",
    "\n",
    "# Plotting Reff\n",
    "\n",
    "### YOUR CODE GOES HERE ###"
   ]
  },
  {
   "cell_type": "markdown",
   "metadata": {},
   "source": [
    "### Question: How does R<sub>eff</sub> vary over the course of the epidemic? What do you notice about the connection between the change in R<sub>eff</sub> and the epidemic curve over time? In relation to R<sub>eff</sub>, when does the epidemic peak and start to decline?"
   ]
  }
 ],
 "metadata": {
  "kernelspec": {
   "display_name": "R",
   "language": "R",
   "name": "ir"
  }
 },
 "nbformat": 4,
 "nbformat_minor": 2
}

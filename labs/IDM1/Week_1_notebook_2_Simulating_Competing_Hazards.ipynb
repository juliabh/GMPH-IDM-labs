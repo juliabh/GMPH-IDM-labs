{
 "cells": [
  {
   "cell_type": "markdown",
   "metadata": {},
   "source": [
    "# Simulating competing hazards"
   ]
  },
  {
   "cell_type": "markdown",
   "metadata": {},
   "source": [
    "Previously, you modelled an infected cohort in R. In this exercise, the focus is on adding disease-induced mortality to this model in order to explore the concept of competing hazards as introduced in the \"Calculating Competing Hazards...\" video. Using this model, you will also calculate the case fatality ratio, and compare it against the result using the formula approach that you have been introduced to.\n",
    "\n",
    "The model we want to specify in this notebook has 3 compartments: I (infected), R (recovered) and M (dead). \n",
    "\n",
    "The differential equations for the model look like this:\n",
    "\\begin{align}\n",
    "\\frac{dI}{dt} & = -\\gamma I -\\mu I \\\\\n",
    "\\frac{dR}{dt} & = \\gamma I \\\\\n",
    "\\frac{dM}{dt} & = \\mu I\n",
    "\\end{align}\n",
    "\n",
    "### Question: what do $\\gamma$ (*gamma*) and $\\mu$ (*mu*)  represent? Draw the model diagram corresponding to these equations.\n",
    "\n",
    "Now, incorporate the new compartment and transition into your code. Since we already have a working scaffold for a model from the first coding etivity, it is good practice to copy and adapt it. In the cell below, copy-paste the **model function** from the previous etivity and modify it according to the new differential equations above. Make sure you understand what every line of the code means, and run it once you're ready."
   ]
  },
  {
   "cell_type": "code",
   "execution_count": 1,
   "metadata": {},
   "outputs": [],
   "source": [
    "# Again you need to load the packages\n",
    "library(deSolve)\n",
    "library(reshape2)\n",
    "library(ggplot2)\n",
    "\n",
    "### YOUR MODEL BELOW: ###"
   ]
  },
  {
   "cell_type": "markdown",
   "metadata": {},
   "source": [
    "Like in the first etivity, you also need to define your model inputs and the time sequence to run the model for. Fill in the cell below based on the following information:\n",
    "At the start, there are 10$^6$ infected people. No one has recovered or died yet. The recovery rate $\\gamma$ is 0.1 days$^{-1}$ and the mortality rate $\\mu$ is 0.2 days$^{-1}$. Again we want to model the course of the infection over 4 weeks.\n",
    "\n",
    "### Question: after 4 weeks, do you expect more people to have recovered or more people to have died, and why? Proceed with the next steps to check if you are right."
   ]
  },
  {
   "cell_type": "code",
   "execution_count": null,
   "metadata": {},
   "outputs": [],
   "source": [
    "initial_state_values <- #YOUR CODE#\n",
    "parameters <- #YOUR CODE#\n",
    "times <- #YOUR CODE#\n",
    "\n",
    "# Look back at the code in the previous etivity if you cannot remember how to define these vectors."
   ]
  },
  {
   "cell_type": "markdown",
   "metadata": {},
   "source": [
    "Now we can solve the differential equations using the deSolve package. If you renamed your model function in the first cell, you of course also have to change it in the following code."
   ]
  },
  {
   "cell_type": "code",
   "execution_count": null,
   "metadata": {},
   "outputs": [],
   "source": [
    "output <- as.data.frame(ode(y = initial_state_values, \n",
    "                            times = times, \n",
    "                            func = cohort_model,\n",
    "                            parms = parameters))"
   ]
  },
  {
   "cell_type": "markdown",
   "metadata": {},
   "source": [
    "It's always a good idea to plot the model output to see if it makes sense. Do this below, keeping in mind we now have 3 lines: the number infected, recovered and deceased over time. Additionally, try to give the legend a more informative title than \"variable\". The best way to find out how is to search the internet! For example, look up something like: *ggplot change legend title* in your favourite search engine.\n",
    "\n",
    "Was your hypothesis regarding the previous question correct?"
   ]
  },
  {
   "cell_type": "code",
   "execution_count": null,
   "metadata": {},
   "outputs": [],
   "source": [
    "### YOUR PLOT CODE GOES HERE ###"
   ]
  },
  {
   "cell_type": "markdown",
   "metadata": {},
   "source": [
    "The next few exercises allow you to explore the competing hazards between recovery and death.\n",
    "\n",
    "### Question: based on the model output, what proportion of the initially infected cohort died before recovering over the 4 week period?"
   ]
  },
  {
   "cell_type": "code",
   "execution_count": null,
   "metadata": {},
   "outputs": [],
   "source": [
    "# Answer: "
   ]
  },
  {
   "cell_type": "markdown",
   "metadata": {},
   "source": [
    "### Question: now use the competing hazards formula given in the video lecture to calculate the case fatality rate. Does this agree with your answer to the previous question?"
   ]
  },
  {
   "cell_type": "code",
   "execution_count": null,
   "metadata": {},
   "outputs": [],
   "source": [
    "# Answer: "
   ]
  },
  {
   "cell_type": "markdown",
   "metadata": {},
   "source": [
    "### Question: Which value of $\\mu$ do you need to get a case fatality rate of 50% assuming $\\gamma$ stays fixed? You can calculate this on paper.\n",
    "\n",
    "In the cell below, copy-paste the code from above and modify it to simulate the model using using the $\\mu$ value that you have just calculated. Verify that the code does indeed gives you a CFR of 50%!"
   ]
  },
  {
   "cell_type": "code",
   "execution_count": null,
   "metadata": {},
   "outputs": [],
   "source": [
    "### YOUR CODE GOES HERE ###"
   ]
  },
  {
   "cell_type": "markdown",
   "metadata": {},
   "source": [
    "**Once you are done, have a look at the model answers in the \"Solutions\" folder!**"
   ]
  }
 ],
 "metadata": {
  "kernelspec": {
   "display_name": "R",
   "language": "R",
   "name": "ir"
  },
  "language_info": {
   "codemirror_mode": "r",
   "file_extension": ".r",
   "mimetype": "text/x-r-source",
   "name": "R",
   "pygments_lexer": "r",
   "version": "3.5.1"
  }
 },
 "nbformat": 4,
 "nbformat_minor": 2
}

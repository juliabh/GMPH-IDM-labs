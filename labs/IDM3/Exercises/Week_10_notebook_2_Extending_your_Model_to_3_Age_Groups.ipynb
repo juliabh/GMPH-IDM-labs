{
 "cells": [
  {
   "cell_type": "markdown",
   "metadata": {},
   "source": [
    "# Extending your model to 3 age groups"
   ]
  },
  {
   "cell_type": "markdown",
   "metadata": {},
   "source": [
    "In the previous exercise, you coded your first simple age-structured model. To develop this further, you will now extend the model structure to 3 age groups - to represent children, adults and the elderly in separate sets of SIR compartments. We are modelling the same infection and population as in the previous etivity, with the only difference being this additional distinction between adults and the elderly. Again, these 3 age groups experience different forces of infection due to age-specific mixing.\n",
    "\n",
    "Here is the input information for your model:\n",
    "- The probability of infection per contact, $b$, is 5% for people of all ages\n",
    "- The total population size is 1 million, and children make up 20% of this population. 15% of the population are elderly.\n",
    "- The population has not been exposed to the infection before.\n",
    "\n",
    "The contacts between our 3 age groups can be summarised in a contact matrix, as follows:\n",
    "\\begin{pmatrix}\n",
    "c_{11} & c_{12} & c_{13} \\\\\n",
    "c_{21} & c_{22} & c_{23} \\\\\n",
    "c_{31} & c_{32} & c_{33} \n",
    "\\end{pmatrix}\n",
    "where 1 represents children, 2 represents adults and 3 represents the elderly.\n",
    "\n",
    "In this example, the average daily number of contacts between the different age groups in the contact matrix are:\n",
    "\\begin{pmatrix}\n",
    "7 & 5 & 1 \\\\\n",
    "2 & 9 & 1 \\\\\n",
    "1 & 3 & 2 \n",
    "\\end{pmatrix}\n",
    "\n",
    "In the cell below, write code for this SIR model with 3 age groups. You can copy-paste and extend the code from the previous etivity, but you may also want to think about how you could code this model in a way that would more easily allow you to split the population into further age groups.\n",
    "\n",
    "### Question: How many infections occurred in each age group over the course of the epidemic, and what proportion of children, adults and elderly individuals does this represent? How does this compare to your result from the previous etivity?"
   ]
  },
  {
   "cell_type": "code",
   "execution_count": 1,
   "metadata": {},
   "outputs": [],
   "source": [
    "### YOUR CODE GOES HERE ###"
   ]
  }
 ],
 "metadata": {
  "kernelspec": {
   "display_name": "R",
   "language": "R",
   "name": "ir"
  },
  "language_info": {
   "codemirror_mode": "r",
   "file_extension": ".r",
   "mimetype": "text/x-r-source",
   "name": "R",
   "pygments_lexer": "r",
   "version": "3.5.1"
  }
 },
 "nbformat": 4,
 "nbformat_minor": 2
}

{
 "cells": [
  {
   "cell_type": "markdown",
   "metadata": {},
   "source": [
    "# Developing an age-structured model in R"
   ]
  },
  {
   "cell_type": "markdown",
   "metadata": {},
   "source": [
    "In the lecture, you learned how to structure an SIR model into two age groups and how to define the force of infection in a population with age-specific mixing. In this exercise, you get to put this into practice to simulate an outbreak in R.\n",
    "\n",
    "From the previous etivity, you will remember the structure for a model stratified into children and adults:\n",
    "\n",
    "<img src=\"../GraphicsAndData/w10_nb1_model_diagram.png\">\n",
    "\n",
    "You will already be familiar with some assumptions underlying this structure. There are no arrows going from compartments 1 (children) to compartments 2 (adults), which means we assume there is no ageing in this population. Of course, this is only realistic if we are modelling an infection over a relatively short timespan, where ageing from childhood into adulthood doesn't matter. Additionally, we assume that children and adults all recover from the infection at the same rate $\\gamma$.\n",
    "\n",
    "The reason why we are stratifying the population into different age groups is because we assume age-specific mixing patterns, meaning that different ages experience different forces of infection. In our model, susceptible children experience a force of infection $\\lambda_1$ and susceptible adults become infected at a rate $\\lambda_2$. \n",
    "\n",
    "Remember, in previous models we have summarised the infection rate with the $\\beta$ parameter. However, to model age-specific mixing patterns in a population, it is helpful to break $\\beta$ down into its 2 key components:\n",
    "- $b$, the probability of infection per contact\n",
    "- $c_{ij}$, the number of contacts that a susceptible person in age group i makes with people in age group j per unit time\n",
    "\n",
    "In this exercise, we are modelling an outbreak in a population based in the UK. Based on the Mossong contact study you covered in a previous reading, we assume that in Great Britain, children make 13 contacts per day on average, of which 7 are with other children, and that adults make 11 contacts per day on average, of which 10 are with other adults. This gives the following contact parameters:\n",
    "\n",
    "$c_{11} = 7$  \n",
    "$c_{12} = 6$  \n",
    "$c_{21} = 1$  \n",
    "$c_{22} = 10$  \n",
    "\n",
    "We also assume that the probability of infection per contact, $b$, is the same for children and adults and equals 5% for the disease we are modelling, and that people remain infected on average for 5 days. The total population size is 1 million, and children make up 20% of that population.\n",
    "\n",
    "Based on this information, write code to simulate an infection in a totally naïve (unexposed) population over the course of 3 months in the cell below, and plot the full model output. \n",
    "\n",
    "### Question: What was the cumulative incidence of infection during this epidemic? What proportion of those infections occurred in children?\n",
    "\n",
    "*Hint: since this is an SIR model, you can use a simple approach to calculate the cumulative incidence.*\n",
    "\n",
    "### Question: Which age group was most affected by the epidemic?"
   ]
  },
  {
   "cell_type": "code",
   "execution_count": null,
   "metadata": {},
   "outputs": [],
   "source": [
    "### YOUR CODE GOES HERE ###"
   ]
  },
  {
   "cell_type": "markdown",
   "metadata": {},
   "source": [
    "Note that there is more than one correct approach to coding this model, so don't worry if your code looks different from the solution file (as long as your reasoning and result are correct of course). We will cover another approach in the next etivity.\n",
    "\n",
    "## Additional information: realistic contact patterns\n",
    "\n",
    "In this exercise, we have used empirical data from the Mossong study to assign values to our contact parameters. However, it is also useful to think more generally about what makes a realistic contact pattern in human populations. \n",
    "\n",
    "If you think about it, it is logical that within a population, the total number of contacts made by children with adults has to be consistent with the total number of contacts made by adults with children. We can check if this is the case in our example by calculating if our contact parameters fulfill this condition:\n",
    "\n",
    "Average daily number of contacts made by children with adults ($c_{12}$) * proportion of children in the population = average daily number of contacts made by adults with children ($c_{21}$) * proportion of adults in the population\n",
    "\n",
    "\\begin{align}\n",
    "6 \\times 0.2 =  1.2 \\\\\n",
    "1 \\times 0.8 = 0.8\n",
    "\\end{align}\n",
    "\n",
    "... which is approximately the same, given that we have rounded the average number of contacts to whole numbers for simplicity in this example!"
   ]
  }
 ],
 "metadata": {
  "kernelspec": {
   "display_name": "R",
   "language": "R",
   "name": "ir"
  }
 },
 "nbformat": 4,
 "nbformat_minor": 2
}

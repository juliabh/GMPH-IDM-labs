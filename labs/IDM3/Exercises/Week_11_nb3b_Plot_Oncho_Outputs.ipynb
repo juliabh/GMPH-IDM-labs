{
 "cells": [
  {
   "cell_type": "markdown",
   "metadata": {},
   "source": [
    "# Onchocerciasis model outputs\n",
    "\n",
    "By now you should have run the onchocerciasis model with linear parasite-induced vector mortality (PIVM) and filled in the .csv file provided. Here you will fill in some code to plot the results."
   ]
  },
  {
   "cell_type": "markdown",
   "metadata": {},
   "source": [
    "First, run this cell to load your data. Have a look at the file to check it looks like you were expecting."
   ]
  },
  {
   "cell_type": "code",
   "execution_count": 9,
   "metadata": {},
   "outputs": [
    {
     "data": {
      "text/html": [
       "<table>\n",
       "<thead><tr><th scope=col>Village</th><th scope=col>No</th><th scope=col>ABR</th><th scope=col>ATP</th><th scope=col>P_obs</th><th scope=col>P_pred</th><th scope=col>M_obs</th><th scope=col>M_pred</th><th scope=col>L_obs</th><th scope=col>L_pred</th><th scope=col>ATP_pred</th><th scope=col>Country</th></tr></thead>\n",
       "<tbody>\n",
       "\t<tr><td>Tcholliré    </td><td> 1           </td><td>  1000       </td><td>  17         </td><td> 49.5        </td><td>NA           </td><td>  9.6        </td><td>NA           </td><td>0.017        </td><td>NA           </td><td>NA           </td><td> Cameroon    </td></tr>\n",
       "\t<tr><td>R. Manga     </td><td> 2           </td><td>  2200       </td><td>  49         </td><td> 51.9        </td><td>NA           </td><td> 10.2        </td><td>NA           </td><td>0.016        </td><td>NA           </td><td>NA           </td><td> Cameroon    </td></tr>\n",
       "\t<tr><td>Nonozé       </td><td> 3           </td><td>  2400       </td><td>  77         </td><td>   NA        </td><td>NA           </td><td> 33.6        </td><td>NA           </td><td>0.032        </td><td>NA           </td><td>NA           </td><td> Cameroon    </td></tr>\n",
       "\t<tr><td>Douffing     </td><td> 4           </td><td>  2500       </td><td>  55         </td><td> 62.2        </td><td>NA           </td><td> 21.0        </td><td>NA           </td><td>0.022        </td><td>NA           </td><td>NA           </td><td> Cameroon    </td></tr>\n",
       "\t<tr><td>Nasso        </td><td> 5           </td><td>  2620       </td><td> 222         </td><td> 54.8        </td><td>NA           </td><td> 28.0        </td><td>NA           </td><td>0.085        </td><td>NA           </td><td>NA           </td><td> B.F./C.d'I. </td></tr>\n",
       "\t<tr><td>Touboro      </td><td> 6           </td><td>  8960       </td><td> 922         </td><td>   71        </td><td>NA           </td><td> 56.4        </td><td>NA           </td><td>0.103        </td><td>NA           </td><td>NA           </td><td> Cameroon    </td></tr>\n",
       "\t<tr><td>Péndié       </td><td> 7           </td><td>  9674       </td><td> 959         </td><td> 70.3        </td><td>NA           </td><td> 41.5        </td><td>NA           </td><td>0.099        </td><td>NA           </td><td>NA           </td><td> B.F./C.d'I. </td></tr>\n",
       "\t<tr><td>Larki        </td><td> 8           </td><td> 10700       </td><td>  79         </td><td> 65.9        </td><td>NA           </td><td> 14.4        </td><td>NA           </td><td>0.007        </td><td>NA           </td><td>NA           </td><td> Cameroon    </td></tr>\n",
       "\t<tr><td>Gandi-2      </td><td> 9           </td><td> 14152       </td><td> 474         </td><td> 71.8        </td><td>NA           </td><td> 39.0        </td><td>NA           </td><td>0.033        </td><td>NA           </td><td>NA           </td><td> Cameroon    </td></tr>\n",
       "\t<tr><td>Bonandiga    </td><td>10           </td><td> 16850       </td><td>1673         </td><td> 85.2        </td><td>NA           </td><td> 64.2        </td><td>NA           </td><td>0.099        </td><td>NA           </td><td>NA           </td><td> Cameroon    </td></tr>\n",
       "\t<tr><td>Dangouadougou</td><td>11           </td><td> 21300       </td><td>1601         </td><td>   73        </td><td>NA           </td><td> 54.3        </td><td>NA           </td><td>0.075        </td><td>NA           </td><td>NA           </td><td> B.F./C.d'I. </td></tr>\n",
       "\t<tr><td>Mbai-Mboum   </td><td>12           </td><td> 28500       </td><td>1750         </td><td> 94.3        </td><td>NA           </td><td> 65.3        </td><td>NA           </td><td>0.061        </td><td>NA           </td><td>NA           </td><td> Cameroon    </td></tr>\n",
       "\t<tr><td>Mayo Galké   </td><td>13           </td><td> 36200       </td><td>1318         </td><td> 91.6        </td><td>NA           </td><td> 60.6        </td><td>NA           </td><td>0.036        </td><td>NA           </td><td>NA           </td><td> Cameroon    </td></tr>\n",
       "\t<tr><td>Fétékro      </td><td>14           </td><td> 48000       </td><td>1948         </td><td>   76        </td><td>NA           </td><td> 66.0        </td><td>NA           </td><td>0.041        </td><td>NA           </td><td>NA           </td><td> B.F./C.d'I. </td></tr>\n",
       "\t<tr><td>Bédara       </td><td>15           </td><td>174750       </td><td>6925         </td><td>   98        </td><td>NA           </td><td>119.0        </td><td>NA           </td><td>0.040        </td><td>NA           </td><td>NA           </td><td> Cameroon    </td></tr>\n",
       "</tbody>\n",
       "</table>\n"
      ],
      "text/latex": [
       "\\begin{tabular}{r|llllllllllll}\n",
       " Village & No & ABR & ATP & P\\_obs & P\\_pred & M\\_obs & M\\_pred & L\\_obs & L\\_pred & ATP\\_pred & Country\\\\\n",
       "\\hline\n",
       "\t Tcholliré     &  1            &   1000        &   17          &  49.5         & NA            &   9.6         & NA            & 0.017         & NA            & NA            &  Cameroon    \\\\\n",
       "\t R. Manga      &  2            &   2200        &   49          &  51.9         & NA            &  10.2         & NA            & 0.016         & NA            & NA            &  Cameroon    \\\\\n",
       "\t Nonozé        &  3            &   2400        &   77          &    NA         & NA            &  33.6         & NA            & 0.032         & NA            & NA            &  Cameroon    \\\\\n",
       "\t Douffing      &  4            &   2500        &   55          &  62.2         & NA            &  21.0         & NA            & 0.022         & NA            & NA            &  Cameroon    \\\\\n",
       "\t Nasso         &  5            &   2620        &  222          &  54.8         & NA            &  28.0         & NA            & 0.085         & NA            & NA            &  B.F./C.d'I. \\\\\n",
       "\t Touboro       &  6            &   8960        &  922          &    71         & NA            &  56.4         & NA            & 0.103         & NA            & NA            &  Cameroon    \\\\\n",
       "\t Péndié        &  7            &   9674        &  959          &  70.3         & NA            &  41.5         & NA            & 0.099         & NA            & NA            &  B.F./C.d'I. \\\\\n",
       "\t Larki         &  8            &  10700        &   79          &  65.9         & NA            &  14.4         & NA            & 0.007         & NA            & NA            &  Cameroon    \\\\\n",
       "\t Gandi-2       &  9            &  14152        &  474          &  71.8         & NA            &  39.0         & NA            & 0.033         & NA            & NA            &  Cameroon    \\\\\n",
       "\t Bonandiga     & 10            &  16850        & 1673          &  85.2         & NA            &  64.2         & NA            & 0.099         & NA            & NA            &  Cameroon    \\\\\n",
       "\t Dangouadougou & 11            &  21300        & 1601          &    73         & NA            &  54.3         & NA            & 0.075         & NA            & NA            &  B.F./C.d'I. \\\\\n",
       "\t Mbai-Mboum    & 12            &  28500        & 1750          &  94.3         & NA            &  65.3         & NA            & 0.061         & NA            & NA            &  Cameroon    \\\\\n",
       "\t Mayo Galké    & 13            &  36200        & 1318          &  91.6         & NA            &  60.6         & NA            & 0.036         & NA            & NA            &  Cameroon    \\\\\n",
       "\t Fétékro       & 14            &  48000        & 1948          &    76         & NA            &  66.0         & NA            & 0.041         & NA            & NA            &  B.F./C.d'I. \\\\\n",
       "\t Bédara        & 15            & 174750        & 6925          &    98         & NA            & 119.0         & NA            & 0.040         & NA            & NA            &  Cameroon    \\\\\n",
       "\\end{tabular}\n"
      ],
      "text/markdown": [
       "\n",
       "| Village | No | ABR | ATP | P_obs | P_pred | M_obs | M_pred | L_obs | L_pred | ATP_pred | Country |\n",
       "|---|---|---|---|---|---|---|---|---|---|---|---|\n",
       "| Tcholliré     |  1            |   1000        |   17          |  49.5         | NA            |   9.6         | NA            | 0.017         | NA            | NA            |  Cameroon     |\n",
       "| R. Manga      |  2            |   2200        |   49          |  51.9         | NA            |  10.2         | NA            | 0.016         | NA            | NA            |  Cameroon     |\n",
       "| Nonozé        |  3            |   2400        |   77          |    NA         | NA            |  33.6         | NA            | 0.032         | NA            | NA            |  Cameroon     |\n",
       "| Douffing      |  4            |   2500        |   55          |  62.2         | NA            |  21.0         | NA            | 0.022         | NA            | NA            |  Cameroon     |\n",
       "| Nasso         |  5            |   2620        |  222          |  54.8         | NA            |  28.0         | NA            | 0.085         | NA            | NA            |  B.F./C.d'I.  |\n",
       "| Touboro       |  6            |   8960        |  922          |    71         | NA            |  56.4         | NA            | 0.103         | NA            | NA            |  Cameroon     |\n",
       "| Péndié        |  7            |   9674        |  959          |  70.3         | NA            |  41.5         | NA            | 0.099         | NA            | NA            |  B.F./C.d'I.  |\n",
       "| Larki         |  8            |  10700        |   79          |  65.9         | NA            |  14.4         | NA            | 0.007         | NA            | NA            |  Cameroon     |\n",
       "| Gandi-2       |  9            |  14152        |  474          |  71.8         | NA            |  39.0         | NA            | 0.033         | NA            | NA            |  Cameroon     |\n",
       "| Bonandiga     | 10            |  16850        | 1673          |  85.2         | NA            |  64.2         | NA            | 0.099         | NA            | NA            |  Cameroon     |\n",
       "| Dangouadougou | 11            |  21300        | 1601          |    73         | NA            |  54.3         | NA            | 0.075         | NA            | NA            |  B.F./C.d'I.  |\n",
       "| Mbai-Mboum    | 12            |  28500        | 1750          |  94.3         | NA            |  65.3         | NA            | 0.061         | NA            | NA            |  Cameroon     |\n",
       "| Mayo Galké    | 13            |  36200        | 1318          |  91.6         | NA            |  60.6         | NA            | 0.036         | NA            | NA            |  Cameroon     |\n",
       "| Fétékro       | 14            |  48000        | 1948          |    76         | NA            |  66.0         | NA            | 0.041         | NA            | NA            |  B.F./C.d'I.  |\n",
       "| Bédara        | 15            | 174750        | 6925          |    98         | NA            | 119.0         | NA            | 0.040         | NA            | NA            |  Cameroon     |\n",
       "\n"
      ],
      "text/plain": [
       "   Village       No ABR    ATP  P_obs P_pred M_obs M_pred L_obs L_pred ATP_pred\n",
       "1  Tcholliré      1   1000   17  49.5 NA       9.6 NA     0.017 NA     NA      \n",
       "2  R. Manga       2   2200   49  51.9 NA      10.2 NA     0.016 NA     NA      \n",
       "3  Nonozé         3   2400   77    NA NA      33.6 NA     0.032 NA     NA      \n",
       "4  Douffing       4   2500   55  62.2 NA      21.0 NA     0.022 NA     NA      \n",
       "5  Nasso          5   2620  222  54.8 NA      28.0 NA     0.085 NA     NA      \n",
       "6  Touboro        6   8960  922    71 NA      56.4 NA     0.103 NA     NA      \n",
       "7  Péndié         7   9674  959  70.3 NA      41.5 NA     0.099 NA     NA      \n",
       "8  Larki          8  10700   79  65.9 NA      14.4 NA     0.007 NA     NA      \n",
       "9  Gandi-2        9  14152  474  71.8 NA      39.0 NA     0.033 NA     NA      \n",
       "10 Bonandiga     10  16850 1673  85.2 NA      64.2 NA     0.099 NA     NA      \n",
       "11 Dangouadougou 11  21300 1601    73 NA      54.3 NA     0.075 NA     NA      \n",
       "12 Mbai-Mboum    12  28500 1750  94.3 NA      65.3 NA     0.061 NA     NA      \n",
       "13 Mayo Galké    13  36200 1318  91.6 NA      60.6 NA     0.036 NA     NA      \n",
       "14 Fétékro       14  48000 1948    76 NA      66.0 NA     0.041 NA     NA      \n",
       "15 Bédara        15 174750 6925    98 NA     119.0 NA     0.040 NA     NA      \n",
       "   Country     \n",
       "1   Cameroon   \n",
       "2   Cameroon   \n",
       "3   Cameroon   \n",
       "4   Cameroon   \n",
       "5   B.F./C.d'I.\n",
       "6   Cameroon   \n",
       "7   B.F./C.d'I.\n",
       "8   Cameroon   \n",
       "9   Cameroon   \n",
       "10  Cameroon   \n",
       "11  B.F./C.d'I.\n",
       "12  Cameroon   \n",
       "13  Cameroon   \n",
       "14  B.F./C.d'I.\n",
       "15  Cameroon   "
      ]
     },
     "metadata": {},
     "output_type": "display_data"
    }
   ],
   "source": [
    "dat <- read.csv(\"Graphics and Data/oncho_main_outputs.csv\",\n",
    "                 stringsAsFactors = F)\n",
    "\n",
    "dat"
   ]
  },
  {
   "cell_type": "markdown",
   "metadata": {},
   "source": [
    "Now, start plotting! \n",
    "\n",
    "Plot:  \n",
    "* $P_{obs}$ and $P_{pred}$ (linear PIVM) vs ABR  \n",
    "* $M_{obs}$ and $M_{pred}$ (linear PIVM) vs ABR  \n",
    "\n",
    "What is the shape of these relationships?  \n",
    " "
   ]
  },
  {
   "cell_type": "code",
   "execution_count": 7,
   "metadata": {},
   "outputs": [],
   "source": [
    "## YOUR CODE HERE ##"
   ]
  },
  {
   "cell_type": "markdown",
   "metadata": {},
   "source": [
    "Now plot:  \n",
    "* $M_{obs}$ vs $M_{pred}$  \n",
    "  \n",
    "Fit a trendline to this plot, set intercept to zero, and include the equation and coefficient of determination (R2) in the plot.\n",
    "Is the model over- or underestimating microfilarial prevalence and intensity?\n"
   ]
  },
  {
   "cell_type": "code",
   "execution_count": null,
   "metadata": {},
   "outputs": [],
   "source": [
    "## YOUR CODE HERE ##"
   ]
  },
  {
   "cell_type": "markdown",
   "metadata": {},
   "source": [
    "Finally, plot  \n",
    "  \n",
    "* $L_{obs}$ vs $L_{pred}$ (linear PIVM) vs ABR  \n",
    "  \n",
    "What do you conclude?"
   ]
  },
  {
   "cell_type": "code",
   "execution_count": null,
   "metadata": {},
   "outputs": [],
   "source": [
    "## YOUR CODE HERE ##"
   ]
  }
 ],
 "metadata": {
  "kernelspec": {
   "display_name": "R",
   "language": "R",
   "name": "ir"
  }
 },
 "nbformat": 4,
 "nbformat_minor": 2
}

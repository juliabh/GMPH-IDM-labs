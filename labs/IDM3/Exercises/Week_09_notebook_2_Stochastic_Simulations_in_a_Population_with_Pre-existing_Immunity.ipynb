{
 "cells": [
  {
   "cell_type": "markdown",
   "metadata": {},
   "source": [
    "# Stochastic simulations in a population with pre-existing immunity"
   ]
  },
  {
   "cell_type": "markdown",
   "metadata": {},
   "source": [
    "In the previous etivity, you explored the effect of stochasticity on the introduction of a novel pathogen in a previously unexposed population, where chance events can determine whether an outbreak occurs or not. Another situation where randomness is important is when modelling the re-emergence of a pathogen in a population with enough background immunity that the effective reproduction number, R<sub>eff</sub>, is lower than 1.\n",
    "\n",
    "The pathogen we modelled in the previous exercise did not transmit efficiently in our population, with values of R<sub>0</sub> below or just over 1. However, in this etivity, we are now dealing with a highly transmissible infection, with an R<sub>0</sub> of 10: the values of $\\beta$ and $\\gamma$ are 1 and 0.1 days$^{-1}$ respectively. This time, we are also simulating for 1 year. \n",
    "\n",
    "As before, you can work with the *simulate_stoch_model()* function in the cell below, but this time your task is to explore different levels of background immunity rather than changing R<sub>0</sub>. \n",
    "\n",
    "Imagine that most of the population is immune. In the code below, adapt *p_immune*, the proportion of the population that is immune to the infection at the beginning of the simulation, to reflect varying levels of immunity. Choose values to correspond to an effective reproduction number of 0.1 and of 0.9.\n",
    "\n",
    "### Question: How often do you observe an epidemic for R<sub>eff</sub> = 0.1 and for R<sub>eff</sub> = 0.9? What is the largest cumulative incidence that you find in each case by the end of the simulation period?"
   ]
  },
  {
   "cell_type": "code",
   "execution_count": null,
   "metadata": {},
   "outputs": [],
   "source": [
    "library(\"GillespieSSA\")                           # load package for stochastic algorithm\n",
    "library(ggplot2)                                  # load plotting package\n",
    "source(\"w9_function.R\")                 # loading the function for simulating repeated iterations\n",
    "\n",
    "N <- 1000000                                                  # total population size\n",
    "\n",
    "# Reff = 0.1\n",
    "p_immune <-#YOUR CODE#                                        # proportion of the population immune at the beginning\n",
    "\n",
    "initial_state_values <- c(S = (1-p_immune) * N,  \n",
    "                          I = 1,       \n",
    "                          R = p_immune * N,\n",
    "                          cum_inc = 0)\n",
    "\n",
    "# Simulate the stochastic model\n",
    "res1 <- simulate_stoch_model(beta = 1, \n",
    "                             gamma = 0.1, \n",
    "                             n_sims = 100, \n",
    "                             plot = \"prevalence\",\n",
    "                             final_time = 365)"
   ]
  },
  {
   "cell_type": "code",
   "execution_count": null,
   "metadata": {},
   "outputs": [],
   "source": [
    "# Reff = 0.9\n",
    "p_immune <- #YOUR CODE#                                        # proportion of the population immune at the beginning\n",
    "\n",
    "initial_state_values <- c(S = (1-p_immune) * N,  \n",
    "                          I = 1,       \n",
    "                          R = p_immune * N,\n",
    "                          cum_inc = 0)\n",
    "\n",
    "# Simulate the stochastic model\n",
    "res2 <- simulate_stoch_model(beta = 1, \n",
    "                             gamma = 0.1, \n",
    "                             n_sims = 100, \n",
    "                             plot = \"prevalence\",\n",
    "                             final_time = 365)"
   ]
  }
 ],
 "metadata": {
  "kernelspec": {
   "display_name": "R",
   "language": "R",
   "name": "ir"
  }
 },
 "nbformat": 4,
 "nbformat_minor": 2
}

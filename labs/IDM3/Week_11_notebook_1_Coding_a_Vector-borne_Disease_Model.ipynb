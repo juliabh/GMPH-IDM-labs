{
 "cells": [
  {
   "cell_type": "markdown",
   "metadata": {},
   "source": [
    "# Coding a vector-borne disease (VBD) model"
   ]
  },
  {
   "cell_type": "markdown",
   "metadata": {},
   "source": [
    "In this etivity, you will practice coding a simple model of dengue transmission, using the classic vector-borne disease (VBD) framework introduced in the video. Remember that for VBD models, in addition to the human population, we also need to represent the vector to model transmission events. You will use this model to explore the effect of varying vector-related parameter values on infection prevalence in humans.\n",
    "\n",
    "To keep it simple, we are only including a single serotype within the model. The differential equations for the mosquito population dynamics are:\n",
    "\n",
    "\\begin{align}\n",
    "\\frac{dS_V}{dt} &= \\mu_V N_V - \\frac{a b_V}{N_H} S_V I_H - \\mu_V S_V \\\\\n",
    "\\frac{dI_V}{dt} &= \\frac{a b_V}{N_H} S_V I_H - \\mu_V I_V\n",
    "\\end{align}\n",
    "\n",
    "The differential equations for the human host population dynamics are:\n",
    "\n",
    "\\begin{align}\n",
    "\\frac{dS_H}{dt} &= - \\frac{a b_H}{N_H} S_H I_V \\\\\n",
    "\\frac{dI_H}{dt} &= \\frac{a b_H}{N_H} S_H I_V - r I_H \\\\\n",
    "\\frac{dR_H}{dt} &= r I_H\n",
    "\\end{align}\n",
    "\n",
    "### Question: What assumptions are you making using this model structure? Consider the host and vector population, transmission dynamics and biting behaviour, and the natural history of infection.\n",
    "\n",
    "Based on information from Nishiura (2006), develop a model of a closed system of 20,000 vectors and 10,000 humans, assuming an infection prevalence of 0.28% in humans and 0.057% in mosquitoes and that everyone else is susceptible. The parameter values for this dengue model are as follows:\n",
    "\n",
    "- Biting rate $a$ = 1 days$^{-1}$\n",
    "- Probability of infection from an infected host to a susceptible vector, $b_V$ = 0.4\n",
    "- Probability of infection from an infected vector to a susceptible host, $b_H$ = 0.4\n",
    "- Mortality rate of the vector $\\mu_V$ = 0.25 days$^{-1}$\n",
    "- Recovery rate of the host, $r$ = 0.167 days$^{-1}$\n",
    "\n",
    "### Question: In 1 sentence each, describe what these 5 parameters mean in terms of frequency of biting, transmission probability, vector life expectancy and duration of dengue infection. \n",
    "\n",
    "Building on your SIR model code, code this model in the following cell and simulate it for a period of 3 months. Plot the number of hosts and vectors in each compartment over this time period."
   ]
  },
  {
   "cell_type": "code",
   "execution_count": null,
   "metadata": {},
   "outputs": [],
   "source": [
    "### YOUR CODE GOES HERE ###"
   ]
  },
  {
   "cell_type": "markdown",
   "metadata": {},
   "source": [
    "## Sensitivity of infection prevalence to the biting rate\n",
    "\n",
    "Theoretical studies of the behaviour of mathematical models under different parameter assumptions have had an important contribution to our understanding of VBD transmission dynamics and control. Here, we will do a simple **univariate sensitivity analysis** to explore how varying values of the biting rate affect infection prevalence in humans in our modelled dengue outbreak, keeping all other parameters constant.\n",
    "\n",
    "The easiest way of visualising this is to plot the infection prevalence over time for given values of the parameter in a single plot. In the cell below, we are using a **for loop** to simulate the model for a set of biting rate values. Fill in the #YOUR CODE# placeholders below and run the code.\n",
    "\n",
    "Answer the following questions:\n",
    "### Based on the plot, how do assumptions of the mosquito biting activity affect the human infection prevalence?\n",
    "\n",
    "### In reality, what might affect the average number of bites a mosquito takes per unit time? Is it realistic to assume that the biting rate stays constant over time in the simulation?\n",
    "\n",
    "### How could you extend this model for a more realistic representation of dengue transmission dynamics?"
   ]
  },
  {
   "cell_type": "code",
   "execution_count": null,
   "metadata": {},
   "outputs": [],
   "source": [
    "a_values <- seq(0,1,by=0.1)                        # a vector of values for the biting rate, ranging from 0 to 1 per day\n",
    "out_list <- vector(length(a_values), mode = \"list\")# create an object (list) to store the output for each value of a\n",
    "\n",
    "for (i in seq_along(a_values)) {      # start for loop: for each value in the a_values vector...\n",
    "\n",
    "# ... simulate the model and store the output in the out_list object:\n",
    "out_list[[i]] <- as.data.frame(ode(y = initial_state_values, \n",
    "                                   times = times, \n",
    "                                   func = vbd_model,\n",
    "                                   parms = c(#YOUR CODE#,          # fill in remaining parameter values\n",
    "                                             a = a_values[i])))\n",
    "}                                      # close the loop\n",
    "                                   \n",
    "names(out_list) <- a_values            # rename list elements according to the corresponding biting rate value\n",
    "                                   \n",
    "# Extract the infected host column from the list and creating a dataframe by time\n",
    "out_inf <- cbind(time = out_list[[1]]$time, \n",
    "                 sapply(out_list, \n",
    "                        \"[[\", \n",
    "                        \"#YOUR CODE#\"))    # fill in the name of your column for infected hosts                          \n",
    "\n",
    "# Turn into long format                                \n",
    "out_inf_long <- melt(as.data.frame(out_inf), id = \"time\") \n",
    "\n",
    "# Plot the infection prevalence for each biting rate value                                   \n",
    "ggplot(data = out_inf_long,                                               \n",
    "       aes(x = time, y = value, colour = variable, group = variable)) +  \n",
    "  geom_line() +\n",
    "  xlab(\"Time (days)\") +                                                   \n",
    "  ylab(\"Human infection prevalence\") +                                     \n",
    "  labs(colour = \"Biting rate per day\") "
   ]
  },
  {
   "cell_type": "markdown",
   "metadata": {},
   "source": [
    "## Reference\n",
    "\n",
    "Nishiura, Hiroshi (2006). Mathematical and Statistical Analyses of the Spread of Dengue. WHO Regional Office for South-East Asia. https://apps.who.int/iris/handle/10665/170261 "
   ]
  }
 ],
 "metadata": {
  "kernelspec": {
   "display_name": "R",
   "language": "R",
   "name": "ir"
  },
  "language_info": {
   "codemirror_mode": "r",
   "file_extension": ".r",
   "mimetype": "text/x-r-source",
   "name": "R",
   "pygments_lexer": "r",
   "version": "3.5.1"
  }
 },
 "nbformat": 4,
 "nbformat_minor": 2
}

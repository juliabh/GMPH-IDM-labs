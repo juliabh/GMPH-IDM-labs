{
 "cells": [
  {
   "cell_type": "markdown",
   "metadata": {},
   "source": [
    "# Solution: Modelling an infected cohort"
   ]
  },
  {
   "cell_type": "code",
   "execution_count": 1,
   "metadata": {},
   "outputs": [],
   "source": [
    "# Loading the packages\n",
    "library(deSolve)   # package with functions to solve the model\n",
    "library(reshape2)  # package with functions to turn the model output into a long format\n",
    "library(ggplot2)   # package for plotting"
   ]
  },
  {
   "cell_type": "markdown",
   "metadata": {},
   "source": [
    "Filling in the input and specifying timesteps:"
   ]
  },
  {
   "cell_type": "code",
   "execution_count": 2,
   "metadata": {},
   "outputs": [],
   "source": [
    "initial_number_infected <- 10e6  # a cohort of 1000000 currently infected people\n",
    "initial_number_recovered <- 0       # no one has recovered yet at the beginning of the simulation\n",
    "recovery_rate <- 1/10               # the average duration spent in the I compartment is 10 days,\n",
    "                                    # so the rate of recovery is 1/10 days^-1 or 0.1 per day\n",
    "follow_up_duration <- 4*7           # we want to know how many people recover from the infection over a 4 week period, \n",
    "                                    # which equals 4*7 = 28 days\n",
    "\n",
    "# Combine into the model input vectors:\n",
    "initial_state_values <- c(I = initial_number_infected, \n",
    "                          R = initial_number_recovered)  \n",
    "\n",
    "parameters <- c(gamma = recovery_rate)  \n",
    "\n",
    "times <- seq(from = 0, to = follow_up_duration, by = 1) \n",
    "\n",
    "# I and R in the initial_state_values vector store how many people there are in each compartment at the \n",
    "# first timestep t0 (the beginning of the simulation). \n",
    "\n",
    "# The parameters vector stores the value of each transition rate (arrows) between compartments (boxes). \n",
    "# In this case we only have one transition: from I to R.\n",
    "\n",
    "# The times vector stores a sequence of timepoints starting at 0. We want to run the model for 28 days, so 28 is the\n",
    "# last value in the times vector. by = 1 tells the deSolve package that we want to calculate the model output at \n",
    "# timesteps of 1 day.\n",
    "\n",
    "# It is important to be consistent with the time units (days vs. weeks): the recovery rate you have defined is \n",
    "# applied at every timestep between 0 and the end of follow-up specified in the times vector. \n",
    "# Since our recovery rate is in units of days^-1, if you had put 4 as the follow-up duration, you would simply be \n",
    "# calculating the number of infected and recovered people over a 4 day period."
   ]
  },
  {
   "cell_type": "markdown",
   "metadata": {},
   "source": [
    "Specifying the model function"
   ]
  },
  {
   "cell_type": "code",
   "execution_count": 3,
   "metadata": {},
   "outputs": [],
   "source": [
    "cohort_model <- function(time, state, parameters) {    # specify the model as a function with input arguments\n",
    "    \n",
    "    with(as.list(c(state, parameters)), {  \n",
    "      \n",
    "    # Differential equations\n",
    "      dI <- -gamma * I\n",
    "      dR <- gamma * I\n",
    "        \n",
    "    return(list(c(dI, dR)))                             # return output\n",
    "    })\n",
    "  \n",
    "}\n",
    "\n",
    "# Further explanations:\n",
    "\n",
    "# To solve our model, called \"cohort_model\", using the deSolve package, we need to define it as a function.\n",
    "# When using deSolve, every model function takes as input arguments (in the following order): \n",
    "# 1) time: the timesteps that we want to solve the model at\n",
    "# 2) state: storing the number of people in each compartment at each timestep\n",
    "# 3) parameters: names and values of model parameters, for example the rates of transition between compartments\n",
    "\n",
    "# with(as.list(c(state, parameters)), {...} tells R to look within the objects containing our state variables and \n",
    "# parameters (by converting them to a list object), so that you can refer to them directly. \n",
    "# In other words, we can unpack the state variables specified in \"state\" and the model parameters \n",
    "# specified in \"parameters\" using the with() command, for our convenvience.\n",
    "# For example, instead of having to write parameters[\"gamma\"]\n",
    "# you can simply write gamma as long as you are within the {} brackets of the with statement.\n",
    "\n",
    "# The next two lines are the differential equations that calculate the rate of change of the state variables. \n",
    "# Note that for coding purposes it does not \n",
    "# matter which name you chose for the rate of change, but the most common notation is to write dI and dR \n",
    "# for compartments I and R as shown here. \n",
    "\n",
    "# At the end of an R function we need to specify what we want the output to be. Here, these outputs should be \n",
    "# the rate of change of I and R: that is, simply dI and dR. To specify these as outputs we use return().\n",
    "# To get the output in a convenient format, we are saving the solutions to the differential equations as a vector \n",
    "# within a list.\n",
    "\n",
    "# IMPORTANT: we have to return the rate of change variables in the same order as the input state variables.\n",
    "# Since in our state vector initial_state_values, we specify I as the first variable and R as the second, similarly\n",
    "# we also have to specify dI as the first output and dR as the second.\n",
    "# If you have changed the name of your state variables or the rates of change variables, make sure to use the correct \n",
    "# names here as well."
   ]
  },
  {
   "cell_type": "markdown",
   "metadata": {},
   "source": [
    "Solving the model equations using the ```ode()``` function in the deSolve package and saving them as a dataframe object:"
   ]
  },
  {
   "cell_type": "code",
   "execution_count": 4,
   "metadata": {},
   "outputs": [
    {
     "data": {
      "text/html": [
       "<table>\n",
       "<thead><tr><th scope=col>time</th><th scope=col>I</th><th scope=col>R</th></tr></thead>\n",
       "<tbody>\n",
       "\t<tr><td> 0        </td><td>1000000.00</td><td>     0.00 </td></tr>\n",
       "\t<tr><td> 1        </td><td> 904837.42</td><td> 95162.58 </td></tr>\n",
       "\t<tr><td> 2        </td><td> 818730.75</td><td>181269.25 </td></tr>\n",
       "\t<tr><td> 3        </td><td> 740818.22</td><td>259181.78 </td></tr>\n",
       "\t<tr><td> 4        </td><td> 670320.04</td><td>329679.96 </td></tr>\n",
       "\t<tr><td> 5        </td><td> 606530.66</td><td>393469.34 </td></tr>\n",
       "\t<tr><td> 6        </td><td> 548811.63</td><td>451188.37 </td></tr>\n",
       "\t<tr><td> 7        </td><td> 496585.30</td><td>503414.70 </td></tr>\n",
       "\t<tr><td> 8        </td><td> 449328.96</td><td>550671.04 </td></tr>\n",
       "\t<tr><td> 9        </td><td> 406569.66</td><td>593430.34 </td></tr>\n",
       "\t<tr><td>10        </td><td> 367879.44</td><td>632120.56 </td></tr>\n",
       "\t<tr><td>11        </td><td> 332871.08</td><td>667128.92 </td></tr>\n",
       "\t<tr><td>12        </td><td> 301194.21</td><td>698805.79 </td></tr>\n",
       "\t<tr><td>13        </td><td> 272531.79</td><td>727468.21 </td></tr>\n",
       "\t<tr><td>14        </td><td> 246596.96</td><td>753403.04 </td></tr>\n",
       "\t<tr><td>15        </td><td> 223130.16</td><td>776869.84 </td></tr>\n",
       "\t<tr><td>16        </td><td> 201896.51</td><td>798103.49 </td></tr>\n",
       "\t<tr><td>17        </td><td> 182683.52</td><td>817316.48 </td></tr>\n",
       "\t<tr><td>18        </td><td> 165298.88</td><td>834701.12 </td></tr>\n",
       "\t<tr><td>19        </td><td> 149568.62</td><td>850431.38 </td></tr>\n",
       "\t<tr><td>20        </td><td> 135335.28</td><td>864664.72 </td></tr>\n",
       "\t<tr><td>21        </td><td> 122456.42</td><td>877543.58 </td></tr>\n",
       "\t<tr><td>22        </td><td> 110803.15</td><td>889196.85 </td></tr>\n",
       "\t<tr><td>23        </td><td> 100258.84</td><td>899741.16 </td></tr>\n",
       "\t<tr><td>24        </td><td>  90717.95</td><td>909282.05 </td></tr>\n",
       "\t<tr><td>25        </td><td>  82085.00</td><td>917915.00 </td></tr>\n",
       "\t<tr><td>26        </td><td>  74273.58</td><td>925726.42 </td></tr>\n",
       "\t<tr><td>27        </td><td>  67205.51</td><td>932794.49 </td></tr>\n",
       "\t<tr><td>28        </td><td>  60810.06</td><td>939189.94 </td></tr>\n",
       "</tbody>\n",
       "</table>\n"
      ],
      "text/latex": [
       "\\begin{tabular}{r|lll}\n",
       " time & I & R\\\\\n",
       "\\hline\n",
       "\t  0         & 1000000.00 &      0.00 \\\\\n",
       "\t  1         &  904837.42 &  95162.58 \\\\\n",
       "\t  2         &  818730.75 & 181269.25 \\\\\n",
       "\t  3         &  740818.22 & 259181.78 \\\\\n",
       "\t  4         &  670320.04 & 329679.96 \\\\\n",
       "\t  5         &  606530.66 & 393469.34 \\\\\n",
       "\t  6         &  548811.63 & 451188.37 \\\\\n",
       "\t  7         &  496585.30 & 503414.70 \\\\\n",
       "\t  8         &  449328.96 & 550671.04 \\\\\n",
       "\t  9         &  406569.66 & 593430.34 \\\\\n",
       "\t 10         &  367879.44 & 632120.56 \\\\\n",
       "\t 11         &  332871.08 & 667128.92 \\\\\n",
       "\t 12         &  301194.21 & 698805.79 \\\\\n",
       "\t 13         &  272531.79 & 727468.21 \\\\\n",
       "\t 14         &  246596.96 & 753403.04 \\\\\n",
       "\t 15         &  223130.16 & 776869.84 \\\\\n",
       "\t 16         &  201896.51 & 798103.49 \\\\\n",
       "\t 17         &  182683.52 & 817316.48 \\\\\n",
       "\t 18         &  165298.88 & 834701.12 \\\\\n",
       "\t 19         &  149568.62 & 850431.38 \\\\\n",
       "\t 20         &  135335.28 & 864664.72 \\\\\n",
       "\t 21         &  122456.42 & 877543.58 \\\\\n",
       "\t 22         &  110803.15 & 889196.85 \\\\\n",
       "\t 23         &  100258.84 & 899741.16 \\\\\n",
       "\t 24         &   90717.95 & 909282.05 \\\\\n",
       "\t 25         &   82085.00 & 917915.00 \\\\\n",
       "\t 26         &   74273.58 & 925726.42 \\\\\n",
       "\t 27         &   67205.51 & 932794.49 \\\\\n",
       "\t 28         &   60810.06 & 939189.94 \\\\\n",
       "\\end{tabular}\n"
      ],
      "text/markdown": [
       "\n",
       "| time | I | R |\n",
       "|---|---|---|\n",
       "|  0         | 1000000.00 |      0.00  |\n",
       "|  1         |  904837.42 |  95162.58  |\n",
       "|  2         |  818730.75 | 181269.25  |\n",
       "|  3         |  740818.22 | 259181.78  |\n",
       "|  4         |  670320.04 | 329679.96  |\n",
       "|  5         |  606530.66 | 393469.34  |\n",
       "|  6         |  548811.63 | 451188.37  |\n",
       "|  7         |  496585.30 | 503414.70  |\n",
       "|  8         |  449328.96 | 550671.04  |\n",
       "|  9         |  406569.66 | 593430.34  |\n",
       "| 10         |  367879.44 | 632120.56  |\n",
       "| 11         |  332871.08 | 667128.92  |\n",
       "| 12         |  301194.21 | 698805.79  |\n",
       "| 13         |  272531.79 | 727468.21  |\n",
       "| 14         |  246596.96 | 753403.04  |\n",
       "| 15         |  223130.16 | 776869.84  |\n",
       "| 16         |  201896.51 | 798103.49  |\n",
       "| 17         |  182683.52 | 817316.48  |\n",
       "| 18         |  165298.88 | 834701.12  |\n",
       "| 19         |  149568.62 | 850431.38  |\n",
       "| 20         |  135335.28 | 864664.72  |\n",
       "| 21         |  122456.42 | 877543.58  |\n",
       "| 22         |  110803.15 | 889196.85  |\n",
       "| 23         |  100258.84 | 899741.16  |\n",
       "| 24         |   90717.95 | 909282.05  |\n",
       "| 25         |   82085.00 | 917915.00  |\n",
       "| 26         |   74273.58 | 925726.42  |\n",
       "| 27         |   67205.51 | 932794.49  |\n",
       "| 28         |   60810.06 | 939189.94  |\n",
       "\n"
      ],
      "text/plain": [
       "   time I          R        \n",
       "1   0   1000000.00      0.00\n",
       "2   1    904837.42  95162.58\n",
       "3   2    818730.75 181269.25\n",
       "4   3    740818.22 259181.78\n",
       "5   4    670320.04 329679.96\n",
       "6   5    606530.66 393469.34\n",
       "7   6    548811.63 451188.37\n",
       "8   7    496585.30 503414.70\n",
       "9   8    449328.96 550671.04\n",
       "10  9    406569.66 593430.34\n",
       "11 10    367879.44 632120.56\n",
       "12 11    332871.08 667128.92\n",
       "13 12    301194.21 698805.79\n",
       "14 13    272531.79 727468.21\n",
       "15 14    246596.96 753403.04\n",
       "16 15    223130.16 776869.84\n",
       "17 16    201896.51 798103.49\n",
       "18 17    182683.52 817316.48\n",
       "19 18    165298.88 834701.12\n",
       "20 19    149568.62 850431.38\n",
       "21 20    135335.28 864664.72\n",
       "22 21    122456.42 877543.58\n",
       "23 22    110803.15 889196.85\n",
       "24 23    100258.84 899741.16\n",
       "25 24     90717.95 909282.05\n",
       "26 25     82085.00 917915.00\n",
       "27 26     74273.58 925726.42\n",
       "28 27     67205.51 932794.49\n",
       "29 28     60810.06 939189.94"
      ]
     },
     "metadata": {},
     "output_type": "display_data"
    }
   ],
   "source": [
    "output <- as.data.frame(ode(y = initial_state_values, \n",
    "                            times = times, \n",
    "                            func = cohort_model,\n",
    "                            parms = parameters))\n",
    "\n",
    "# We are using the default integration function of the deSolve package, ode (which stands for ordinary differential equations)\n",
    "# While the package contains other methods to do the integration, you don't have to worry about that in this course.\n",
    "\n",
    "# Printing the model output\n",
    "output\n",
    "\n",
    "# This returns a dataframe with columns \"time\" (containing our times vector), \n",
    "# \"I\" (containing the number of infected people at each timestep) and \n",
    "# \"R\" (containing the number of recovered people at each timestep)."
   ]
  },
  {
   "cell_type": "markdown",
   "metadata": {},
   "source": [
    "### Based on the output, how many people have recovered after 4 weeks? "
   ]
  },
  {
   "cell_type": "code",
   "execution_count": null,
   "metadata": {},
   "outputs": [],
   "source": [
    "output[output$time == 28, c(\"time\",\"R\")]   # printing the \"time\" and \"R\" output columns when the timestep equals 28\n",
    "# Answer: 939189.9 people are in the recovered compartment at timestep 28"
   ]
  },
  {
   "cell_type": "markdown",
   "metadata": {},
   "source": [
    "### What proportion of the total population does this correspond to?"
   ]
  },
  {
   "cell_type": "code",
   "execution_count": null,
   "metadata": {},
   "outputs": [],
   "source": [
    "output[output$time == 28,\"R\"]/(output[output$time == 28,\"I\"]+output[output$time == 28,\"R\"])\n",
    "# Answer: 93.9%\n",
    "\n",
    "# All we are doing here is dividing the number of recovered people at the 4 week timestep by the \n",
    "# total population size (I + R) at this timestep. Note that since there are no births and deaths in our model, \n",
    "# the total population size is the same at each timestep, so we could also calculate it by taking \n",
    "# sum(initial_state_values)."
   ]
  },
  {
   "cell_type": "markdown",
   "metadata": {},
   "source": [
    "### Plotting the output"
   ]
  },
  {
   "cell_type": "code",
   "execution_count": null,
   "metadata": {},
   "outputs": [],
   "source": [
    "# First turn the output dataset into a long format, so that the number in each compartment at each timestep\n",
    "# are all in the same column\n",
    "output_long <- melt(as.data.frame(output), id = \"time\")                  \n",
    "\n",
    "# Plot the number of people in each compartment over time\n",
    "ggplot(data = output_long,                                               # specify object containing data to plot\n",
    "       aes(x = time, y = value, colour = variable, group = variable)) +  \n",
    "       # in the long-format output dataset, the number in each compartment is in the \"value\" column and the \n",
    "       # compartment the number relates to is in the \"variable\" column. We are telling ggplot to assign a different \n",
    "       # colour to each compartment/group, which automatically generates a legend\n",
    "  geom_line() +                                                          \n",
    "       # we want to represent the data over time as lines. This command automatically looks to the specifications saved\n",
    "       # in the ggplot command above to know which data to plot\n",
    "  xlab(\"Time (days)\")+                                                   # add label for x axis\n",
    "  ylab(\"Number of people\") +                                             # add label for y axis\n",
    "  labs(title = paste(\"Number infected and recovered over time when gamma =\",parameters[\"gamma\"],\"days^-1\")) # add title\n",
    "# Using the paste() command, we can combine sentences with the values stored in variables (here gamma)"
   ]
  },
  {
   "cell_type": "markdown",
   "metadata": {},
   "source": [
    "### Based on the plot, at what timepoint were infected and recovered individuals equal in number?"
   ]
  },
  {
   "cell_type": "code",
   "execution_count": null,
   "metadata": {},
   "outputs": [],
   "source": [
    "# Answer: around 7 days - this where the I and R lines intersect. You can confirm that by looking at the output table:\n",
    "# the number in the I and R compartment are very similar at timestep 7.\n",
    "output[output$time == 7,]"
   ]
  },
  {
   "cell_type": "markdown",
   "metadata": {},
   "source": [
    "### Varying $\\gamma$\n",
    "\n",
    "Average duration of infection = 2 days so the recovery rate = 1/2 = 0.5 days$^{-1}$"
   ]
  },
  {
   "cell_type": "code",
   "execution_count": null,
   "metadata": {},
   "outputs": [],
   "source": [
    "parameters <- c(gamma = 0.5)\n",
    "\n",
    "# Solving the model\n",
    "output <- as.data.frame(ode(y = initial_state_values, \n",
    "                            times = times, \n",
    "                            func = cohort_model,\n",
    "                            parms = parameters))\n",
    "\n",
    "# Plotting the output\n",
    "output_long <- melt(as.data.frame(output), id = \"time\")                  # turn output dataset into long format\n",
    "\n",
    "ggplot(data = output_long,                                               # specify object containing data to plot\n",
    "       aes(x = time, y = value, colour = variable, group = variable)) +  # assign columns to axes and groups\n",
    "  geom_line() +                                                          # represent data as lines\n",
    "  xlab(\"Time (days)\")+                                                   # add label for x axis\n",
    "  ylab(\"Number of people\") +                                             # add label for y axis\n",
    "  labs(title = paste(\"Number infected and recovered over time when gamma =\",parameters[\"gamma\"],\"days^-1\")) # add title"
   ]
  },
  {
   "cell_type": "markdown",
   "metadata": {},
   "source": [
    "Average duration of infection = 20 days so the recovery rate = 1/20 = 0.05 days$^{-1}$"
   ]
  },
  {
   "cell_type": "code",
   "execution_count": null,
   "metadata": {},
   "outputs": [],
   "source": [
    "parameters <- c(gamma = 0.05)\n",
    "\n",
    "# Solving the model\n",
    "output <- as.data.frame(ode(y = initial_state_values, \n",
    "                            times = times, \n",
    "                            func = cohort_model,\n",
    "                            parms = parameters))\n",
    "\n",
    "# Plotting the output\n",
    "output_long <- melt(as.data.frame(output), id = \"time\")                  # turn output dataset into long format\n",
    "\n",
    "ggplot(data = output_long,                                               # specify object containing data to plot\n",
    "       aes(x = time, y = value, colour = variable, group = variable)) +  # assign columns to axes and groups\n",
    "  geom_line() +                                                          # represent data as lines\n",
    "  xlab(\"Time (days)\")+                                                   # add label for x axis\n",
    "  ylab(\"Number of people\") +                                             # add label for y axis\n",
    "  labs(title = paste(\"Number infected and recovered over time when gamma =\",parameters[\"gamma\"],\"days^-1\")) # add title"
   ]
  },
  {
   "cell_type": "markdown",
   "metadata": {},
   "source": [
    "### What changes do you observe in the transition to the recovered compartment if $\\gamma$ is higher or lower? For example, how long does it take for everyone to recover in both cases?\n",
    "\n",
    "Answer: if the rate is higher ($\\gamma$ = 0.5), we can see that infected people recover more quickly: it takes less than 2 days for half of the infected cohort to recover, and by around 8 days, nearly everyone has recovered. A lower rate ($\\gamma$ = 0.05) on the other hand corresponds to a slower transition: it takes around 14 days for half of infected people to move into the R compartment, and by the end of our 4 week follow-up around a quarter of people still have not recovered."
   ]
  },
  {
   "cell_type": "code",
   "execution_count": null,
   "metadata": {},
   "outputs": [],
   "source": []
  }
 ],
 "metadata": {
  "kernelspec": {
   "display_name": "R",
   "language": "R",
   "name": "ir"
  }
 },
 "nbformat": 4,
 "nbformat_minor": 2
}

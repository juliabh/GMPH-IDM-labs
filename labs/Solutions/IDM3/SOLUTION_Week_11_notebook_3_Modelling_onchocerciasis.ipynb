{
 "cells": [
  {
   "cell_type": "markdown",
   "metadata": {},
   "source": [
    "# Solution to live session: Modelling Onchocerciasis"
   ]
  },
  {
   "cell_type": "markdown",
   "metadata": {},
   "source": [
    "The following code simulates the basic onchocerciasis model for the annual biting rate (ABR) in village 1 (Tcholliré) and plots the predicted outputs. Running the code for different values of ABR in different villages allows you to complete the table in the practical.\n",
    "  \n",
    "[1. Run code](#code)  \n",
    "[2. Plot outputs](#plots)\n",
    "[2.1 Plot outputs over time: base R](#baseplot)  \n",
    "[2.2 Plot outputs over time: ggplot](#ggplot)  \n",
    "[4. Extract the outputs to fill in the table](#outputs)  \n",
    "[5. Plot observed and predicted values against ABR](#obspredABR)  \n",
    "[6. Structural uncertainty: quadratic PIVM](#quadPIVM)\n",
    "<a name = \"top\"></a>"
   ]
  },
  {
   "cell_type": "markdown",
   "metadata": {},
   "source": [
    "## 1. Fill in the parameters and run the model code <a name = \"code\"></a>"
   ]
  },
  {
   "cell_type": "code",
   "execution_count": null,
   "metadata": {},
   "outputs": [],
   "source": [
    "# PACKAGES\n",
    "require(deSolve)\n",
    "require(reshape2)\n",
    "require(ggplot2)\n"
   ]
  },
  {
   "cell_type": "code",
   "execution_count": null,
   "metadata": {
    "scrolled": false
   },
   "outputs": [],
   "source": [
    "# INPUT\n",
    "\n",
    "# Initial conditions\n",
    "initial_state_values <- c(W = 10,  # mean number of adult worms per person at time 0\n",
    "                          M = 0,   # mean number of Mf per milligram per person at time 0\n",
    "                          L = 0,   # mean number of infective larvae (L3) per fly at time 0\n",
    "                          P = 0)   # microfilarial prevalence output\n",
    "\n",
    "# Parameter values (values are expressed per year)\n",
    "# Average values taken from Table 2 Basáñez & Boussinesq (1999)\n",
    "aH <- 0.8\n",
    "sH <- 0.2       \n",
    "aV <- 0.4481    \n",
    "sV0 <- 0.0463   \n",
    "c <- 0.0196\n",
    "alpha <- 0.8653\n",
    "h <- 0.3         \n",
    "g <- 0.0096\n",
    "\n",
    "parameters <- c(aH = aH,         # the proportion of larvae shed per bite\n",
    "                sH = sH,         # the fraction of inoculated L3 larvae surviving and reaching maturity within the human host\n",
    "                aV = aV,         # the fraction of Mf ingested per bite per milligram of skin\n",
    "                sV0 = sV0,       # the fraction of ingested Mf reaching infectivity within the fly\n",
    "                c = c,\n",
    "                alpha = alpha,\n",
    "                h = h,           # the human-blood index (fraction of blood-meals taken on humans)\n",
    "                g = g,           # length of the gonotrophic cycle\n",
    "                deltaH0 = aH*sH, # the proportion of L3 larvae developing to the adult stage within the human host, \n",
    "                                 # per bite, when the transmission potential tends to 0\n",
    "                deltaHinfinity = 0.0032,  # the proportion of L3 larvae developing to the adult stage within the human \n",
    "                                          # host, per bite, when the transmission potential tends to infinity\n",
    "                cH = 0.0137,     # the reciprocal of the ATP value for which deltaH(ATP) = (deltaH0+deltaHinfinity)/2\n",
    "                muH = 0.02,      # per capita death rate of human host\n",
    "                sigmaW = 0.1,    # per capita death rate of female adult worms\n",
    "                sigmaM = 0.8,    # per capita death rate of dermal Mf\n",
    "                sigmaL = 104,    # per capita death rate of L3 larvae within the fly host\n",
    "                phi = 1,         # mating probability (polygamous, dioecious worms)\n",
    "                F = 0.6674,      # per capita fecundity rate of adult female worms scaled by the total weight \n",
    "                                 # of Mf-bearing skin\n",
    "                k0 = 0.0553,     # fitted parameter for microfilarial prevalence as a function of mean microfilarial load per person\n",
    "                k1 = 0.491,      # fitted parameter for microfilarial prevalence as a function of mean microfilarial load per person\n",
    "                deltaV0 = aV*sV0,      # the proportion of Mf mg-1 developing to the infective stage within unarmed \n",
    "                                       # vectors, per Mf, per bite, when M tends to 0\n",
    "                cV0 = aV*c,            # the severity of density-dependent limitation of \n",
    "                                       # larval development within unarmed vectors, per dermal Mf\n",
    "                alphaV = aV*alpha,     # the per capita excess vector mortality induced by the Mf parasite stage\n",
    "                beta = h/g,            # the biting rate per fly on humans\n",
    "                muV = 52,              # per capita death rate of vector host (uninfected)\n",
    "                ABR = 1000)            # village-specific annual biting rate\n",
    "\n",
    "# Simulate model for 300 years, in 0.1 year intervals\n",
    "timestep <- 0.1\n",
    "times <- seq(from = 0, to = 300, by = timestep)\n",
    "\n",
    "# ONCHO MODEL FUNCTION\n",
    "oncho_model <- function(time, state, parameters) {  \n",
    "  \n",
    "  with(as.list(c(state, parameters)), {\n",
    "    \n",
    "    # Differential equations\n",
    "    dW <-((deltaH0 + deltaHinfinity * cH * ABR * L)/(1 + cH * ABR * L)) * ABR * L - (sigmaW + muH) * W\n",
    "    dM <- ((1/2) * phi * F) * W - (sigmaM + muH) * M\n",
    "    dL <- (deltaV0/(1 + cV0 * M)) * beta * M - (sigmaL + muV + alphaV * M + (aH/g)) * L\n",
    "\n",
    "    # Microfilarial prevalence (in %)\n",
    "    P <- 100 * (1 - (1 + M/(k0*M^k1))^(-k0*M^k1))\n",
    "    \n",
    "    # Output\n",
    "    return(list(c(dW, dM, dL, P))) \n",
    "  })\n",
    "}\n",
    "\n",
    "# Solve the equations\n",
    "output <- as.data.frame(ode(y = initial_state_values, \n",
    "                            times = times, \n",
    "                            func = oncho_model,\n",
    "                            parms = parameters))\n",
    "\n",
    "\n",
    "# The microfilarial prevalence is returned as a cumulative value when solving the model, so we need to \n",
    "# convert this into a prevalence measure by substracting the cumulative incidence at each timestep t by the cumulative\n",
    "# incidence at time t-1\n",
    "output$microfilarial_prevalence <- c(output$P[1], diff(output$P/timestep, lag = 1))  \n"
   ]
  },
  {
   "cell_type": "markdown",
   "metadata": {},
   "source": [
    "If you run the above code with each of the different ABRs that are given in the reference paper, then you will be able to fill in the table."
   ]
  },
  {
   "cell_type": "markdown",
   "metadata": {},
   "source": [
    "## 2. Plot the outputs over time using base R <a name = \"baseplot\"></a> ([return to top](#top))"
   ]
  },
  {
   "cell_type": "code",
   "execution_count": null,
   "metadata": {},
   "outputs": [],
   "source": []
  },
  {
   "cell_type": "code",
   "execution_count": null,
   "metadata": {},
   "outputs": [],
   "source": [
    "## plots: base R\n",
    "\n",
    "# Plot the mean number in each compartment over time \n",
    "\n",
    "par(mfrow = c(1,3))\n",
    "\n",
    "# Plot the microfilarial prevalence over time\n",
    "plot(output$time, output$microfilarial_prevalence, type = 'l',                                                       \n",
    "     xlab = \"Time (years)\", ylab = \"Mf prevalence\")  \n",
    "\n",
    "# Plot the adult worm intensity over time\n",
    "plot(output$time, output$W, type = 'l',                                                       \n",
    "     xlab = \"Time (years)\", ylab = \"Mean number\", ylim = c(0, 25))  \n",
    "\n",
    "# Plot the microfilarial intensity over time\n",
    "lines(output$time, output$M, col = 'red')\n",
    "\n",
    "legend(80, 5, legend=c(\"adult worms\", \"mf\"),\n",
    "       lty=c(1, 1), col = c('black', 'red'),  cex=0.8)\n",
    "\n",
    "plot(output$time, output$L, xlab = \"Time (years)\", ylab = \"Mean L3\", type = 'l')\n",
    "\n"
   ]
  },
  {
   "cell_type": "code",
   "execution_count": null,
   "metadata": {},
   "outputs": [],
   "source": [
    "## Plots: ggplot\n",
    "\n",
    "output_long <- melt(as.data.frame(output), id = \"time\")                  # turn output dataset into long format\n",
    "\n",
    "# Calculating the predicted annual transmission potential (ATP) for a given village:\n",
    "paste(\"ATP = \", parameters[\"ABR\"] * output$L[output$time==300])\n",
    "\n",
    "# Plot the mean number in each compartment over time \n",
    "ggplot(data = output_long[output_long$variable != \"P\",],                                               \n",
    "       aes(x = time, y = value, colour = variable, group = variable)) +  \n",
    "  geom_line() +                                                          \n",
    "  xlab(\"Time (years)\")+                                                   \n",
    "  ylab(\"Mean number\") +                                     \n",
    "  labs(colour = \"Compartment\")\n",
    "\n",
    "# Plot the microfilarial prevalence over time\n",
    "ggplot(data = output,                                               \n",
    "       aes(x = time, y = microfilarial_prevalence)) +  \n",
    "  geom_line() +                                                          \n",
    "  xlab(\"Time (years)\")+                                                   \n",
    "  ylab(\"Microfilarial prevalence (%)\")\n"
   ]
  },
  {
   "cell_type": "code",
   "execution_count": null,
   "metadata": {},
   "outputs": [],
   "source": [
    "# Calculating the predicted annual transmission potential (ATP) for a given village:\n",
    "paste(\"ATP = \", parameters[\"ABR\"] * output$L[output$time==300])\n",
    "\n",
    "# Extract the required predictions from the model: the equilibrium levels of P, M, L\n",
    "output[(nrow(output)), ] # this line of code will select the last row of the dataframe\n",
    "\n",
    "# when you add these to the table, make note of the order they are in!\n"
   ]
  },
  {
   "cell_type": "markdown",
   "metadata": {},
   "source": [
    "## Structural assumptions on parasite-induced vector mortality: quadratic relationship"
   ]
  },
  {
   "cell_type": "code",
   "execution_count": null,
   "metadata": {},
   "outputs": [],
   "source": [
    "# Adding parameter values:\n",
    "alpha1 <- 0.22\n",
    "parameters[\"alphaV1\"] <- aV^2*alpha1\n",
    "\n",
    "# Modify the equation for the infective larvae per fly, dL:\n",
    "\n",
    "oncho_model <- function(time, state, parameters) {  \n",
    "  \n",
    "  with(as.list(c(state, parameters)), {\n",
    "    \n",
    "    # Differential equations\n",
    "    dW <-((deltaH0 + deltaHinfinity * cH * ABR * L)/(1 + cH * ABR * L)) * ABR * L - (sigmaW + muH) * W\n",
    "    dM <- ((1/2) * phi * F) * W - (sigmaM + muH) * M\n",
    "    dL <- (deltaV0/(1 + cV0 * M)) * beta * M - (sigmaL + muV + alphaV1 * M^2 + (aH/g)) * L\n",
    "\n",
    "    # Microfilarial prevalence (in %)\n",
    "    P <- 100 * (1 - (1 + M/(k0*M^k1))^(-k0*M^k1))\n",
    "    \n",
    "    # Output\n",
    "    return(list(c(dW, dM, dL, P))) \n",
    "  })\n",
    "}\n",
    "\n",
    "# Solve the equations\n",
    "output <- as.data.frame(ode(y = initial_state_values, \n",
    "                            times = times, \n",
    "                            func = oncho_model,\n",
    "                            parms = parameters))\n",
    "\n",
    "output_long <- melt(as.data.frame(output), id = \"time\")                  # turn output dataset into long format\n",
    "\n",
    "# The microfilarial prevalence is returned as a cumulative value when solving the model, so we need to \n",
    "# convert this into a prevalence measure by substracting the cumulative incidence at each timestep t by the cumulative\n",
    "# incidence at time t-1\n",
    "output$microfilarial_prevalence <- c(output$P[1], diff(output$P/timestep, lag = 1))  \n",
    "\n",
    "# Calculating the predicted annual transmission potential (ATP) for a given village:\n",
    "paste(\"ATP = \", parameters[\"ABR\"] * output$L[output$time==300])\n",
    "\n",
    "# Plot the mean number in each compartment over time \n",
    "ggplot(data = output_long[output_long$variable != \"P\",],                                               \n",
    "       aes(x = time, y = value, colour = variable, group = variable)) +  \n",
    "  geom_line() +                                                          \n",
    "  xlab(\"Time (years)\")+                                                   \n",
    "  ylab(\"Mean number\") +                                     \n",
    "  labs(colour = \"Compartment\")   \n",
    "\n",
    "# Plot the microfilarial prevalence over time\n",
    "ggplot(data = output,                                               \n",
    "       aes(x = time, y = microfilarial_prevalence)) +  \n",
    "  geom_line() +                                                          \n",
    "  xlab(\"Time (years)\")+                                                   \n",
    "  ylab(\"Microfilarial prevalence (%)\")"
   ]
  }
 ],
 "metadata": {
  "kernelspec": {
   "display_name": "R",
   "language": "R",
   "name": "ir"
  },
  "language_info": {
   "codemirror_mode": "r",
   "file_extension": ".r",
   "mimetype": "text/x-r-source",
   "name": "R",
   "pygments_lexer": "r",
   "version": "3.5.1"
  }
 },
 "nbformat": 4,
 "nbformat_minor": 2
}

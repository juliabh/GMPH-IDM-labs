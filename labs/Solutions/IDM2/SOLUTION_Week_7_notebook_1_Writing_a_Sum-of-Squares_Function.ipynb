{
 "cells": [
  {
   "cell_type": "markdown",
   "metadata": {},
   "source": [
    "# Solution: Writing a sum-of-squares function in R, for SIR model fitting\n",
    "\n",
    "\n",
    "For each observed datapoint, with the appropriate matching time point in model output, you need to:\n",
    "* calculate their $\\delta$ (difference between the two)\n",
    "* square each $\\delta$\n",
    "* sum all the squared deltas together\n",
    "* save and return that value.\n",
    "\n",
    "Your model outputs should be at a dense series of timepoints, e.g. every 0.1 days, but your observed data will probably only be available for a small subset, e.g. once every day. There may also be observations missing - NAs in your dataset.\n",
    "So you will need to account for this by selecting the appropriate data. You may find the function ```%in%``` useful. Within your SSQ function, you could use ```na.omit()``` on the data (rather than altering the dataframe itself outside of the function).\n",
    "\n",
    "Finally, think about sensible variable and column names. Real-world data may come with a variety of names, and it will need to be clear in your functions which data or columns to use. It may be necessary to change column names in the incoming data to ensure it can be properly processed. (There are other ways of achieving a working, widely applicable function, like writing the function to specify the correct column name when you run the function, as one of the arguments.)\n",
    "\n",
    "Let's go over how to do this in detail.\n",
    "\n",
    "Contents:  \n",
    "[1. Load and check data](#data)  \n",
    "[2. Define model function](#model)  \n",
    "[3. Run a quick test](#test)  \n",
    "[4. Sum-of-squares calculation](#SSQ)  \n",
    "[5. Further work: take in any function to ode()](#any_func)  "
   ]
  },
  {
   "cell_type": "markdown",
   "metadata": {},
   "source": [
    "## 1. Load and check data <a name=\"data\"></a>\n",
    "\n",
    "Let's bring in the observed epidemiological data we'll need."
   ]
  },
  {
   "cell_type": "code",
   "execution_count": 1,
   "metadata": {},
   "outputs": [
    {
     "data": {
      "text/html": [
       "<ol class=list-inline>\n",
       "\t<li>'time'</li>\n",
       "\t<li>'number_infected'</li>\n",
       "</ol>\n"
      ],
      "text/latex": [
       "\\begin{enumerate*}\n",
       "\\item 'time'\n",
       "\\item 'number\\_infected'\n",
       "\\end{enumerate*}\n"
      ],
      "text/markdown": [
       "1. 'time'\n",
       "2. 'number_infected'\n",
       "\n",
       "\n"
      ],
      "text/plain": [
       "[1] \"time\"            \"number_infected\""
      ]
     },
     "metadata": {},
     "output_type": "display_data"
    }
   ],
   "source": [
    "# Load observed data\n",
    "flu_data <- read.csv(\"../../IDM2/Graphics and Data/idm2_sir_data.csv\") # on Coursera only\n",
    "\n",
    "# Set up initial state for the model\n",
    "initial_state_values <- c(S = 762, I = 1, R = 0)\n",
    "\n",
    "# Our function requires data in a column named 'I'\n",
    "# Let's check whether it does by printing their names...\n",
    "colnames(flu_data)"
   ]
  },
  {
   "cell_type": "markdown",
   "metadata": {},
   "source": [
    "Seems the data provided does not have a column titled 'I'. That's quite common as naming conventions aren't always consistent. In this case the data we're looking for is in 'number_infected'.\n",
    "\n",
    "So we'll have to rename the column to match what our SIR_SSQ function is expecting:"
   ]
  },
  {
   "cell_type": "code",
   "execution_count": 2,
   "metadata": {},
   "outputs": [
    {
     "data": {
      "text/html": [
       "<ol class=list-inline>\n",
       "\t<li>'time'</li>\n",
       "\t<li>'I'</li>\n",
       "</ol>\n"
      ],
      "text/latex": [
       "\\begin{enumerate*}\n",
       "\\item 'time'\n",
       "\\item 'I'\n",
       "\\end{enumerate*}\n"
      ],
      "text/markdown": [
       "1. 'time'\n",
       "2. 'I'\n",
       "\n",
       "\n"
      ],
      "text/plain": [
       "[1] \"time\" \"I\"   "
      ]
     },
     "metadata": {},
     "output_type": "display_data"
    }
   ],
   "source": [
    "# It's the second column we want to change. We can use the colnames() function\n",
    "# to rename as well; we select the second column and assign it the new value.\n",
    "# Note column names are characters (or strings of characters),\n",
    "# so they must be in quote marks.\n",
    "\n",
    "colnames(flu_data)[2] <- \"I\"\n",
    "\n",
    "# Check the new name\n",
    "colnames(flu_data)"
   ]
  },
  {
   "cell_type": "markdown",
   "metadata": {},
   "source": [
    "## 2. Define model function <a name=\"model\"></a>\n",
    "We'll need the SIR model function we wrote previously."
   ]
  },
  {
   "cell_type": "code",
   "execution_count": 3,
   "metadata": {},
   "outputs": [
    {
     "name": "stderr",
     "output_type": "stream",
     "text": [
      "Loading required package: deSolve\n"
     ]
    }
   ],
   "source": [
    "# Load packages\n",
    "require(deSolve)\n",
    "\n",
    "# Define the Susceptible-Infected-Recovered model\n",
    "SIR_model <- function(time, state, parameters) {\n",
    "   \n",
    "    with(as.list(c(state, parameters)), {\n",
    "        N  <- S+I+R\n",
    "   \n",
    "        dS <- -beta*S*I/N\n",
    "        dI <- beta*S*I/N-gamma*I\n",
    "        dR <- gamma*I\n",
    "     \n",
    "        return(list(c(dS, dI, dR)))\n",
    "    \n",
    "    })\n",
    "    \n",
    "}"
   ]
  },
  {
   "cell_type": "markdown",
   "metadata": {},
   "source": [
    "## 3. Running a test <a name=\"test\"></a>\n",
    "Let's run a quick test of the model."
   ]
  },
  {
   "cell_type": "code",
   "execution_count": 4,
   "metadata": {
    "scrolled": false
   },
   "outputs": [
    {
     "name": "stderr",
     "output_type": "stream",
     "text": [
      "Loading required package: ggplot2\n"
     ]
    },
    {
     "data": {
      "image/png": "[encoded data removed]",
      "text/plain": [
       "plot without title"
      ]
     },
     "metadata": {},
     "output_type": "display_data"
    }
   ],
   "source": [
    "require(deSolve)\n",
    "\n",
    "# Make the timesteps small for more detailed output\n",
    "times <- seq(from = 0, to = 14, by = 0.1) \n",
    "\n",
    "# Try a parameter set - we'll just pick this arbitrarily for demonstration purposes.\n",
    "parameters <- c(beta = 1.9, gamma = 0.6)\n",
    "\n",
    "# Run the model\n",
    "result <- as.data.frame(ode(y = initial_state_values, # vector of initial state values\n",
    "                                                      # with named elements\n",
    "                            times = times,            # vector of times\n",
    "                            func = SIR_model,         # your predefined SIR model function\n",
    "                            parms = parameters)       # the parameters which\n",
    "                                                      # SIR_model needs\n",
    ")\n",
    "\n",
    "# Plot your data against model output to check it\n",
    "require(ggplot2)\n",
    "res_plot <- ggplot() # initialise, but don't assign data\n",
    "\n",
    "res_plot <- res_plot + geom_point(aes(x = time, y = I)\n",
    "                                , colour = \"red\"\n",
    "                                , shape  = \"x\" \n",
    "                                , data = flu_data)\n",
    "res_plot <- res_plot +  geom_line(aes(x = time, y = I)\n",
    "                                , colour = \"blue\"\n",
    "                                , data = result)\n",
    "\n",
    "res_plot"
   ]
  },
  {
   "cell_type": "markdown",
   "metadata": {},
   "source": [
    "## 4. Sum-of-squares function <a name=\"SSQ\"></a>\n",
    "\n",
    "At its core, the SSQ calculation should have the following structure. You can test this using the output from the previous cell:"
   ]
  },
  {
   "cell_type": "code",
   "execution_count": 5,
   "metadata": {
    "scrolled": false
   },
   "outputs": [
    {
     "data": {
      "text/html": [
       "34243.6805666933"
      ],
      "text/latex": [
       "34243.6805666933"
      ],
      "text/markdown": [
       "34243.6805666933"
      ],
      "text/plain": [
       "[1] 34243.68"
      ]
     },
     "metadata": {},
     "output_type": "display_data"
    }
   ],
   "source": [
    "# Ensure we're working with equivalent time points\n",
    "matched_results <- result$I[result$time %in% flu_data$time] # selects elements where results$time is in flu_data$time\n",
    "\n",
    "# Calculate squared differences between model output and observed data\n",
    "deltas2 <- (matched_results - flu_data$I)^2\n",
    "\n",
    "# Then calculate their sum\n",
    "SSQ   <- sum(deltas2)\n",
    "\n",
    "# And take a look\n",
    "SSQ"
   ]
  },
  {
   "cell_type": "markdown",
   "metadata": {},
   "source": [
    "And now the whole function:"
   ]
  },
  {
   "cell_type": "code",
   "execution_count": 6,
   "metadata": {},
   "outputs": [],
   "source": [
    "# Define a function to calculate the sum of squared differences \n",
    "# between the SIR model output and observed epidemiological data.\n",
    "# Arguments:\n",
    "#    'parameters': must contain beta and gamma model parameters.\n",
    "#    'reported_data': will be the data to compare with. The relevant data must be in a column named 'I'.\n",
    "SIR_SSQ <- function(parameters, reported_data) {\n",
    "    \n",
    "    # Calculate model output using our SIR function and the provided parameters\n",
    "    result <- as.data.frame(ode(  y = initial_state_values  # named vector of initial state values\n",
    "                            , times = times                 # vector of times\n",
    "                            ,  func = SIR_model             # predefined SIR function\n",
    "                            , parms = parameters)           # the parameters argument\n",
    "    )\n",
    "\n",
    "    # Do some pre-processing of observed data:\n",
    "    # select only complete cases (i.e. rows with no missing data)\n",
    "    reported_data <- na.omit(reported_data)\n",
    "    \n",
    "    # Ensure we're working with equivalent time points by \n",
    "    # selecting elements where results$time is in reported_data$time\n",
    "    matched_results <- result$I[result$time %in% reported_data$time]\n",
    "    \n",
    "    # Calculate squared differences between model output and observed data\n",
    "    deltas2 <- (matched_results - reported_data$I)^2\n",
    "    \n",
    "    # Then calculate their sum\n",
    "    SSQ   <- sum(deltas2)\n",
    "    \n",
    "    return(SSQ)\n",
    "    \n",
    "}"
   ]
  },
  {
   "cell_type": "markdown",
   "metadata": {},
   "source": [
    "### Run full SSQ calculation\n",
    "\n",
    "Now let's run the sum-of-squares function using the observed data and our two parameter sets:\n",
    " * $\\beta$ = 1.15, $\\gamma$ = 0.02\n",
    " * $\\beta$ = 1.7,  $\\gamma$ = 0.45\n",
    "\n",
    "\n",
    "We should get an SSQ value for each set."
   ]
  },
  {
   "cell_type": "code",
   "execution_count": 7,
   "metadata": {},
   "outputs": [
    {
     "name": "stdout",
     "output_type": "stream",
     "text": [
      "[1] \"ssq = 2507764.33057048, where beta = 1.15, gamma = 0.02\"\n",
      "[1] \"ssq = 4630.302259291, where beta = 1.7, gamma = 0.45\"\n"
     ]
    }
   ],
   "source": [
    "# There's more than one way to use our function.\n",
    "# We can either create a variable to hold our parameters, and pass that to our functions...\n",
    "parms <- c(beta = 1.15, gamma = 0.02)\n",
    "ssq1 <- SIR_SSQ(parameters = parms, reported_data = flu_data)\n",
    "print(paste0(\"ssq = \", ssq1, \", where beta = \", parms['beta'], \", gamma = \", parms['gamma']))\n",
    "\n",
    "# ... or pass the parameters directly\n",
    "ssq2 <- SIR_SSQ(parameters = c(beta = 1.7, gamma = 0.45), reported_data = flu_data)\n",
    "print(paste0(\"ssq = \", ssq2, \", where beta = 1.7, gamma = 0.45\"))\n",
    "\n",
    "# Remember that functions can often take in a vector or vectors by default."
   ]
  },
  {
   "cell_type": "markdown",
   "metadata": {},
   "source": [
    "## 5. Further work - generalise SSQ function <a name=\"any_func\"></a>\n",
    "\n",
    "In the etivity we suggested a further task. How would you generalise your SSQ function to allow us to use it with any desired model function?"
   ]
  },
  {
   "cell_type": "code",
   "execution_count": 8,
   "metadata": {},
   "outputs": [],
   "source": [
    "# Define a function to calculate the sum of squared differences \n",
    "# between any model's output and observed epidemiological data.\n",
    "# Arguments:\n",
    "#    'parameters': must contain beta and gamma model parameters.\n",
    "#    'reported_data': will be the data to compare with. The relevant data must be in a column named 'I'.\n",
    "#    'func': new - we'll use this to pass the name of a model function\n",
    "\n",
    "SSQ <- function(func, parameters, reported_data) {  \n",
    "\n",
    "    # Calculate model output - now using the model function named in the arguments\n",
    "    result <- as.data.frame(ode(  y = initial_state_values      \n",
    "                            , times = times                     \n",
    "                            ,  func = func            # predefined function, as per the func argument\n",
    "                            , parms = parameters)     # parameters for func\n",
    "                            )\n",
    "    \n",
    "    # Do some pre-processing of observed data:\n",
    "    # select only complete cases (i.e. rows with no missing data)\n",
    "    reported_data <- na.omit(reported_data)\n",
    "    \n",
    "    # Ensure we're working with equivalent time points by \n",
    "    # selecting elements where results$time is in reported_data$time\n",
    "    matched_results <- result$I[result$time %in% reported_data$time]\n",
    "    \n",
    "    # Calculate squared differences between model output and observed data\n",
    "    deltas2 <- (matched_results - reported_data$I)^2\n",
    "    \n",
    "    # Then calculate their sum\n",
    "    SSQ   <- sum(deltas2)\n",
    "    \n",
    "    return(SSQ)\n",
    "    \n",
    "}"
   ]
  }
 ],
 "metadata": {
  "kernelspec": {
   "display_name": "R",
   "language": "R",
   "name": "ir"
  },
  "language_info": {
   "codemirror_mode": "r",
   "file_extension": ".r",
   "mimetype": "text/x-r-source",
   "name": "R",
   "pygments_lexer": "r",
   "version": "3.5.1"
  }
 },
 "nbformat": 4,
 "nbformat_minor": 2
}

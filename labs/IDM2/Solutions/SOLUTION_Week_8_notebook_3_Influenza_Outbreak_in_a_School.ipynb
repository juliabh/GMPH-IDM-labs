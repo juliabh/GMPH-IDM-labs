{
 "cells": [
  {
   "cell_type": "markdown",
   "metadata": {},
   "source": [
    "# Solution: Influenza outbreak in a school"
   ]
  },
  {
   "cell_type": "markdown",
   "metadata": {},
   "source": [
    "**1) Use your calibration skills to fit an SIR model to the outbreak data before the intervention was introduced (up until day 17), using the maximum-likelihood approach.**"
   ]
  },
  {
   "cell_type": "markdown",
   "metadata": {},
   "source": [
    "Loading the data and saving the subset that will be used for the calibration:"
   ]
  },
  {
   "cell_type": "code",
   "execution_count": 1,
   "metadata": {},
   "outputs": [
    {
     "data": {
      "text/html": [
       "<table>\n",
       "<thead><tr><th scope=col>day</th><th scope=col>cases</th></tr></thead>\n",
       "<tbody>\n",
       "\t<tr><td>0</td><td>0</td></tr>\n",
       "\t<tr><td>1</td><td>1</td></tr>\n",
       "\t<tr><td>2</td><td>1</td></tr>\n",
       "\t<tr><td>3</td><td>0</td></tr>\n",
       "\t<tr><td>4</td><td>2</td></tr>\n",
       "\t<tr><td>5</td><td>5</td></tr>\n",
       "</tbody>\n",
       "</table>\n"
      ],
      "text/latex": [
       "\\begin{tabular}{r|ll}\n",
       " day & cases\\\\\n",
       "\\hline\n",
       "\t 0 & 0\\\\\n",
       "\t 1 & 1\\\\\n",
       "\t 2 & 1\\\\\n",
       "\t 3 & 0\\\\\n",
       "\t 4 & 2\\\\\n",
       "\t 5 & 5\\\\\n",
       "\\end{tabular}\n"
      ],
      "text/markdown": [
       "\n",
       "| day | cases |\n",
       "|---|---|\n",
       "| 0 | 0 |\n",
       "| 1 | 1 |\n",
       "| 2 | 1 |\n",
       "| 3 | 0 |\n",
       "| 4 | 2 |\n",
       "| 5 | 5 |\n",
       "\n"
      ],
      "text/plain": [
       "  day cases\n",
       "1 0   0    \n",
       "2 1   1    \n",
       "3 2   1    \n",
       "4 3   0    \n",
       "5 4   2    \n",
       "6 5   5    "
      ]
     },
     "metadata": {},
     "output_type": "display_data"
    }
   ],
   "source": [
    "# Read in the dataset\n",
    "flu_data <- read.csv(\"../GraphicsAndData/w8_nb3_flu_data.csv\")\n",
    "\n",
    "# Explore the dataset format\n",
    "head(flu_data)  # prints the first few rows of the dataset including the column names\n"
   ]
  },
  {
   "cell_type": "markdown",
   "metadata": {},
   "source": [
    "We'll rename the two columns for use with our existing ```SIR_loglik()``` function:"
   ]
  },
  {
   "cell_type": "code",
   "execution_count": 2,
   "metadata": {},
   "outputs": [
    {
     "data": {
      "text/html": [
       "<table>\n",
       "<thead><tr><th scope=col>time</th><th scope=col>number_reported</th></tr></thead>\n",
       "<tbody>\n",
       "\t<tr><td>0</td><td>0</td></tr>\n",
       "\t<tr><td>1</td><td>1</td></tr>\n",
       "\t<tr><td>2</td><td>1</td></tr>\n",
       "\t<tr><td>3</td><td>0</td></tr>\n",
       "\t<tr><td>4</td><td>2</td></tr>\n",
       "\t<tr><td>5</td><td>5</td></tr>\n",
       "</tbody>\n",
       "</table>\n"
      ],
      "text/latex": [
       "\\begin{tabular}{r|ll}\n",
       " time & number\\_reported\\\\\n",
       "\\hline\n",
       "\t 0 & 0\\\\\n",
       "\t 1 & 1\\\\\n",
       "\t 2 & 1\\\\\n",
       "\t 3 & 0\\\\\n",
       "\t 4 & 2\\\\\n",
       "\t 5 & 5\\\\\n",
       "\\end{tabular}\n"
      ],
      "text/markdown": [
       "\n",
       "| time | number_reported |\n",
       "|---|---|\n",
       "| 0 | 0 |\n",
       "| 1 | 1 |\n",
       "| 2 | 1 |\n",
       "| 3 | 0 |\n",
       "| 4 | 2 |\n",
       "| 5 | 5 |\n",
       "\n"
      ],
      "text/plain": [
       "  time number_reported\n",
       "1 0    0              \n",
       "2 1    1              \n",
       "3 2    1              \n",
       "4 3    0              \n",
       "5 4    2              \n",
       "6 5    5              "
      ]
     },
     "metadata": {},
     "output_type": "display_data"
    }
   ],
   "source": [
    "# Rename\n",
    "colnames(flu_data)[1] <- \"time\"\n",
    "colnames(flu_data)[2] <- \"number_reported\"\n",
    "\n",
    "# Check the new names\n",
    "head(flu_data)"
   ]
  },
  {
   "cell_type": "markdown",
   "metadata": {},
   "source": [
    "And copy some data into a separate variable, to calibrate with:"
   ]
  },
  {
   "cell_type": "code",
   "execution_count": 3,
   "metadata": {},
   "outputs": [],
   "source": [
    "# Save a subset of the dataset for use in the calibration: days 0-17 (before the school was closed)\n",
    "calibration_data <- flu_data[flu_data$time < 18,]"
   ]
  },
  {
   "cell_type": "markdown",
   "metadata": {},
   "source": [
    "Defining the model input, SIR model function and distance function calculating the log-likelihood:"
   ]
  },
  {
   "cell_type": "code",
   "execution_count": 4,
   "metadata": {
    "scrolled": true
   },
   "outputs": [
    {
     "name": "stderr",
     "output_type": "stream",
     "text": [
      "Loading required package: deSolve\n",
      "Loading required package: reshape2\n",
      "Loading required package: ggplot2\n"
     ]
    }
   ],
   "source": [
    "# Load packages\n",
    "require(deSolve)\n",
    "require(reshape2)\n",
    "require(ggplot2)\n",
    "\n",
    "# Set up initial model state and times vector\n",
    "initial_state_values <- c(S = 455,  # of the 456 students in the school, all but the one infected case are susceptible\n",
    "                          I = 1,    # the outbreak starts with one infected case\n",
    "                          R = 0)    # there is no previous immunity to the pandemic influenza strain in the population\n",
    "\n",
    "times <- seq(from = 0, to = 17, by = 1)  # the calibration dataset spans days 0-17, so we simulate the model for this time\n",
    "\n",
    "# Define the Susceptible-Infected-Recovered model\n",
    "SIR_model <- function(time, state, parameters) {  \n",
    "  \n",
    "  with(as.list(c(state, parameters)), {\n",
    "    \n",
    "    N <- S+I+R\n",
    "    \n",
    "    lambda <- beta * I/N\n",
    "    \n",
    "    # The differential equations\n",
    "    dS <- -lambda * S               \n",
    "    dI <- lambda * S - gamma * I\n",
    "    dR <- gamma * I             \n",
    "    \n",
    "    # Output\n",
    "    return(list(c(dS, dI, dR))) \n",
    "  })\n",
    "}\n",
    "\n",
    "\n",
    "# Define a function to calculate the distance between between the SIR model output\n",
    "# and observed epidemiological data, using log-likelihood.\n",
    "# As our flu dataset refers to reported cases, we need to make a corresponding adjustment to the model output.\n",
    "# In case we'd like to use this function with other datasets (which may have a different reporting rate), we'll pass\n",
    "# this value as a function argument.\n",
    "# Arguments:\n",
    "#    'parameters': must contain beta and gamma model parameters\n",
    "#    'reported_data': will be the data to compare with. Note we have sometimes called this 'dat' instead.\n",
    "#    'reporting_rate': refers to the proportion of actual cases which are reported, expressed as a fraction\n",
    "SIR_loglik <- function(parameters, reported_data, reporting_rate) {   # takes as inputs the parameter values and dataset\n",
    "  \n",
    "   beta <- parameters[1]    # extract and save the first value in the \"parameters\" input argument as beta\n",
    "   gamma <- parameters[2]   # extract and save the second value in the \"parameters\" input argument as gamma\n",
    "    \n",
    "   # Simulate the model with initial conditions and timesteps defined above, and parameter values from function call\n",
    "   output <- as.data.frame(ode(y = initial_state_values, \n",
    "                               times = times, \n",
    "                               func = SIR_model,\n",
    "                               parms = c(beta = beta,       # ode() takes the values for beta and gamma extracted from\n",
    "                                         gamma = gamma)))   # the \"parameters\" input argument of the SIR_loglik() function\n",
    "\n",
    "   # Ensure we're working with equivalent time points by selecting elements\n",
    "   # where output$time is in reported_data$time\n",
    "   matched_results <- output$I[output$time %in% reported_data$time]\n",
    "\n",
    "   # Calculate log-likelihood, accounting for the reporting rate by reducing cases in the model output accordingly.\n",
    "   # Note that lambda here has to do with the shape of the Poisson distribution, and is nothing to do with lambda \n",
    "   # in the epidemiological sense.\n",
    "   LL <- sum(dpois(x = reported_data$number_reported, lambda = reporting_rate * matched_results, log = TRUE))\n",
    "    \n",
    "   return(LL) \n",
    "}"
   ]
  },
  {
   "cell_type": "markdown",
   "metadata": {},
   "source": [
    "Optimising the SIR_loglik() function to estimate $\\beta$ and $\\gamma$ by maximising the likelihood:"
   ]
  },
  {
   "cell_type": "code",
   "execution_count": 5,
   "metadata": {},
   "outputs": [
    {
     "data": {
      "text/html": [
       "<dl>\n",
       "\t<dt>$par</dt>\n",
       "\t\t<dd><ol class=list-inline>\n",
       "\t<li>0.771392542891734</li>\n",
       "\t<li>0.578818206537895</li>\n",
       "</ol>\n",
       "</dd>\n",
       "\t<dt>$value</dt>\n",
       "\t\t<dd>-34.7752380470944</dd>\n",
       "\t<dt>$counts</dt>\n",
       "\t\t<dd><dl class=dl-horizontal>\n",
       "\t<dt>function</dt>\n",
       "\t\t<dd>75</dd>\n",
       "\t<dt>gradient</dt>\n",
       "\t\t<dd>&lt;NA&gt;</dd>\n",
       "</dl>\n",
       "</dd>\n",
       "\t<dt>$convergence</dt>\n",
       "\t\t<dd>0</dd>\n",
       "\t<dt>$message</dt>\n",
       "\t\t<dd>NULL</dd>\n",
       "</dl>\n"
      ],
      "text/latex": [
       "\\begin{description}\n",
       "\\item[\\$par] \\begin{enumerate*}\n",
       "\\item 0.771392542891734\n",
       "\\item 0.578818206537895\n",
       "\\end{enumerate*}\n",
       "\n",
       "\\item[\\$value] -34.7752380470944\n",
       "\\item[\\$counts] \\begin{description*}\n",
       "\\item[function] 75\n",
       "\\item[gradient] <NA>\n",
       "\\end{description*}\n",
       "\n",
       "\\item[\\$convergence] 0\n",
       "\\item[\\$message] NULL\n",
       "\\end{description}\n"
      ],
      "text/markdown": [
       "$par\n",
       ":   1. 0.771392542891734\n",
       "2. 0.578818206537895\n",
       "\n",
       "\n",
       "\n",
       "$value\n",
       ":   -34.7752380470944\n",
       "$counts\n",
       ":   function\n",
       ":   75gradient\n",
       ":   &lt;NA&gt;\n",
       "\n",
       "\n",
       "$convergence\n",
       ":   0\n",
       "$message\n",
       ":   NULL\n",
       "\n",
       "\n"
      ],
      "text/plain": [
       "$par\n",
       "[1] 0.7713925 0.5788182\n",
       "\n",
       "$value\n",
       "[1] -34.77524\n",
       "\n",
       "$counts\n",
       "function gradient \n",
       "      75       NA \n",
       "\n",
       "$convergence\n",
       "[1] 0\n",
       "\n",
       "$message\n",
       "NULL\n"
      ]
     },
     "metadata": {},
     "output_type": "display_data"
    }
   ],
   "source": [
    "# Run optimisation\n",
    "optim(par = c(0.5, 0.5),                 # arbitrary starting values for beta and gamma\n",
    "      fn = SIR_loglik,                   # the distance function to optimise\n",
    "      reported_data = calibration_data,  # the dataset to fit to\n",
    "      reporting_rate = 1,                # the proportion of reported cases. Although we don't need to make any adjustment\n",
    "                                         # for reporting rate, we should still pass a value of 100% to make that clear.\n",
    "      control = list(fnscale=-1))        # tells optim() to look for the maximum number instead of the minimum (the default)"
   ]
  },
  {
   "cell_type": "markdown",
   "metadata": {},
   "source": [
    "The calibration gives the following estimates for *beta* and *gamma*:  \n",
    "$\\beta$ = 0.77 per day  \n",
    "$\\gamma$ = 0.58 per day\n",
    "\n",
    "**2) Use the parameters estimated in the calibration to project how the outbreak would have progressed without the school closure.**"
   ]
  },
  {
   "cell_type": "code",
   "execution_count": 6,
   "metadata": {},
   "outputs": [],
   "source": [
    "# Project the course of the outbreak without interventions:\n",
    "\n",
    "# The full dataset spans 50 days, so we simulate the model for this time\n",
    "times <- seq(from = 0, to = 50, by = 1)  \n",
    "\n",
    "# Add the calibrated parameter values as input\n",
    "parameters <- c(beta = 0.77,\n",
    "                gamma = 0.58)\n",
    "\n",
    "# Simulate the model\n",
    "output <- as.data.frame(ode(y = initial_state_values, \n",
    "                            times = times, \n",
    "                            func = SIR_model,\n",
    "                            parms = parameters))"
   ]
  },
  {
   "cell_type": "markdown",
   "metadata": {},
   "source": [
    "**3) Compare this projection with the data visually and calculate the total number of cases averted by the intervention.**"
   ]
  },
  {
   "cell_type": "code",
   "execution_count": 7,
   "metadata": {},
   "outputs": [
    {
     "data": {
      "image/png": "[encoded data removed]",
      "text/plain": [
       "plot without title"
      ]
     },
     "metadata": {},
     "output_type": "display_data"
    }
   ],
   "source": [
    "# Plot the model projection and the full dataset\n",
    "\n",
    "ggplot() +\n",
    "  geom_col(data = flu_data, aes(x = time, y = number_reported)) +  \n",
    "  geom_line(data = output, aes(x = time, y = I)) +                              \n",
    "  xlab(\"Time (days)\")+                                              \n",
    "  ylab(\"Prevalence of infection\") +                                 \n",
    "  labs(title = \"Flu outbreak model projection (line) vs. data (bars)\")"
   ]
  },
  {
   "cell_type": "markdown",
   "metadata": {},
   "source": [
    "The plot shows that our calibrated parameter values give a good fit to the outbreak data before the school was closed. Comparing the model projection after day 17 with the datapoints suggests that the school closure had an effect on reducing the prevalence of infection: while the simulated prevalence keeps increasing after day 17, in reality (with the intervention) the peak of the epidemic had already been reached at that time.\n",
    "\n",
    "### How many flu cases were averted by the school closure?"
   ]
  },
  {
   "cell_type": "code",
   "execution_count": 9,
   "metadata": {},
   "outputs": [
    {
     "name": "stdout",
     "output_type": "stream",
     "text": [
      "[1] \"Number of cases with intervention (data):\"\n"
     ]
    },
    {
     "data": {
      "text/html": [
       "28"
      ],
      "text/latex": [
       "28"
      ],
      "text/markdown": [
       "28"
      ],
      "text/plain": [
       "[1] 28"
      ]
     },
     "metadata": {},
     "output_type": "display_data"
    },
    {
     "name": "stdout",
     "output_type": "stream",
     "text": [
      "[1] \"Number of cases without intervention (model):\"\n"
     ]
    },
    {
     "data": {
      "text/html": [
       "252.339347354374"
      ],
      "text/latex": [
       "252.339347354374"
      ],
      "text/markdown": [
       "252.339347354374"
      ],
      "text/plain": [
       "[1] 252.3393"
      ]
     },
     "metadata": {},
     "output_type": "display_data"
    },
    {
     "name": "stdout",
     "output_type": "stream",
     "text": [
      "[1] \"Difference:\"\n"
     ]
    },
    {
     "data": {
      "text/html": [
       "224.339347354374"
      ],
      "text/latex": [
       "224.339347354374"
      ],
      "text/markdown": [
       "224.339347354374"
      ],
      "text/plain": [
       "[1] 224.3393"
      ]
     },
     "metadata": {},
     "output_type": "display_data"
    }
   ],
   "source": [
    "# Calculate the total number of cases after day 17 with/without the intervention\n",
    "print(\"Number of cases with intervention (data):\")\n",
    "sum(flu_data$number_reported[flu_data$time>17])\n",
    "\n",
    "print(\"Number of cases without intervention (model):\")\n",
    "sum(output$I[output$time>17])\n",
    "\n",
    "# Calculate difference\n",
    "print(\"Difference:\")\n",
    "sum(output$I[output$time>17])-sum(flu_data$number_reported[flu_data$time>17])"
   ]
  },
  {
   "cell_type": "markdown",
   "metadata": {},
   "source": [
    "The model suggests that the school closure averted 224 flu cases."
   ]
  },
  {
   "cell_type": "markdown",
   "metadata": {},
   "source": [
    "**Dataset reference:**\n",
    "\n",
    "Cauchemez, S., Bhattarai, A., Marchbanks, T. L., Fagan, R. P., Ostroff, S., Ferguson, N. M., & Pennsylvania H1N1 Working Group. (2011). Role of social networks in shaping disease transmission during a community outbreak of 2009 H1N1 pandemic influenza. Proceedings of the National Academy of Sciences, 108(7), 2825-2830."
   ]
  }
 ],
 "metadata": {
  "kernelspec": {
   "display_name": "R",
   "language": "R",
   "name": "ir"
  },
  "language_info": {
   "codemirror_mode": "r",
   "file_extension": ".r",
   "mimetype": "text/x-r-source",
   "name": "R",
   "pygments_lexer": "r",
   "version": "3.5.1"
  }
 },
 "nbformat": 4,
 "nbformat_minor": 2
}

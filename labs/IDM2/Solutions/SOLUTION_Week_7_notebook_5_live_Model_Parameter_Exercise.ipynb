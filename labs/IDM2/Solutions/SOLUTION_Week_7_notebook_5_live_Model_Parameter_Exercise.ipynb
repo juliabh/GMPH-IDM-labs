{
 "cells": [
  {
   "cell_type": "markdown",
   "metadata": {},
   "source": [
    "# A Model Parameter Exercise<a name = 'top'></a>\n",
    "\n",
    "A new respiratory virus has begun circulating in another country. So far, epidemiological investigations have yielded the data below. If a vaccine, with 80% effectiveness (at reducing susceptibility, no reduction in infectiousness), becomes available before this virus begins sustained transmission in your own country, what is the critical coverage required of this vaccine?\n",
    "Assume that the source country and your own country are epidemiologically equivalent (i.e. that disease transmission follows the same parameters in both settings)."
   ]
  },
  {
   "cell_type": "markdown",
   "metadata": {},
   "source": [
    "* All infected individuals go through an incubation period, which lasts on average for 4 days. During this time, individuals are not infectious, nor do they have any excess mortality risk.  \n",
    "\n",
    "* All infected individuals eventually develop symptoms, and the mean duration of symptoms is 5 days.  \n",
    "\n",
    "* Symptomatic individuals are infectious, as well as having a 3% case fatality rate. Those who survive the infection are thought to have full, long-term immunity.  \n",
    "\n",
    "* In the source country, the peak prevalence (i.e. maximum number of symptomatic people during the epidemic) was 8% of the population."
   ]
  },
  {
   "cell_type": "markdown",
   "metadata": {},
   "source": [
    "[1. Model Diagram](#diagram)  \n",
    "[2. Parameters you know or can calculate](#params)  \n",
    "[3. Model equations and function](#equations)  \n",
    "[4. Manual calibration](#mancal)  \n",
    ". [4.1 Run and plot model](#model)  \n",
    ". [4.2 Manually calibrate to estimate 𝛽](#manual)  \n",
    "[5. Vaccine coverage](#vaccine)  \n",
    "[6. Extra: Towards automated calibration](#auto)  \n",
    ". [6.1 (extra) Automated calibration: distance function](#distfn)  \n",
    ". [6.2 optim(): one-dimensional optimisation](#optim)\n"
   ]
  },
  {
   "cell_type": "markdown",
   "metadata": {},
   "source": [
    "## 1. Model Diagram<a name='diagram'></a>"
   ]
  },
  {
   "cell_type": "markdown",
   "metadata": {},
   "source": [
    "A good first thing to do is draw a model diagram. What do you know about the disease so far? Incorporating everything into a model, you should have an SLIR model structure like this:  \n",
    "*(remember the difference between a latent phase and an asymptomatic phase)*\n",
    "\n",
    "<img src=\"../GraphicsAndData/w7_nb5_diagram.png\">\n"
   ]
  },
  {
   "cell_type": "code",
   "execution_count": 1,
   "metadata": {},
   "outputs": [],
   "source": [
    "library(deSolve)\n",
    "library(ggplot2)"
   ]
  },
  {
   "cell_type": "markdown",
   "metadata": {},
   "source": [
    "## 2. Parameters you know or can calculate<a name = 'params'></a> ([return to top](#top))"
   ]
  },
  {
   "cell_type": "code",
   "execution_count": 2,
   "metadata": {},
   "outputs": [],
   "source": [
    "### YOUR CODE HERE ###\n",
    "## It's usually good to start off by writing what we know. \n",
    "## Might as well tell R these things:\n",
    "\n",
    "# incubation period = 4 days\n",
    "r     <- 1/4\n",
    "\n",
    "# mean duration of symptoms = 5 days, therefore rate of recovery:\n",
    "gamma <- 1/5\n",
    "\n",
    "# and case fatality rate (cfr):\n",
    "cfr   <- 3/100 # 3%"
   ]
  },
  {
   "cell_type": "markdown",
   "metadata": {},
   "source": [
    "We don't know mu, the mortality rate. But we can calculate it using competing hazard theory:"
   ]
  },
  {
   "cell_type": "code",
   "execution_count": 19,
   "metadata": {},
   "outputs": [
    {
     "data": {
      "text/html": [
       "0.00618556701030928"
      ],
      "text/latex": [
       "0.00618556701030928"
      ],
      "text/markdown": [
       "0.00618556701030928"
      ],
      "text/plain": [
       "[1] 0.006185567"
      ]
     },
     "metadata": {},
     "output_type": "display_data"
    }
   ],
   "source": [
    "[SF could do with more explanation here, in a comment at top or line by line comments]\n",
    "# mu / (gamma+mu)  = cfr = 0.03   # competing hazards \n",
    "# mu = 0.03*(gamma)+0.03*(mu)\n",
    "# 0.97*mu = 0.03*gamma = 0.03*1/5\n",
    "\n",
    "mu <- 0.03*gamma/0.97\n",
    "\n",
    "mu"
   ]
  },
  {
   "cell_type": "markdown",
   "metadata": {},
   "source": [
    "So now we need to work towards working out the vaccine coverage needed.\n",
    "\n",
    "If you can't remember (or derive them yourself each time!), the equation you need is derived from the equation for $R_{eff}$. In turn (see below), to use that equation, you need to know the value of beta.  \n",
    "\n",
    "So you don't yet have a value for $\\beta$, and this time, you also don't have the series of data that you have had in previous etivities on calibration, to find $\\beta$. But there's one remaining piece of data: the peak prevalence is 8%. At this stage you can use the parameters you have already found, along with the model diagram, to code this model in R. You can then determine what value of beta gives you this required peak prevalence."
   ]
  },
  {
   "cell_type": "markdown",
   "metadata": {},
   "source": [
    "## 3. Model equations and function<a name = 'equations'></a>  ([return to top](#top))\n",
    "\n",
    "The equations which go with your model above are:\n",
    "\n",
    "$\\frac{dS}{dt} = -\\lambda S   \\qquad \\quad   = -\\beta \\frac{I}{N} S $\n",
    "  \n",
    "$\\frac{dL}{dt} =  \\ \\lambda S - rL \\ \\quad = \\; \\beta \\frac{I}{N} S  - rL $\n",
    "  \n",
    "$\\frac{dI}{dt} =  \\ rL - \\mu I - \\gamma I $\n",
    "  \n",
    "$\\frac{dR}{dt} =  \\ \\gamma I $"
   ]
  },
  {
   "cell_type": "code",
   "execution_count": 1,
   "metadata": {},
   "outputs": [
    {
     "ename": "ERROR",
     "evalue": "Error in parse(text = x, srcfile = src): <text>:4:1: unexpected '['\n3: \n4: [\n   ^\n",
     "output_type": "error",
     "traceback": [
      "Error in parse(text = x, srcfile = src): <text>:4:1: unexpected '['\n3: \n4: [\n   ^\nTraceback:\n"
     ]
    }
   ],
   "source": [
    "# RUN THIS CELL to\n",
    "# define the disease model function [SF 'define a function for this disease model']\n",
    "\n",
    "[SF more descriptive function name, as before. eg SLIR_model. Though might be more confusing if these are sometimes denoted by _fn and  sometimes _model?]\n",
    "    \n",
    "SLIR_fn <- function(time, state, parameters) { \n",
    "\n",
    "    with(as.list(c(state, parameters)), {\n",
    "        \n",
    "        N  <- S + L + I + R\n",
    "        \n",
    "        ## model equations\n",
    "        dS <- -beta * I/N * S\n",
    "        dL <-  beta * I/N * S - r * L\n",
    "        dI <-  r * L - mu * I - gamma * I\n",
    "        dR <-  gamma * I\n",
    "    \n",
    "    return(list(c(dS, dL, dI, dR)))\n",
    "   \n",
    "    })\n",
    "\n",
    "}"
   ]
  },
  {
   "cell_type": "markdown",
   "metadata": {},
   "source": [
    "## 4. Find $\\beta$ manually<a name = 'mancal'></a>\n",
    "\n",
    "### 4.1 Run and plot model ([return to top](#top))\n",
    "\n",
    "You need to estimate $\\beta$, so what value to start with? You will need a value which at least makes $R_0$ > 1.\n",
    "\n",
    "How is $R_{0}$ estimated for our SLIR model?\n",
    "Only the $I$ compartment is infectious, and there is also a mortality hazard from this compartment: so $R_{0}$ is $\\frac{\\beta}{\\gamma + \\mu}$.  \n",
    "\n",
    "So, let's calculate the minimum for beta. A value of $R_0$ = 1 would correspond to $\\beta = \\gamma + \\mu$, so in order to get an $R_0$ greater than 1 we'd need a $\\beta$ value greater than:"
   ]
  },
  {
   "cell_type": "code",
   "execution_count": 5,
   "metadata": {},
   "outputs": [
    {
     "data": {
      "text/html": [
       "0.206185567010309"
      ],
      "text/latex": [
       "0.206185567010309"
      ],
      "text/markdown": [
       "0.206185567010309"
      ],
      "text/plain": [
       "[1] 0.2061856"
      ]
     },
     "metadata": {},
     "output_type": "display_data"
    }
   ],
   "source": [
    "gamma + mu"
   ]
  },
  {
   "cell_type": "markdown",
   "metadata": {},
   "source": [
    "Let's choose a value above this, which definitely gives an epidemic. We can then adjust."
   ]
  },
  {
   "cell_type": "code",
   "execution_count": 24,
   "metadata": {},
   "outputs": [],
   "source": [
    "# in case you forgot from earlier: [SF 'let's restate our model parameters']\n",
    "r     <- 1/4\n",
    "gamma <- 1/5\n",
    "mu    <- 0.03*gamma/0.97\n",
    "\n",
    "beta  <- 2 # well over the value for R0 > 1\n",
    "\n",
    "parameters <- c(mu = mu, r = r, gamma = gamma, beta = beta)\n",
    "\n",
    "# we need to decide on some initial state values. \n",
    "# You are not told the population of the country\n",
    "# in which the epidemic occurred! Does it matter?\n",
    "# Try a large value: say, 1,000,000 (10^6)\n",
    "# and assume 1 initial infection.\n",
    "\n",
    "initial_state_values <- c(S = 10^6, L = 1, I = 0, R = 0) \n",
    "# and what timescale? try a year\n",
    "times <- seq(from = 0, to = 365, by = 1)\n",
    "\n",
    "require(deSolve) # just in case you skipped the first cell!\n",
    "\n",
    "output <- as.data.frame(ode(y = initial_state_values, \n",
    "                            times = times, \n",
    "                            func = SLIR_fn,\n",
    "                            parms = parameters))"
   ]
  },
  {
   "cell_type": "markdown",
   "metadata": {},
   "source": [
    "Have a look at the output, if you wish (at least to check)\n",
    "by running the following cell:"
   ]
  },
  {
   "cell_type": "code",
   "execution_count": 7,
   "metadata": {
    "scrolled": true
   },
   "outputs": [
    {
     "data": {
      "text/html": [
       "<table>\n",
       "<thead><tr><th scope=col>time</th><th scope=col>S</th><th scope=col>L</th><th scope=col>I</th><th scope=col>R</th></tr></thead>\n",
       "<tbody>\n",
       "\t<tr><td> 0          </td><td>1000000.0   </td><td>1.000000e+00</td><td>0.000000e+00</td><td>0.000000e+00</td></tr>\n",
       "\t<tr><td> 1          </td><td> 999999.8   </td><td>9.847712e-01</td><td>2.160334e-01</td><td>2.238859e-02</td></tr>\n",
       "\t<tr><td> 2          </td><td> 999999.1   </td><td>1.343138e+00</td><td>4.336658e-01</td><td>8.660935e-02</td></tr>\n",
       "\t<tr><td> 3          </td><td> 999998.0   </td><td>2.072172e+00</td><td>7.336432e-01</td><td>2.013385e-01</td></tr>\n",
       "\t<tr><td> 4          </td><td> 999996.1   </td><td>3.308540e+00</td><td>1.197905e+00</td><td>3.909498e-01</td></tr>\n",
       "\t<tr><td> 5          </td><td> 999993.0   </td><td>5.328439e+00</td><td>1.939771e+00</td><td>6.988729e-01</td></tr>\n",
       "\t<tr><td> 6          </td><td> 999988.0   </td><td>8.599684e+00</td><td>3.134788e+00</td><td>1.196841e+00</td></tr>\n",
       "\t<tr><td> 7          </td><td> 999980.0   </td><td>1.388634e+01</td><td>5.063543e+00</td><td>2.001334e+00</td></tr>\n",
       "\t<tr><td> 8          </td><td> 999967.0   </td><td>2.242569e+01</td><td>8.178025e+00</td><td>3.300708e+00</td></tr>\n",
       "\t<tr><td> 9          </td><td> 999946.0   </td><td>3.621710e+01</td><td>1.320773e+01</td><td>5.399257e+00</td></tr>\n",
       "\t<tr><td>10          </td><td> 999912.1   </td><td>5.848972e+01</td><td>2.133053e+01</td><td>8.788444e+00</td></tr>\n",
       "\t<tr><td>11          </td><td> 999857.4   </td><td>9.445779e+01</td><td>3.444844e+01</td><td>1.426196e+01</td></tr>\n",
       "\t<tr><td>12          </td><td> 999769.0   </td><td>1.525396e+02</td><td>5.563257e+01</td><td>2.310150e+01</td></tr>\n",
       "\t<tr><td>13          </td><td> 999626.3   </td><td>2.463233e+02</td><td>8.984126e+01</td><td>3.737672e+01</td></tr>\n",
       "\t<tr><td>14          </td><td> 999395.9   </td><td>3.977340e+02</td><td>1.450780e+02</td><td>6.042928e+01</td></tr>\n",
       "\t<tr><td>15          </td><td> 999023.9   </td><td>6.421294e+02</td><td>2.342575e+02</td><td>9.765370e+01</td></tr>\n",
       "\t<tr><td>16          </td><td> 998423.7   </td><td>1.036477e+03</td><td>3.782081e+02</td><td>1.577562e+02</td></tr>\n",
       "\t<tr><td>17          </td><td> 997455.4   </td><td>1.672428e+03</td><td>6.104922e+02</td><td>2.547817e+02</td></tr>\n",
       "\t<tr><td>18          </td><td> 995894.7   </td><td>2.697079e+03</td><td>9.851161e+02</td><td>4.113718e+02</td></tr>\n",
       "\t<tr><td>19          </td><td> 993382.1   </td><td>4.345612e+03</td><td>1.588787e+03</td><td>6.639855e+02</td></tr>\n",
       "\t<tr><td>20          </td><td> 989344.8   </td><td>6.991685e+03</td><td>2.560206e+03</td><td>1.071226e+03</td></tr>\n",
       "\t<tr><td>21          </td><td> 982877.7   </td><td>1.122292e+04</td><td>4.119942e+03</td><td>1.727013e+03</td></tr>\n",
       "\t<tr><td>22          </td><td> 972570.4   </td><td>1.794802e+04</td><td>6.615396e+03</td><td>2.781166e+03</td></tr>\n",
       "\t<tr><td>23          </td><td> 956273.2   </td><td>2.853337e+04</td><td>1.058526e+04</td><td>4.470858e+03</td></tr>\n",
       "\t<tr><td>24          </td><td> 930830.6   </td><td>4.493806e+04</td><td>1.684368e+04</td><td>7.167021e+03</td></tr>\n",
       "\t<tr><td>25          </td><td> 891896.0   </td><td>6.974268e+04</td><td>2.656997e+04</td><td>1.143857e+04</td></tr>\n",
       "\t<tr><td>26          </td><td> 834131.3   </td><td>1.058244e+05</td><td>4.135310e+04</td><td>1.813139e+04</td></tr>\n",
       "\t<tr><td>27          </td><td> 752352.8   </td><td>1.552532e+05</td><td>6.307276e+04</td><td>2.844250e+04</td></tr>\n",
       "\t<tr><td>28          </td><td> 644241.8   </td><td>2.170405e+05</td><td>9.342151e+04</td><td>4.393826e+04</td></tr>\n",
       "\t<tr><td>29          </td><td> 514302.1   </td><td>2.843065e+05</td><td>1.329118e+05</td><td>6.642615e+04</td></tr>\n",
       "\t<tr><td>⋮</td><td>⋮</td><td>⋮</td><td>⋮</td><td>⋮</td></tr>\n",
       "\t<tr><td>336         </td><td>52.85537    </td><td>9.533276e-23</td><td>3.885377e-20</td><td>969949.7    </td></tr>\n",
       "\t<tr><td>337         </td><td>52.85537    </td><td>7.907601e-23</td><td>3.222849e-20</td><td>969949.7    </td></tr>\n",
       "\t<tr><td>338         </td><td>52.85537    </td><td>6.559149e-23</td><td>2.673294e-20</td><td>969949.7    </td></tr>\n",
       "\t<tr><td>339         </td><td>52.85537    </td><td>5.440645e-23</td><td>2.217448e-20</td><td>969949.7    </td></tr>\n",
       "\t<tr><td>340         </td><td>52.85537    </td><td>4.512876e-23</td><td>1.839333e-20</td><td>969949.7    </td></tr>\n",
       "\t<tr><td>341         </td><td>52.85537    </td><td>3.743317e-23</td><td>1.525693e-20</td><td>969949.7    </td></tr>\n",
       "\t<tr><td>342         </td><td>52.85537    </td><td>3.104988e-23</td><td>1.265534e-20</td><td>969949.7    </td></tr>\n",
       "\t<tr><td>343         </td><td>52.85537    </td><td>2.575510e-23</td><td>1.049737e-20</td><td>969949.7    </td></tr>\n",
       "\t<tr><td>344         </td><td>52.85537    </td><td>2.136322e-23</td><td>8.707377e-21</td><td>969949.7    </td></tr>\n",
       "\t<tr><td>345         </td><td>52.85537    </td><td>1.772027e-23</td><td>7.222610e-21</td><td>969949.7    </td></tr>\n",
       "\t<tr><td>346         </td><td>52.85537    </td><td>1.469854e-23</td><td>5.991022e-21</td><td>969949.7    </td></tr>\n",
       "\t<tr><td>347         </td><td>52.85537    </td><td>1.219209e-23</td><td>4.969443e-21</td><td>969949.7    </td></tr>\n",
       "\t<tr><td>348         </td><td>52.85537    </td><td>1.011305e-23</td><td>4.122061e-21</td><td>969949.7    </td></tr>\n",
       "\t<tr><td>349         </td><td>52.85537    </td><td>8.388535e-24</td><td>3.419174e-21</td><td>969949.7    </td></tr>\n",
       "\t<tr><td>350         </td><td>52.85537    </td><td>6.958094e-24</td><td>2.836142e-21</td><td>969949.7    </td></tr>\n",
       "\t<tr><td>351         </td><td>52.85537    </td><td>5.771577e-24</td><td>2.352528e-21</td><td>969949.7    </td></tr>\n",
       "\t<tr><td>352         </td><td>52.85537    </td><td>4.787391e-24</td><td>1.951378e-21</td><td>969949.7    </td></tr>\n",
       "\t<tr><td>353         </td><td>52.85537    </td><td>3.971031e-24</td><td>1.618633e-21</td><td>969949.7    </td></tr>\n",
       "\t<tr><td>354         </td><td>52.85537    </td><td>3.293880e-24</td><td>1.342626e-21</td><td>969949.7    </td></tr>\n",
       "\t<tr><td>355         </td><td>52.85537    </td><td>2.732200e-24</td><td>1.113684e-21</td><td>969949.7    </td></tr>\n",
       "\t<tr><td>356         </td><td>52.85537    </td><td>2.266298e-24</td><td>9.237800e-22</td><td>969949.7    </td></tr>\n",
       "\t<tr><td>357         </td><td>52.85537    </td><td>1.879844e-24</td><td>7.662585e-22</td><td>969949.7    </td></tr>\n",
       "\t<tr><td>358         </td><td>52.85537    </td><td>1.559289e-24</td><td>6.355973e-22</td><td>969949.7    </td></tr>\n",
       "\t<tr><td>359         </td><td>52.85537    </td><td>1.293396e-24</td><td>5.272163e-22</td><td>969949.7    </td></tr>\n",
       "\t<tr><td>360         </td><td>52.85537    </td><td>1.072844e-24</td><td>4.373162e-22</td><td>969949.7    </td></tr>\n",
       "\t<tr><td>361         </td><td>52.85537    </td><td>8.899006e-25</td><td>3.627458e-22</td><td>969949.7    </td></tr>\n",
       "\t<tr><td>362         </td><td>52.85537    </td><td>7.381533e-25</td><td>3.008909e-22</td><td>969949.7    </td></tr>\n",
       "\t<tr><td>363         </td><td>52.85537    </td><td>6.122823e-25</td><td>2.495835e-22</td><td>969949.7    </td></tr>\n",
       "\t<tr><td>364         </td><td>52.85537    </td><td>5.078751e-25</td><td>2.070249e-22</td><td>969949.7    </td></tr>\n",
       "\t<tr><td>365         </td><td>52.85537    </td><td>4.212716e-25</td><td>1.717233e-22</td><td>969949.7    </td></tr>\n",
       "</tbody>\n",
       "</table>\n"
      ],
      "text/latex": [
       "\\begin{tabular}{r|lllll}\n",
       " time & S & L & I & R\\\\\n",
       "\\hline\n",
       "\t  0           & 1000000.0    & 1.000000e+00 & 0.000000e+00 & 0.000000e+00\\\\\n",
       "\t  1           &  999999.8    & 9.847712e-01 & 2.160334e-01 & 2.238859e-02\\\\\n",
       "\t  2           &  999999.1    & 1.343138e+00 & 4.336658e-01 & 8.660935e-02\\\\\n",
       "\t  3           &  999998.0    & 2.072172e+00 & 7.336432e-01 & 2.013385e-01\\\\\n",
       "\t  4           &  999996.1    & 3.308540e+00 & 1.197905e+00 & 3.909498e-01\\\\\n",
       "\t  5           &  999993.0    & 5.328439e+00 & 1.939771e+00 & 6.988729e-01\\\\\n",
       "\t  6           &  999988.0    & 8.599684e+00 & 3.134788e+00 & 1.196841e+00\\\\\n",
       "\t  7           &  999980.0    & 1.388634e+01 & 5.063543e+00 & 2.001334e+00\\\\\n",
       "\t  8           &  999967.0    & 2.242569e+01 & 8.178025e+00 & 3.300708e+00\\\\\n",
       "\t  9           &  999946.0    & 3.621710e+01 & 1.320773e+01 & 5.399257e+00\\\\\n",
       "\t 10           &  999912.1    & 5.848972e+01 & 2.133053e+01 & 8.788444e+00\\\\\n",
       "\t 11           &  999857.4    & 9.445779e+01 & 3.444844e+01 & 1.426196e+01\\\\\n",
       "\t 12           &  999769.0    & 1.525396e+02 & 5.563257e+01 & 2.310150e+01\\\\\n",
       "\t 13           &  999626.3    & 2.463233e+02 & 8.984126e+01 & 3.737672e+01\\\\\n",
       "\t 14           &  999395.9    & 3.977340e+02 & 1.450780e+02 & 6.042928e+01\\\\\n",
       "\t 15           &  999023.9    & 6.421294e+02 & 2.342575e+02 & 9.765370e+01\\\\\n",
       "\t 16           &  998423.7    & 1.036477e+03 & 3.782081e+02 & 1.577562e+02\\\\\n",
       "\t 17           &  997455.4    & 1.672428e+03 & 6.104922e+02 & 2.547817e+02\\\\\n",
       "\t 18           &  995894.7    & 2.697079e+03 & 9.851161e+02 & 4.113718e+02\\\\\n",
       "\t 19           &  993382.1    & 4.345612e+03 & 1.588787e+03 & 6.639855e+02\\\\\n",
       "\t 20           &  989344.8    & 6.991685e+03 & 2.560206e+03 & 1.071226e+03\\\\\n",
       "\t 21           &  982877.7    & 1.122292e+04 & 4.119942e+03 & 1.727013e+03\\\\\n",
       "\t 22           &  972570.4    & 1.794802e+04 & 6.615396e+03 & 2.781166e+03\\\\\n",
       "\t 23           &  956273.2    & 2.853337e+04 & 1.058526e+04 & 4.470858e+03\\\\\n",
       "\t 24           &  930830.6    & 4.493806e+04 & 1.684368e+04 & 7.167021e+03\\\\\n",
       "\t 25           &  891896.0    & 6.974268e+04 & 2.656997e+04 & 1.143857e+04\\\\\n",
       "\t 26           &  834131.3    & 1.058244e+05 & 4.135310e+04 & 1.813139e+04\\\\\n",
       "\t 27           &  752352.8    & 1.552532e+05 & 6.307276e+04 & 2.844250e+04\\\\\n",
       "\t 28           &  644241.8    & 2.170405e+05 & 9.342151e+04 & 4.393826e+04\\\\\n",
       "\t 29           &  514302.1    & 2.843065e+05 & 1.329118e+05 & 6.642615e+04\\\\\n",
       "\t ⋮ & ⋮ & ⋮ & ⋮ & ⋮\\\\\n",
       "\t 336          & 52.85537     & 9.533276e-23 & 3.885377e-20 & 969949.7    \\\\\n",
       "\t 337          & 52.85537     & 7.907601e-23 & 3.222849e-20 & 969949.7    \\\\\n",
       "\t 338          & 52.85537     & 6.559149e-23 & 2.673294e-20 & 969949.7    \\\\\n",
       "\t 339          & 52.85537     & 5.440645e-23 & 2.217448e-20 & 969949.7    \\\\\n",
       "\t 340          & 52.85537     & 4.512876e-23 & 1.839333e-20 & 969949.7    \\\\\n",
       "\t 341          & 52.85537     & 3.743317e-23 & 1.525693e-20 & 969949.7    \\\\\n",
       "\t 342          & 52.85537     & 3.104988e-23 & 1.265534e-20 & 969949.7    \\\\\n",
       "\t 343          & 52.85537     & 2.575510e-23 & 1.049737e-20 & 969949.7    \\\\\n",
       "\t 344          & 52.85537     & 2.136322e-23 & 8.707377e-21 & 969949.7    \\\\\n",
       "\t 345          & 52.85537     & 1.772027e-23 & 7.222610e-21 & 969949.7    \\\\\n",
       "\t 346          & 52.85537     & 1.469854e-23 & 5.991022e-21 & 969949.7    \\\\\n",
       "\t 347          & 52.85537     & 1.219209e-23 & 4.969443e-21 & 969949.7    \\\\\n",
       "\t 348          & 52.85537     & 1.011305e-23 & 4.122061e-21 & 969949.7    \\\\\n",
       "\t 349          & 52.85537     & 8.388535e-24 & 3.419174e-21 & 969949.7    \\\\\n",
       "\t 350          & 52.85537     & 6.958094e-24 & 2.836142e-21 & 969949.7    \\\\\n",
       "\t 351          & 52.85537     & 5.771577e-24 & 2.352528e-21 & 969949.7    \\\\\n",
       "\t 352          & 52.85537     & 4.787391e-24 & 1.951378e-21 & 969949.7    \\\\\n",
       "\t 353          & 52.85537     & 3.971031e-24 & 1.618633e-21 & 969949.7    \\\\\n",
       "\t 354          & 52.85537     & 3.293880e-24 & 1.342626e-21 & 969949.7    \\\\\n",
       "\t 355          & 52.85537     & 2.732200e-24 & 1.113684e-21 & 969949.7    \\\\\n",
       "\t 356          & 52.85537     & 2.266298e-24 & 9.237800e-22 & 969949.7    \\\\\n",
       "\t 357          & 52.85537     & 1.879844e-24 & 7.662585e-22 & 969949.7    \\\\\n",
       "\t 358          & 52.85537     & 1.559289e-24 & 6.355973e-22 & 969949.7    \\\\\n",
       "\t 359          & 52.85537     & 1.293396e-24 & 5.272163e-22 & 969949.7    \\\\\n",
       "\t 360          & 52.85537     & 1.072844e-24 & 4.373162e-22 & 969949.7    \\\\\n",
       "\t 361          & 52.85537     & 8.899006e-25 & 3.627458e-22 & 969949.7    \\\\\n",
       "\t 362          & 52.85537     & 7.381533e-25 & 3.008909e-22 & 969949.7    \\\\\n",
       "\t 363          & 52.85537     & 6.122823e-25 & 2.495835e-22 & 969949.7    \\\\\n",
       "\t 364          & 52.85537     & 5.078751e-25 & 2.070249e-22 & 969949.7    \\\\\n",
       "\t 365          & 52.85537     & 4.212716e-25 & 1.717233e-22 & 969949.7    \\\\\n",
       "\\end{tabular}\n"
      ],
      "text/markdown": [
       "\n",
       "| time | S | L | I | R |\n",
       "|---|---|---|---|---|\n",
       "|  0           | 1000000.0    | 1.000000e+00 | 0.000000e+00 | 0.000000e+00 |\n",
       "|  1           |  999999.8    | 9.847712e-01 | 2.160334e-01 | 2.238859e-02 |\n",
       "|  2           |  999999.1    | 1.343138e+00 | 4.336658e-01 | 8.660935e-02 |\n",
       "|  3           |  999998.0    | 2.072172e+00 | 7.336432e-01 | 2.013385e-01 |\n",
       "|  4           |  999996.1    | 3.308540e+00 | 1.197905e+00 | 3.909498e-01 |\n",
       "|  5           |  999993.0    | 5.328439e+00 | 1.939771e+00 | 6.988729e-01 |\n",
       "|  6           |  999988.0    | 8.599684e+00 | 3.134788e+00 | 1.196841e+00 |\n",
       "|  7           |  999980.0    | 1.388634e+01 | 5.063543e+00 | 2.001334e+00 |\n",
       "|  8           |  999967.0    | 2.242569e+01 | 8.178025e+00 | 3.300708e+00 |\n",
       "|  9           |  999946.0    | 3.621710e+01 | 1.320773e+01 | 5.399257e+00 |\n",
       "| 10           |  999912.1    | 5.848972e+01 | 2.133053e+01 | 8.788444e+00 |\n",
       "| 11           |  999857.4    | 9.445779e+01 | 3.444844e+01 | 1.426196e+01 |\n",
       "| 12           |  999769.0    | 1.525396e+02 | 5.563257e+01 | 2.310150e+01 |\n",
       "| 13           |  999626.3    | 2.463233e+02 | 8.984126e+01 | 3.737672e+01 |\n",
       "| 14           |  999395.9    | 3.977340e+02 | 1.450780e+02 | 6.042928e+01 |\n",
       "| 15           |  999023.9    | 6.421294e+02 | 2.342575e+02 | 9.765370e+01 |\n",
       "| 16           |  998423.7    | 1.036477e+03 | 3.782081e+02 | 1.577562e+02 |\n",
       "| 17           |  997455.4    | 1.672428e+03 | 6.104922e+02 | 2.547817e+02 |\n",
       "| 18           |  995894.7    | 2.697079e+03 | 9.851161e+02 | 4.113718e+02 |\n",
       "| 19           |  993382.1    | 4.345612e+03 | 1.588787e+03 | 6.639855e+02 |\n",
       "| 20           |  989344.8    | 6.991685e+03 | 2.560206e+03 | 1.071226e+03 |\n",
       "| 21           |  982877.7    | 1.122292e+04 | 4.119942e+03 | 1.727013e+03 |\n",
       "| 22           |  972570.4    | 1.794802e+04 | 6.615396e+03 | 2.781166e+03 |\n",
       "| 23           |  956273.2    | 2.853337e+04 | 1.058526e+04 | 4.470858e+03 |\n",
       "| 24           |  930830.6    | 4.493806e+04 | 1.684368e+04 | 7.167021e+03 |\n",
       "| 25           |  891896.0    | 6.974268e+04 | 2.656997e+04 | 1.143857e+04 |\n",
       "| 26           |  834131.3    | 1.058244e+05 | 4.135310e+04 | 1.813139e+04 |\n",
       "| 27           |  752352.8    | 1.552532e+05 | 6.307276e+04 | 2.844250e+04 |\n",
       "| 28           |  644241.8    | 2.170405e+05 | 9.342151e+04 | 4.393826e+04 |\n",
       "| 29           |  514302.1    | 2.843065e+05 | 1.329118e+05 | 6.642615e+04 |\n",
       "| ⋮ | ⋮ | ⋮ | ⋮ | ⋮ |\n",
       "| 336          | 52.85537     | 9.533276e-23 | 3.885377e-20 | 969949.7     |\n",
       "| 337          | 52.85537     | 7.907601e-23 | 3.222849e-20 | 969949.7     |\n",
       "| 338          | 52.85537     | 6.559149e-23 | 2.673294e-20 | 969949.7     |\n",
       "| 339          | 52.85537     | 5.440645e-23 | 2.217448e-20 | 969949.7     |\n",
       "| 340          | 52.85537     | 4.512876e-23 | 1.839333e-20 | 969949.7     |\n",
       "| 341          | 52.85537     | 3.743317e-23 | 1.525693e-20 | 969949.7     |\n",
       "| 342          | 52.85537     | 3.104988e-23 | 1.265534e-20 | 969949.7     |\n",
       "| 343          | 52.85537     | 2.575510e-23 | 1.049737e-20 | 969949.7     |\n",
       "| 344          | 52.85537     | 2.136322e-23 | 8.707377e-21 | 969949.7     |\n",
       "| 345          | 52.85537     | 1.772027e-23 | 7.222610e-21 | 969949.7     |\n",
       "| 346          | 52.85537     | 1.469854e-23 | 5.991022e-21 | 969949.7     |\n",
       "| 347          | 52.85537     | 1.219209e-23 | 4.969443e-21 | 969949.7     |\n",
       "| 348          | 52.85537     | 1.011305e-23 | 4.122061e-21 | 969949.7     |\n",
       "| 349          | 52.85537     | 8.388535e-24 | 3.419174e-21 | 969949.7     |\n",
       "| 350          | 52.85537     | 6.958094e-24 | 2.836142e-21 | 969949.7     |\n",
       "| 351          | 52.85537     | 5.771577e-24 | 2.352528e-21 | 969949.7     |\n",
       "| 352          | 52.85537     | 4.787391e-24 | 1.951378e-21 | 969949.7     |\n",
       "| 353          | 52.85537     | 3.971031e-24 | 1.618633e-21 | 969949.7     |\n",
       "| 354          | 52.85537     | 3.293880e-24 | 1.342626e-21 | 969949.7     |\n",
       "| 355          | 52.85537     | 2.732200e-24 | 1.113684e-21 | 969949.7     |\n",
       "| 356          | 52.85537     | 2.266298e-24 | 9.237800e-22 | 969949.7     |\n",
       "| 357          | 52.85537     | 1.879844e-24 | 7.662585e-22 | 969949.7     |\n",
       "| 358          | 52.85537     | 1.559289e-24 | 6.355973e-22 | 969949.7     |\n",
       "| 359          | 52.85537     | 1.293396e-24 | 5.272163e-22 | 969949.7     |\n",
       "| 360          | 52.85537     | 1.072844e-24 | 4.373162e-22 | 969949.7     |\n",
       "| 361          | 52.85537     | 8.899006e-25 | 3.627458e-22 | 969949.7     |\n",
       "| 362          | 52.85537     | 7.381533e-25 | 3.008909e-22 | 969949.7     |\n",
       "| 363          | 52.85537     | 6.122823e-25 | 2.495835e-22 | 969949.7     |\n",
       "| 364          | 52.85537     | 5.078751e-25 | 2.070249e-22 | 969949.7     |\n",
       "| 365          | 52.85537     | 4.212716e-25 | 1.717233e-22 | 969949.7     |\n",
       "\n"
      ],
      "text/plain": [
       "    time S         L            I            R           \n",
       "1    0   1000000.0 1.000000e+00 0.000000e+00 0.000000e+00\n",
       "2    1    999999.8 9.847712e-01 2.160334e-01 2.238859e-02\n",
       "3    2    999999.1 1.343138e+00 4.336658e-01 8.660935e-02\n",
       "4    3    999998.0 2.072172e+00 7.336432e-01 2.013385e-01\n",
       "5    4    999996.1 3.308540e+00 1.197905e+00 3.909498e-01\n",
       "6    5    999993.0 5.328439e+00 1.939771e+00 6.988729e-01\n",
       "7    6    999988.0 8.599684e+00 3.134788e+00 1.196841e+00\n",
       "8    7    999980.0 1.388634e+01 5.063543e+00 2.001334e+00\n",
       "9    8    999967.0 2.242569e+01 8.178025e+00 3.300708e+00\n",
       "10   9    999946.0 3.621710e+01 1.320773e+01 5.399257e+00\n",
       "11  10    999912.1 5.848972e+01 2.133053e+01 8.788444e+00\n",
       "12  11    999857.4 9.445779e+01 3.444844e+01 1.426196e+01\n",
       "13  12    999769.0 1.525396e+02 5.563257e+01 2.310150e+01\n",
       "14  13    999626.3 2.463233e+02 8.984126e+01 3.737672e+01\n",
       "15  14    999395.9 3.977340e+02 1.450780e+02 6.042928e+01\n",
       "16  15    999023.9 6.421294e+02 2.342575e+02 9.765370e+01\n",
       "17  16    998423.7 1.036477e+03 3.782081e+02 1.577562e+02\n",
       "18  17    997455.4 1.672428e+03 6.104922e+02 2.547817e+02\n",
       "19  18    995894.7 2.697079e+03 9.851161e+02 4.113718e+02\n",
       "20  19    993382.1 4.345612e+03 1.588787e+03 6.639855e+02\n",
       "21  20    989344.8 6.991685e+03 2.560206e+03 1.071226e+03\n",
       "22  21    982877.7 1.122292e+04 4.119942e+03 1.727013e+03\n",
       "23  22    972570.4 1.794802e+04 6.615396e+03 2.781166e+03\n",
       "24  23    956273.2 2.853337e+04 1.058526e+04 4.470858e+03\n",
       "25  24    930830.6 4.493806e+04 1.684368e+04 7.167021e+03\n",
       "26  25    891896.0 6.974268e+04 2.656997e+04 1.143857e+04\n",
       "27  26    834131.3 1.058244e+05 4.135310e+04 1.813139e+04\n",
       "28  27    752352.8 1.552532e+05 6.307276e+04 2.844250e+04\n",
       "29  28    644241.8 2.170405e+05 9.342151e+04 4.393826e+04\n",
       "30  29    514302.1 2.843065e+05 1.329118e+05 6.642615e+04\n",
       "⋮   ⋮    ⋮         ⋮            ⋮            ⋮           \n",
       "337 336  52.85537  9.533276e-23 3.885377e-20 969949.7    \n",
       "338 337  52.85537  7.907601e-23 3.222849e-20 969949.7    \n",
       "339 338  52.85537  6.559149e-23 2.673294e-20 969949.7    \n",
       "340 339  52.85537  5.440645e-23 2.217448e-20 969949.7    \n",
       "341 340  52.85537  4.512876e-23 1.839333e-20 969949.7    \n",
       "342 341  52.85537  3.743317e-23 1.525693e-20 969949.7    \n",
       "343 342  52.85537  3.104988e-23 1.265534e-20 969949.7    \n",
       "344 343  52.85537  2.575510e-23 1.049737e-20 969949.7    \n",
       "345 344  52.85537  2.136322e-23 8.707377e-21 969949.7    \n",
       "346 345  52.85537  1.772027e-23 7.222610e-21 969949.7    \n",
       "347 346  52.85537  1.469854e-23 5.991022e-21 969949.7    \n",
       "348 347  52.85537  1.219209e-23 4.969443e-21 969949.7    \n",
       "349 348  52.85537  1.011305e-23 4.122061e-21 969949.7    \n",
       "350 349  52.85537  8.388535e-24 3.419174e-21 969949.7    \n",
       "351 350  52.85537  6.958094e-24 2.836142e-21 969949.7    \n",
       "352 351  52.85537  5.771577e-24 2.352528e-21 969949.7    \n",
       "353 352  52.85537  4.787391e-24 1.951378e-21 969949.7    \n",
       "354 353  52.85537  3.971031e-24 1.618633e-21 969949.7    \n",
       "355 354  52.85537  3.293880e-24 1.342626e-21 969949.7    \n",
       "356 355  52.85537  2.732200e-24 1.113684e-21 969949.7    \n",
       "357 356  52.85537  2.266298e-24 9.237800e-22 969949.7    \n",
       "358 357  52.85537  1.879844e-24 7.662585e-22 969949.7    \n",
       "359 358  52.85537  1.559289e-24 6.355973e-22 969949.7    \n",
       "360 359  52.85537  1.293396e-24 5.272163e-22 969949.7    \n",
       "361 360  52.85537  1.072844e-24 4.373162e-22 969949.7    \n",
       "362 361  52.85537  8.899006e-25 3.627458e-22 969949.7    \n",
       "363 362  52.85537  7.381533e-25 3.008909e-22 969949.7    \n",
       "364 363  52.85537  6.122823e-25 2.495835e-22 969949.7    \n",
       "365 364  52.85537  5.078751e-25 2.070249e-22 969949.7    \n",
       "366 365  52.85537  4.212716e-25 1.717233e-22 969949.7    "
      ]
     },
     "metadata": {},
     "output_type": "display_data"
    }
   ],
   "source": [
    "output"
   ]
  },
  {
   "cell_type": "code",
   "execution_count": 31,
   "metadata": {
    "scrolled": false
   },
   "outputs": [
    {
     "data": {
      "image/png": "[encoded data removed]",
      "text/plain": [
       "plot without title"
      ]
     },
     "metadata": {},
     "output_type": "display_data"
    }
   ],
   "source": [
    "## and plot\n",
    "\n",
    "require(reshape2)\n",
    "require(ggplot2)\n",
    "\n",
    "[SF # reshape our data for ggplot]\n",
    "output_long <- melt(as.data.frame(output), id = \"time\")\n",
    "# create a \"proportion of population\" variable\n",
    "output_long$prop <- output_long$value / sum(initial_state_values)\n",
    "\n",
    " [SF why mod_plot? could maybe be a clearer variable name]\n",
    " [SF # pass our data to ggplot and configure display]\n",
    "mod_plot <- ggplot(data = output_long)\n",
    "mod_plot <- mod_plot +                                       \n",
    "    aes(x = time, y = prop, colour = variable, group = variable) +  \n",
    "    geom_line() +                                                          \n",
    "    xlab(\"Time (days)\")+                                                   \n",
    "    ylab(\"Proportion of the population\") +\n",
    "    scale_colour_brewer(palette = \"Set2\")    # This colour palette is supposed to be \n",
    "                                             # colour-blind friendly. \n",
    "                                             # You can also try Set1, Set3\n",
    "                                             # or you can set colours manually\n",
    "\n",
    "# and add a horizontal line to indicate 8% prevalence\n",
    "mod_plot <- mod_plot + geom_line(y = 0.08\n",
    "                                 , linetype = \"dotted\"\n",
    "                                 , colour = \"black\")\n",
    "\n",
    "mod_plot"
   ]
  },
  {
   "cell_type": "markdown",
   "metadata": {},
   "source": [
    "### 4.2 Manually calibrate to estimate $\\beta$<a name='manual'></a> ([return to top](#top))\n",
    "\n",
    "You can see that you don't need to plot all the compartments for this. You only need to see the prevalence of infected, **symptomatic** individuals - just the I compartment. So change the plot, and start changing beta.\n",
    "\n",
    "[SF We don't need to plot all the compartments in order to calibrate $\\beta$. We only need the prevalence of infected, **symptomatic** individuals - so just the **I** compartment. We can then adjust $\\beta$ across a range of values.]"
   ]
  },
  {
   "cell_type": "code",
   "execution_count": 9,
   "metadata": {},
   "outputs": [
    {
     "data": {
      "text/html": [
       "<span style=white-space:pre-wrap>'max. prev =  0.100856309287368'</span>"
      ],
      "text/latex": [
       "'max. prev =  0.100856309287368'"
      ],
      "text/markdown": [
       "<span style=white-space:pre-wrap>'max. prev =  0.100856309287368'</span>"
      ],
      "text/plain": [
       "[1] \"max. prev =  0.100856309287368\""
      ]
     },
     "metadata": {},
     "output_type": "display_data"
    },
    {
     "data": {
      "image/png": "[encoded data removed]",
      "text/plain": [
       "plot without title"
      ]
     },
     "metadata": {},
     "output_type": "display_data"
    }
   ],
   "source": [
    "[SF move the respective comments to above the parameters and times definitions]\n",
    "\n",
    "[SF # Manually adjust beta in steps from 0.21 to 0.45.\n",
    " # Observe that at beta=0.45, max prevalence rises above 0.08]\n",
    "parameters <- c(mu = mu, r = r, gamma = gamma, beta = 0.45) \n",
    "# start beta from 0.21 and increase\n",
    "# you can see if you try beta = 0.45, \n",
    "# you have max prevalence higher than 0.08 [ SF delete these three lines]\n",
    "\n",
    " [SF # You might notice from the model output above that you don't need to display the whole year.\n",
    " # Here we're plotting up to 200 days, with a 0.5 day timestep.]\n",
    "times <- seq(from = 0, to = 200, by = 0.5) \n",
    "# you can see from the model output plot, \n",
    "# you might not need the whole year, \n",
    "# so change the \"to\" value if you like.\n",
    "# Here we have used 200 days, with 0.5 day timestep. [SF delete these three lines]\n",
    "\n",
    "[SF its good practice to put library definitions at the top]\n",
    "require(deSolve) # just in case you skipped the first cell!\n",
    "require(ggplot2)\n",
    "\n",
    "[SF # Run our model with the current parameters]\n",
    "output <- as.data.frame(ode(y = initial_state_values, \n",
    "                            times = times, \n",
    "                            func = SLIR_fn,\n",
    "                            parms = parameters))\n",
    "\n",
    " [SF # create the prevalence variable, ie. proportion of Infected, and save in the output dataframe]\n",
    "# create the prevalence, ie. proportion of Infected, variable \n",
    "# just in the output dataframe this time:\n",
    "output$prev <- output$I / sum(initial_state_values)\n",
    "\n",
    "  [SF # Get the maximum prevalence in this model run. This is all we really need...]\n",
    "paste(\"max. prev = \", max(output$prev))\n",
    "# this will show you the maximum prevalence\n",
    "# you don't need to do the plot, you could just \n",
    "# have a look at the value - there's not a set of points \n",
    "# to fit to unlike previous examples. [SF delete these 4 lines]\n",
    "\n",
    "   [SF # ... but if you do want to plot:]\n",
    "# but if you do want to plot:\n",
    "prev_plot <- ggplot(data = output)\n",
    "prev_plot <- prev_plot +                                       \n",
    "    aes(x = time, y = prev) +  \n",
    "    geom_line() +                                                          \n",
    "    xlab(\"Time (days)\")+                                                   \n",
    "    ylab(\"Prevalence in population\") +\n",
    "    scale_colour_brewer(palette = \"Set2\")\n",
    "\n",
    "# you can add a horizontal line to indicate 8% prevalence\n",
    "prev_plot <- prev_plot + geom_line(y = 0.08, linetype = \"dashed\")\n",
    "\n",
    "# and/or you can add a label showing what the max prevalence is\n",
    "prev_plot <- prev_plot + \n",
    "             geom_text(x=50, y=0.07, \n",
    "                       label=paste(\"max prev =\\n\", \n",
    "                                   signif(max(output$prev), 5)))\n",
    "                                   # signif() rounds number to \n",
    "                                   # given number of sig. fig\n",
    "\n",
    "prev_plot"
   ]
  },
  {
   "cell_type": "markdown",
   "metadata": {},
   "source": [
    "So you could do this manually to find the estimate of beta, especially as it's only one parameter to change. See what value you get to get the maximum prevalence close to 0.08 (or visually, match the peak of the curve with the 0.08 prevalence line as closely as you can)."
   ]
  },
  {
   "cell_type": "markdown",
   "metadata": {},
   "source": [
    "The estimate for beta we will use in the next section is 0.403."
   ]
  },
  {
   "cell_type": "markdown",
   "metadata": {},
   "source": [
    "## 5. Vaccine coverage<a name = 'coverage'></a> ([return to top](#top))\n",
    "\n",
    "\n",
    "Now you have an estimate for beta, can you calculate an estimate for the vaccine coverage?\n",
    "\n",
    "$$R_{eff} = (1-p) \\times R_0 + p c_S \\times R_0$$\n",
    "\n",
    "$R_{eff}$ of course needs to be 1 or less, so to work out the critical vaccination coverage $p$:\n",
    "\n",
    "$R_0 = \\beta / (\\gamma + \\mu) $"
   ]
  },
  {
   "cell_type": "code",
   "execution_count": 10,
   "metadata": {},
   "outputs": [
    {
     "data": {
      "text/html": [
       "'R0 = 1.95455'"
      ],
      "text/latex": [
       "'R0 = 1.95455'"
      ],
      "text/markdown": [
       "'R0 = 1.95455'"
      ],
      "text/plain": [
       "[1] \"R0 = 1.95455\""
      ]
     },
     "metadata": {},
     "output_type": "display_data"
    }
   ],
   "source": [
    "R0 <- 0.403/(gamma+mu)\n",
    "paste(\"R0 =\", R0)"
   ]
  },
  {
   "cell_type": "markdown",
   "metadata": {},
   "source": [
    "Rearrange the equation for $R_{eff}$, substituting $R_{eff} = 1$ and $p = p_c$ to give:\n",
    "\n",
    "\\begin{align}\n",
    "p_c & = \\frac{1-\\frac{1}{R_0}}{1-c_s} \\\\\n",
    "\\end{align}\n",
    "\n",
    "$c_s$ is 1-0.8 = 0.2"
   ]
  },
  {
   "cell_type": "code",
   "execution_count": 11,
   "metadata": {},
   "outputs": [
    {
     "data": {
      "text/html": [
       "0.610466603566038"
      ],
      "text/latex": [
       "0.610466603566038"
      ],
      "text/markdown": [
       "0.610466603566038"
      ],
      "text/plain": [
       "[1] 0.6104666"
      ]
     },
     "metadata": {},
     "output_type": "display_data"
    }
   ],
   "source": [
    "c_s <- 0.2\n",
    "\n",
    "p_c <- (1-(1/R0))/(1-c_s)\n",
    "\n",
    "p_c"
   ]
  },
  {
   "cell_type": "markdown",
   "metadata": {},
   "source": [
    "## 6. Extra: Towards automated calibration<a name = \"auto\"></a>\n",
    "\n",
    "### 6.1 Distance measure function<a name = 'distfn'></a> ([return to top](#top))\n",
    "\n",
    "Hopefully you could estimate beta manually. You might not need to automate the optimisation. But let's take the opportunity to write your own function to calculate a distance measurement. This is a simple, one-dimensional example, that you can easily generalise to two or more parameters.\n",
    "\n",
    "What is the function to be minimised this time? \n",
    "\n",
    "You don't have timepoints and corresponding data, you just have one piece of information which is that maximum prevalence of symptomatics was 8%.\n",
    "\n",
    "Here, we've written a function which calculates the squared distance between the peak of the curve and the maximum prevalence you choose."
   ]
  },
  {
   "cell_type": "code",
   "execution_count": 12,
   "metadata": {},
   "outputs": [],
   "source": [
    "[SF # Calculate the squared distance between maxprev and the maximum value of a provided function]\n",
    " [SF might want to rearrange the args to have maxprev last, since testparms and func are linked.\n",
    "     I would give testparms a more descriptive name (what are you 'testing'?). Or... tbh I'd probably just call it parms!\n",
    "     Then you're not changing variable names. cos it seems incongruous to have times=times and func=func but not parms=parms\n",
    "     as we checked the other day, if you don't pass enough arguments R should throw an error when ode() is missing an arg.\n",
    "     if you do that, you don't need the warning below]\n",
    "SQ_maxprev <- function(testparms, maxprev, func) {\n",
    "    # note the name of the argument in which you will give the parameters\n",
    "    #...this will be fed into the ode() call here:\n",
    "\n",
    "    result <- as.data.frame(ode(  y = initial_state_values  # named vector\n",
    "                            , times = times                 # vector of times\n",
    "                            ,  func = func                  # enter with arguments\n",
    "                            , parms = testparms)) # this is going to take in the\n",
    "                                                  # testparms arg from your \n",
    "                                                  # \"outer\" function. [SF not sure what's meant by outer function. probably can remove?]\n",
    "     \n",
    "    SQ <- ((max(result$I)/sum(initial_state_values)) - maxprev)^2\n",
    "    \n",
    "    return(SQ)\n",
    "}"
   ]
  },
  {
   "cell_type": "markdown",
   "metadata": {},
   "source": [
    "**Note:** it's really important to **check your argument names** here. You want the inner function - the `ode()` call which creates your model output - to take in the parameters which you give the outer function - your `SQ_maxprev()` function. So inside your `ode()` call it is important to state the parms argument as taking in the argument that you give the SQ_maxprev. This is why we've called this argument here testparms so it's easier to follow where each argument is going. \n",
    "\n",
    "Then when you finally run this new function (the cell below) you say that `testparms = parameters` as per the name of the vector you've assigned containing the parameters you are using for the model."
   ]
  },
  {
   "cell_type": "code",
   "execution_count": 13,
   "metadata": {},
   "outputs": [
    {
     "data": {
      "text/html": [
       "1.77499115226063e-06"
      ],
      "text/latex": [
       "1.77499115226063e-06"
      ],
      "text/markdown": [
       "1.77499115226063e-06"
      ],
      "text/plain": [
       "[1] 1.774991e-06"
      ]
     },
     "metadata": {},
     "output_type": "display_data"
    }
   ],
   "source": [
    "parameters <- c(mu = mu, r = r, gamma = gamma, beta = 0.4) \n",
    "                      \n",
    "SQ_maxprev(testparms = parameters, maxprev = 0.08, func = SLIR_fn)                            "
   ]
  },
  {
   "cell_type": "markdown",
   "metadata": {},
   "source": [
    "#### Visualising your distance measure against beta\n",
    "\n",
    "You might want to try plotting different values of beta against your distance measure.  \n",
    "If you've had a chance to investigate structures like loops, you might have constructed something like this:"
   ]
  },
  {
   "cell_type": "code",
   "execution_count": 18,
   "metadata": {},
   "outputs": [
    {
     "data": {
      "image/png": "[encoded data removed]",
      "text/plain": [
       "plot without title"
      ]
     },
     "metadata": {},
     "output_type": "display_data"
    }
   ],
   "source": [
    "# create a vector of betas to test\n",
    "betas <- seq(from = 0.38, to = 0.44, by = 0.005)\n",
    "\n",
    "# create an empty numeric vector,\n",
    "# same length as the betas vector\n",
    "SQ <- numeric(length(betas)) \n",
    "\n",
    "for (i in 1:length(betas)) { \n",
    "## this loop runs along each value of beta in your vector, betas, in turn\n",
    "    \n",
    "    # create the parameters vector with the value of beta corresponding\n",
    "    # to the current run of the loop\n",
    "    parameters <- c(mu = mu, r = r, gamma = gamma, beta = betas[i]) \n",
    "    \n",
    "    # then use your SQ_maxprev function and assign each output to the empty\n",
    "    # SQ vector you created, element by element according to each run of the loop\n",
    "    SQ[i]  <- SQ_maxprev(testparms = parameters, maxprev = 0.08, func = SLIR_fn)\n",
    "    \n",
    "} \n",
    "\n",
    "plot(betas, SQ)"
   ]
  },
  {
   "cell_type": "markdown",
   "metadata": {},
   "source": [
    "###  6.2 Using `optim()` for this case of optimisation<a name = 'optim'></a> ([return to top](#top))"
   ]
  },
  {
   "cell_type": "markdown",
   "metadata": {},
   "source": [
    "First, let's re-read the help file carefully. There is a potential problem!"
   ]
  },
  {
   "cell_type": "code",
   "execution_count": null,
   "metadata": {},
   "outputs": [],
   "source": [
    "?optim \n",
    "\n",
    "# Will your function SQ_maxprev work?"
   ]
  },
  {
   "cell_type": "markdown",
   "metadata": {},
   "source": [
    "Did you construct your `SQ_maxprev()` function the way it is done in this solutions file, or - did you think ahead and check how `optim()` needs the function constructed? Read the help file carefully.\n",
    "How does the optim function want your function to be constructed?\n",
    "\n",
    "If the function is not constructed in the way that `optim()` expects, you won't get the correct value for beta, which is supposed to correspond with the minimum distance from your max prevalence. The way we created the function above (in this solution file) will *not* work! There is a line in the help file which is relevant here: \"A function to be minimized (or maximised), with first argument the vector of parameters over which minimization is to take place.\"   \n",
    "\n",
    "The first argument tells `optim()` which parameters are to be changed. If your `SQ_maxprev()` function is structured the way it is in this solution so far, the first argument contains *all* the parameters, not just $\\beta$. This is not what we need.\n",
    "\n",
    "**If you don't create the function in the way `optim()` is expecting - you might not even get an error, because R will still run optim(), but you won't get the answer you are looking for!**\n",
    "\n",
    "So, your function needs to be structured as follows:"
   ]
  },
  {
   "cell_type": "code",
   "execution_count": 16,
   "metadata": {},
   "outputs": [],
   "source": [
    "[SF note if you make suggested changes to the function above, you'll want to do the same here.\n",
    "  Btw I do find it's clearer to put the comments above the function definition.\n",
    "  That said in some languages (Python) it's standard to put them below. So, dealer's choice.]\n",
    "[SF # Update our function to correctly place beta as the first argument,\n",
    "    # so that optim() recognises it as the parameter to change]\n",
    "SQ_maxprev_beta <- function(testbeta, testparms, maxprev, func) {\n",
    "# now, the first argument is beta. Then optim() will know that beta is the \n",
    "# parameter to change.\n",
    "    \n",
    "    testparms['beta'] <- testbeta # assign beta within the function\n",
    "    result <- as.data.frame(ode(  y = initial_state_values  # named vector of\n",
    "                            , times = times                 # vector of times\n",
    "                            ,  func = func                  # enter with arguments\n",
    "                            , parms = testparms))           # remember to use the correct\n",
    "                                                            # argument name here\n",
    "    \n",
    "    SQ <- ((max(result$I)/sum(initial_state_values)) - maxprev)^2\n",
    "    \n",
    "    return(SQ)\n",
    "}"
   ]
  },
  {
   "cell_type": "markdown",
   "metadata": {},
   "source": [
    "Another issue will become apparent if you try running the function as you did in Week 7.  One-dimensional optimisation is a special case and requires you to use a particular method, i.e. you have to assign the method argument this time. This also means that you have to give `optim()` a lower and an upper value to search between."
   ]
  },
  {
   "cell_type": "code",
   "execution_count": 21,
   "metadata": {},
   "outputs": [
    {
     "data": {
      "text/html": [
       "<dl>\n",
       "\t<dt>$par</dt>\n",
       "\t\t<dd>0.402882343753684</dd>\n",
       "\t<dt>$value</dt>\n",
       "\t\t<dd>5.60994854714491e-18</dd>\n",
       "\t<dt>$counts</dt>\n",
       "\t\t<dd><dl class=dl-horizontal>\n",
       "\t<dt>function</dt>\n",
       "\t\t<dd>&lt;NA&gt;</dd>\n",
       "\t<dt>gradient</dt>\n",
       "\t\t<dd>&lt;NA&gt;</dd>\n",
       "</dl>\n",
       "</dd>\n",
       "\t<dt>$convergence</dt>\n",
       "\t\t<dd>0</dd>\n",
       "\t<dt>$message</dt>\n",
       "\t\t<dd>NULL</dd>\n",
       "</dl>\n"
      ],
      "text/latex": [
       "\\begin{description}\n",
       "\\item[\\$par] 0.402882343753684\n",
       "\\item[\\$value] 5.60994854714491e-18\n",
       "\\item[\\$counts] \\begin{description*}\n",
       "\\item[function] <NA>\n",
       "\\item[gradient] <NA>\n",
       "\\end{description*}\n",
       "\n",
       "\\item[\\$convergence] 0\n",
       "\\item[\\$message] NULL\n",
       "\\end{description}\n"
      ],
      "text/markdown": [
       "$par\n",
       ":   0.402882343753684\n",
       "$value\n",
       ":   5.60994854714491e-18\n",
       "$counts\n",
       ":   function\n",
       ":   &lt;NA&gt;gradient\n",
       ":   &lt;NA&gt;\n",
       "\n",
       "\n",
       "$convergence\n",
       ":   0\n",
       "$message\n",
       ":   NULL\n",
       "\n",
       "\n"
      ],
      "text/plain": [
       "$par\n",
       "[1] 0.4028823\n",
       "\n",
       "$value\n",
       "[1] 5.609949e-18\n",
       "\n",
       "$counts\n",
       "function gradient \n",
       "      NA       NA \n",
       "\n",
       "$convergence\n",
       "[1] 0\n",
       "\n",
       "$message\n",
       "NULL\n"
      ]
     },
     "metadata": {},
     "output_type": "display_data"
    }
   ],
   "source": [
    "beta_start <- 0.5\n",
    "\n",
    "optim(par = c(beta = beta_start)\n",
    "      , lower = 0.21, upper = 0.8\n",
    "      , method = \"Brent\"\n",
    "      , fn = SQ_maxprev_beta        ## the function to minimise the value from \n",
    "      , testparms = parameters\n",
    "      , func = SLIR_fn         ## function to go into SQ_maxprev\n",
    "      , maxprev = 0.08)        ## another argument for SQ_maxprev\n"
   ]
  },
  {
   "cell_type": "code",
   "execution_count": null,
   "metadata": {},
   "outputs": [],
   "source": []
  }
 ],
 "metadata": {
  "kernelspec": {
   "display_name": "R",
   "language": "R",
   "name": "ir"
  },
  "language_info": {
   "codemirror_mode": "r",
   "file_extension": ".r",
   "mimetype": "text/x-r-source",
   "name": "R",
   "pygments_lexer": "r",
   "version": "3.5.1"
  }
 },
 "nbformat": 4,
 "nbformat_minor": 2
}

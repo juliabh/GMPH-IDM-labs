{
 "cells": [
  {
   "cell_type": "markdown",
   "metadata": {},
   "source": [
    "# Solution: Automated Least-Squares Calibration: Using ```optim()```, R's built-in optimisation function\n",
    "\n",
    "In this solution we'll combine the SSQ function from the previous exercise with ```optim()```, allowing us to automate parameter fitting.\n",
    "\n",
    "Contents:  \n",
    "[1. Load and check data](#data)  \n",
    "[2. Define model and SSQ functions](#model)  \n",
    "[3. Run ```optim()```](#optim)  \n"
   ]
  },
  {
   "cell_type": "markdown",
   "metadata": {},
   "source": [
    "## 1. Load and check data <a name=\"data\"></a>\n",
    "Let's bring in the observed epidemiological data we'll need."
   ]
  },
  {
   "cell_type": "code",
   "execution_count": 1,
   "metadata": {},
   "outputs": [
    {
     "data": {
      "text/html": [
       "<ol class=list-inline>\n",
       "\t<li>'time'</li>\n",
       "\t<li>'number_infected'</li>\n",
       "</ol>\n"
      ],
      "text/latex": [
       "\\begin{enumerate*}\n",
       "\\item 'time'\n",
       "\\item 'number\\_infected'\n",
       "\\end{enumerate*}\n"
      ],
      "text/markdown": [
       "1. 'time'\n",
       "2. 'number_infected'\n",
       "\n",
       "\n"
      ],
      "text/plain": [
       "[1] \"time\"            \"number_infected\""
      ]
     },
     "metadata": {},
     "output_type": "display_data"
    }
   ],
   "source": [
    "# Load observed data\n",
    "flu_data <- read.csv(\"../../IDM2/Graphics and Data/idm2_sir_data.csv\") # on Coursera only\n",
    "\n",
    "# Set up initial state for the model\n",
    "initial_state_values <- c(S = 762, I = 1, R = 0)\n",
    "\n",
    "# Our function requires data in a column named 'I'\n",
    "# Let's check whether it does by printing their names...\n",
    "colnames(flu_data)"
   ]
  },
  {
   "cell_type": "code",
   "execution_count": 2,
   "metadata": {},
   "outputs": [
    {
     "data": {
      "text/html": [
       "<ol class=list-inline>\n",
       "\t<li>'time'</li>\n",
       "\t<li>'I'</li>\n",
       "</ol>\n"
      ],
      "text/latex": [
       "\\begin{enumerate*}\n",
       "\\item 'time'\n",
       "\\item 'I'\n",
       "\\end{enumerate*}\n"
      ],
      "text/markdown": [
       "1. 'time'\n",
       "2. 'I'\n",
       "\n",
       "\n"
      ],
      "text/plain": [
       "[1] \"time\" \"I\"   "
      ]
     },
     "metadata": {},
     "output_type": "display_data"
    }
   ],
   "source": [
    "# There is no column I, so rename the relevant column\n",
    "colnames(flu_data)[2] <- \"I\"\n",
    "\n",
    "colnames(flu_data) # now shows the second column is named \"I\".\n"
   ]
  },
  {
   "cell_type": "markdown",
   "metadata": {},
   "source": [
    "## 2. Define model and SSQ functions <a name=\"model\"></a>\n",
    "Bring in the functions for the SIR model and SSQ functions we wrote previously."
   ]
  },
  {
   "cell_type": "code",
   "execution_count": 3,
   "metadata": {},
   "outputs": [
    {
     "name": "stderr",
     "output_type": "stream",
     "text": [
      "Loading required package: deSolve\n"
     ]
    }
   ],
   "source": [
    "# Load packages\n",
    "require(deSolve)\n",
    "\n",
    "# DEFINE FUNCTIONS\n",
    "\n",
    "# Define the Susceptible-Infected-Recovered model\n",
    "SIR_model <- function(time, state, parameters) {\n",
    "   \n",
    "    with(as.list(c(state, parameters)), {\n",
    "        N  <- S+I+R\n",
    "   \n",
    "        dS <- -beta*S*I/N\n",
    "        dI <- beta*S*I/N-gamma*I\n",
    "        dR <- gamma*I\n",
    "     \n",
    "        return(list(c(dS, dI, dR)))\n",
    "    \n",
    "    })\n",
    "    \n",
    "}\n",
    "\n",
    "\n",
    "# Define a function to calculate the sum of squared differences \n",
    "# between the SIR model output and observed epidemiological data.\n",
    "# Arguments:\n",
    "#    'parameters': must contain beta and gamma model parameters\n",
    "#    'reported_data': will be the data to compare with. Must contain a column named 'I'\n",
    "SIR_SSQ <- function(parameters, reported_data) {\n",
    "    \n",
    "    # Calculate model output using our SIR function and the provided parameters\n",
    "    result <- as.data.frame(ode(  y = initial_state_values  # named vector of initial state values\n",
    "                            , times = times                 # vector of times\n",
    "                            ,  func = SIR_model             # predefined SIR function\n",
    "                            , parms = parameters)           # the parameters argument\n",
    "    )\n",
    "\n",
    "    # Do some pre-processing of observed data:\n",
    "    # select only complete cases (i.e. rows with no missing data)\n",
    "    reported_data <- na.omit(reported_data)\n",
    "    \n",
    "    # Ensure we're working with equivalent time points by \n",
    "    # selecting elements where results$time is in reported_data$time\n",
    "    matched_results <- result$I[result$time %in% reported_data$time]\n",
    "    \n",
    "    # Calculate squared differences between model output and observed data\n",
    "    deltas2 <- (matched_results - reported_data$I)^2\n",
    "    \n",
    "    # Then calculate their sum\n",
    "    SSQ   <- sum(deltas2)\n",
    "    \n",
    "    return(SSQ)\n",
    "    \n",
    "}"
   ]
  },
  {
   "cell_type": "markdown",
   "metadata": {},
   "source": [
    "## Run ```optim()``` <a name=\"optim\"></a>\n",
    "Now set up and do the actual optimisation."
   ]
  },
  {
   "cell_type": "code",
   "execution_count": 4,
   "metadata": {
    "scrolled": true
   },
   "outputs": [
    {
     "data": {
      "text/html": [
       "<dl>\n",
       "\t<dt>$par</dt>\n",
       "\t\t<dd><dl class=dl-horizontal>\n",
       "\t<dt>beta</dt>\n",
       "\t\t<dd>1.66922801107776</dd>\n",
       "\t<dt>gamma</dt>\n",
       "\t\t<dd>0.443425405385096</dd>\n",
       "</dl>\n",
       "</dd>\n",
       "\t<dt>$value</dt>\n",
       "\t\t<dd>4121.94542201789</dd>\n",
       "\t<dt>$counts</dt>\n",
       "\t\t<dd><dl class=dl-horizontal>\n",
       "\t<dt>function</dt>\n",
       "\t\t<dd>67</dd>\n",
       "\t<dt>gradient</dt>\n",
       "\t\t<dd>&lt;NA&gt;</dd>\n",
       "</dl>\n",
       "</dd>\n",
       "\t<dt>$convergence</dt>\n",
       "\t\t<dd>0</dd>\n",
       "\t<dt>$message</dt>\n",
       "\t\t<dd>NULL</dd>\n",
       "</dl>\n"
      ],
      "text/latex": [
       "\\begin{description}\n",
       "\\item[\\$par] \\begin{description*}\n",
       "\\item[beta] 1.66922801107776\n",
       "\\item[gamma] 0.443425405385096\n",
       "\\end{description*}\n",
       "\n",
       "\\item[\\$value] 4121.94542201789\n",
       "\\item[\\$counts] \\begin{description*}\n",
       "\\item[function] 67\n",
       "\\item[gradient] <NA>\n",
       "\\end{description*}\n",
       "\n",
       "\\item[\\$convergence] 0\n",
       "\\item[\\$message] NULL\n",
       "\\end{description}\n"
      ],
      "text/markdown": [
       "$par\n",
       ":   beta\n",
       ":   1.66922801107776gamma\n",
       ":   0.443425405385096\n",
       "\n",
       "\n",
       "$value\n",
       ":   4121.94542201789\n",
       "$counts\n",
       ":   function\n",
       ":   67gradient\n",
       ":   &lt;NA&gt;\n",
       "\n",
       "\n",
       "$convergence\n",
       ":   0\n",
       "$message\n",
       ":   NULL\n",
       "\n",
       "\n"
      ],
      "text/plain": [
       "$par\n",
       "     beta     gamma \n",
       "1.6692280 0.4434254 \n",
       "\n",
       "$value\n",
       "[1] 4121.945\n",
       "\n",
       "$counts\n",
       "function gradient \n",
       "      67       NA \n",
       "\n",
       "$convergence\n",
       "[1] 0\n",
       "\n",
       "$message\n",
       "NULL\n"
      ]
     },
     "metadata": {},
     "output_type": "display_data"
    }
   ],
   "source": [
    "# Choose starting parameter values for optimisation\n",
    "beta_start  <- 1\n",
    "gamma_start <- 0.5\n",
    "\n",
    "# Make the timesteps small for more detailed output\n",
    "times <- seq(from = 0, to = 14, by = 0.1) \n",
    "\n",
    "# Finally, run the optimisation using our starting beta and gamma\n",
    "optimised <- optim(par = c(beta = beta_start\n",
    "                        , gamma = gamma_start)      # these are the starting beta and gamma that will be fed first\n",
    "                                                    # into SIR_SSQ\n",
    "                  , fn = SIR_SSQ\n",
    "                  , reported_data = flu_data  # in help files this argument comes under:\n",
    "                                   # \"... Further arguments to be passed to fn and gr\"\n",
    "      )\n",
    "\n",
    "# And take a look at the optim function's output\n",
    "optimised"
   ]
  },
  {
   "cell_type": "markdown",
   "metadata": {},
   "source": [
    "### Use parameters optimised by ```optim()``` in an SIR model\n",
    "\n",
    "Of the several elements in ```optim()```'s output, for this step we're most interested in ```$par```."
   ]
  },
  {
   "cell_type": "code",
   "execution_count": 5,
   "metadata": {},
   "outputs": [
    {
     "data": {
      "text/html": [
       "<dl class=dl-horizontal>\n",
       "\t<dt>beta</dt>\n",
       "\t\t<dd>1.66922801107776</dd>\n",
       "\t<dt>gamma</dt>\n",
       "\t\t<dd>0.443425405385096</dd>\n",
       "</dl>\n"
      ],
      "text/latex": [
       "\\begin{description*}\n",
       "\\item[beta] 1.66922801107776\n",
       "\\item[gamma] 0.443425405385096\n",
       "\\end{description*}\n"
      ],
      "text/markdown": [
       "beta\n",
       ":   1.66922801107776gamma\n",
       ":   0.443425405385096\n",
       "\n"
      ],
      "text/plain": [
       "     beta     gamma \n",
       "1.6692280 0.4434254 "
      ]
     },
     "metadata": {},
     "output_type": "display_data"
    }
   ],
   "source": [
    "optimised$par\n",
    "\n",
    "opt_mod <- as.data.frame(ode(     y = initial_state_values  # named vector of initial state values\n",
    "                            , times = times                 # vector of times\n",
    "                            ,  func = SIR_model                # your predefined SIR function\n",
    "                            , parms = optimised$par))\n"
   ]
  },
  {
   "cell_type": "markdown",
   "metadata": {},
   "source": [
    "### Plot model output and compare against the input data\n",
    "Now we'll plot the optimised model's output against the observed epidemic data."
   ]
  },
  {
   "cell_type": "code",
   "execution_count": 6,
   "metadata": {},
   "outputs": [
    {
     "name": "stderr",
     "output_type": "stream",
     "text": [
      "Loading required package: ggplot2\n"
     ]
    },
    {
     "data": {
      "image/png": "[encoded data removed]",
      "text/plain": [
       "plot without title"
      ]
     },
     "metadata": {},
     "output_type": "display_data"
    }
   ],
   "source": [
    "#Set up\n",
    "require(ggplot2)\n",
    "opt_plot <- ggplot()\n",
    "\n",
    "# Plot observed data\n",
    "opt_plot <- opt_plot + geom_point(aes(x = time, y = I)\n",
    "                                , colour = \"red\"\n",
    "                                , shape  = \"x\" \n",
    "                                , data = flu_data)\n",
    "# Add optimised model's output to our plot\n",
    "opt_plot <- opt_plot + geom_line(aes(x = time, y = I)\n",
    "                                 , colour = \"blue\"\n",
    "                                 , data   = opt_mod)\n",
    "opt_plot"
   ]
  },
  {
   "cell_type": "markdown",
   "metadata": {},
   "source": [
    "Note your model's output fits the observed data quite well, but not perfectly.\n",
    "\n",
    "In general, we will find that a model can rarely be made to fit given data perfectly, particularly where that data is noisy."
   ]
  }
 ],
 "metadata": {
  "kernelspec": {
   "display_name": "R",
   "language": "R",
   "name": "ir"
  },
  "language_info": {
   "codemirror_mode": "r",
   "file_extension": ".r",
   "mimetype": "text/x-r-source",
   "name": "R",
   "pygments_lexer": "r",
   "version": "3.5.1"
  }
 },
 "nbformat": 4,
 "nbformat_minor": 2
}

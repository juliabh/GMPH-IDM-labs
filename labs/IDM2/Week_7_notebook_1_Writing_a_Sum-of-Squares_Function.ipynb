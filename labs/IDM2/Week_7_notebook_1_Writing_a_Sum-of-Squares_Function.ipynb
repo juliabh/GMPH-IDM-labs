{
 "cells": [
  {
   "cell_type": "markdown",
   "metadata": {},
   "source": [
    "# Writing a sum-of-squares function in R, for SIR model fitting\n",
    "\n",
    "\n",
    "## Introduction\n",
    "\n",
    "When you are trying to fit a model to data, you use a *distance function* to assess, quantitatively how \"far\" the model is from the data. By calculating the output of this function for a range of parameter sets, you can find which of those parameter sets generates the model which is the closest fit to the data.\n",
    "\n",
    "You can calculate the value of the distance function by hand for each model you try - but because this means doing the same calculation repeatedly with different inputs, this is a good task for which using a function would be efficient.\n",
    "\n",
    "So here, you will create a function yourself, to  \n",
    "\n",
    "* calculate and return the *sum-of-squares* value (SSQ) for the fit of a simple SIR model, parameterised with given values of $\\beta$ and $\\gamma$, to any dataset.\n",
    "\n",
    "* use this function to find the sum-of-squares of models fit to a simple datset (the flu dataset you may have used in other etivities), with the following parameters:\n",
    "\n",
    "     * $\\beta$ = 1.15, $\\gamma$ = 0.02  \n",
    "     * $\\beta$ = 1.7, $\\gamma$ = 0.45 "
   ]
  },
  {
   "cell_type": "markdown",
   "metadata": {},
   "source": [
    "Put very simply, your function will have this structure:"
   ]
  },
  {
   "cell_type": "code",
   "execution_count": null,
   "metadata": {
    "attributes": {
     "": "",
     "classes": [],
     "id": ""
    }
   },
   "outputs": [],
   "source": [
    "SIR_SSQ <- function(arguments) { ### fill in your arguments\n",
    "    \n",
    "    # Calculate model output\n",
    "    ### YOUR CODE HERE ###\n",
    "    \n",
    "    # Calculate sum-of-squares (SSQ) of model fit\n",
    "    ### YOUR CODE HERE ###\n",
    "\n",
    "    return(SSQ)\n",
    "\n",
    "}"
   ]
  },
  {
   "cell_type": "markdown",
   "metadata": {},
   "source": [
    "Calculating the SSQ gives a quantitative measure of the distance from your model output to the data. \n",
    "\n",
    "Last week's etivities demonstrate manual calibration of a model, visually checking the model ouputs from a small number of parameter combinations. It would quickly become infeasible to test enough combinations of parameters in this way, to find the combination producing the best available model fit. So automating the process of simulating each model and calculating the SSQ, giving a quantitative distance measure instead of a visual check for each model, makes this more efficient. \n",
    "\n",
    "So in this etivity we will create a function which can:\n",
    "simulate the model for a given combination of parameters, compare the output to data and calculate the SSQ.\n",
    "\n",
    "Later in this course you will learn how to use optimisation functions to take this a step further and automatically find the combination of parameters giving the best fit, as defined by your chosen distance function. One of these functions, ```optim()```, is introduced in the etivity following this one in this module.  \n",
    "\n",
    "With this in mind, think about  \n",
    " * what else you will need to put within the body of the function, apart from the sum-of-squares calculation  \n",
    " * what inputs you will give the function and how to arrange them into arguments.\n",
    " \n",
    " \n",
    "*Tips:*  \n",
    "\n",
    "* *When using ```ode()```, you have an example of a function as an argument of another function.* \n",
    "*The function that you feed into ```ode()``` gets the values for its arguments from the ```ode()``` function.*\n",
    "\n",
    "* *Keep track of the names of your arguments, so you can see that they match with what the \"inner\" function is expecting.*\n",
    "\n",
    "* *To make your function applicable to any dataset and combination of parameters you choose, the function will need to read in the data as one of its arguments.*\n",
    "\n",
    "* *To calculate the SSQ, you will have to calculate the difference between model output and data, at only the timepoints for which data is available. How can you achieve this?*\n",
    "\n",
    "* *Write your function so that it has sensible variable names within, perhaps referring to particular columns in the data. Then when you use the function, make sure the data you are testing it on, has the expected column names!* \n",
    "\n",
    "(NB. Regarding the last hint... There is more than one way of writing a working, widely applicable function, but our solution is written this way, where you'll have to always check the names within the data and then rename as necessary. You could instead write your function so it takes in the correct column name as one of the arguments...)\n",
    "\n",
    "\n",
    "### Task:\n",
    "\n",
    "* **create a function which calculates and returns the *sum-of-squares* value (SSQ) for the fit of a simple SIR model, parameterised with given values of $\\beta$ and $\\gamma$, to any dataset.**\n",
    "\n",
    "* **use this function to find the sum-of-squares of models fit to a simple datset (the flu dataset you may have used in other etivities), with the following parameters:**\n",
    "\n",
    "     * $\\beta$ = 1.15, $\\gamma$ = 0.02  \n",
    "     * $\\beta$ = 1.7, $\\gamma$ = 0.45 "
   ]
  },
  {
   "cell_type": "code",
   "execution_count": 4,
   "metadata": {
    "attributes": {
     "": "",
     "classes": [],
     "id": ""
    }
   },
   "outputs": [],
   "source": [
    "SIR_SSQ <- function() { ### fill in your arguments\n",
    "    \n",
    "    # Calculate model output\n",
    "    ### YOUR CODE HERE ###\n",
    "    \n",
    "    # Calculate sum-of-squares (SSQ) of model fit\n",
    "    ### YOUR CODE HERE ###\n",
    "\n",
    "    return(SSQ)\n",
    "\n",
    "}\n",
    "\n",
    "## load data \n",
    "flu_data <- read.csv(\"Graphics and Data/idm2_sir_data.csv\")\n",
    "initial_state_values <- c(S = 762, I = 1, R = 0)\n",
    "\n",
    "## Check whether your loaded data, has the column names which your function is expecting.\n",
    "## replace column names if necessary\n",
    "### YOUR CODE HERE ### \n",
    "# (hint: search the internet for a function which will show you the column names of a data frame or matrix)\n",
    "\n",
    "## calculate the sum-of-squares for an SIR model fit to these data where:\n",
    "### beta = 1.15, gamma = 0.02  \n",
    "### beta = 1.7,  gamma = 0.45  \n"
   ]
  },
  {
   "cell_type": "markdown",
   "metadata": {},
   "source": [
    "### Further work:\n",
    "\n",
    "How would you modify your SSQ function, so it would take in any type of model equation into the ```ode()``` function?"
   ]
  }
 ],
 "metadata": {
  "kernelspec": {
   "display_name": "R",
   "language": "R",
   "name": "ir"
  },
  "language_info": {
   "codemirror_mode": "r",
   "file_extension": ".r",
   "mimetype": "text/x-r-source",
   "name": "R",
   "pygments_lexer": "r",
   "version": "3.5.1"
  }
 },
 "nbformat": 4,
 "nbformat_minor": 2
}

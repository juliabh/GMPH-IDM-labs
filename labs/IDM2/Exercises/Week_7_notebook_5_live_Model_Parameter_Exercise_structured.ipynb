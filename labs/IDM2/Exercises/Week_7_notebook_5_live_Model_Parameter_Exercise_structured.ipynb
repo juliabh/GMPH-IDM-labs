{
 "cells": [
  {
   "cell_type": "markdown",
   "metadata": {},
   "source": [
    "# Calibration: Different Data\n",
    "\n",
    "A new respiratory virus has begun circulating in another country. So far, epidemiological investigations have yielded the data below. If a vaccine becomes available before this virus begins sustained transmission in your own country, what is the minimum coverage of this vaccine? Assume that the source country and your own country are epidemiologically equivalent (i.e. that disease transmission follows the same parameters in both settings)."
   ]
  },
  {
   "cell_type": "markdown",
   "metadata": {},
   "source": [
    "* All infected individuals go through an incubation period, which lasts on average for 4 days. During this time, individuals are not infectious, nor do they have any excess mortality risk.  \n",
    "\n",
    "* All infected individuals eventually develop symptoms, and the mean duration of symptoms is 5 days.  \n",
    "\n",
    "* Symptomatic individuals are infectious, as well as having a 5% case fatality rate. Those who survive the infection are thought to have long-term immunity.  \n",
    "\n",
    "* In the source country, the peak prevalence (i.e. maximum number of symptomatic people during the epidemic) was 8% of the population."
   ]
  },
  {
   "cell_type": "code",
   "execution_count": 3,
   "metadata": {},
   "outputs": [],
   "source": [
    "library(deSolve)\n",
    "library(ggplot2)"
   ]
  },
  {
   "cell_type": "code",
   "execution_count": null,
   "metadata": {},
   "outputs": [],
   "source": [
    "### YOUR CODE HERE ###"
   ]
  },
  {
   "cell_type": "markdown",
   "metadata": {},
   "source": [
    "Hints / structure:\n",
    "\n",
    "* What do you know about the disease? Can you represent it in a model?\n",
    "* What do you need to find, and how will you work towards it?\n",
    "* How will you write code to do that?\n",
    "* Can you calibrate your model manually to find the value or values you need?\n",
    "\n",
    "* If you want to work towards calibrating automatically, first of all write the distance function.\n",
    "* If you then use optim(), will it work correctly with your function? What do you need to look out for?"
   ]
  }
 ],
 "metadata": {
  "kernelspec": {
   "display_name": "R",
   "language": "R",
   "name": "ir"
  },
  "language_info": {
   "codemirror_mode": "r",
   "file_extension": ".r",
   "mimetype": "text/x-r-source",
   "name": "R",
   "pygments_lexer": "r",
   "version": "3.5.1"
  }
 },
 "nbformat": 4,
 "nbformat_minor": 2
}

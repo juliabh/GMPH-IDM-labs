{
 "cells": [
  {
   "cell_type": "markdown",
   "metadata": {},
   "source": [
    "# Performing maximum likelihood estimation"
   ]
  },
  {
   "cell_type": "markdown",
   "metadata": {},
   "source": [
    "In the last multiple-choice question, you identified the correct code for calculating the Poisson log likelihood for a given parameter combination. In this etivity, your task is to use this code together with your calibration function from week 7 to fit the model to our flu outbreak data, by finding the parameter values $\\beta$ and $\\gamma$ that maximise the likelihood. In doing so, you will be calibrating the model using a likelihood approach.\n",
    "\n",
    "Copy-paste both of these into the cell below, and change the code to calculate the log-likelihood distance function instead of the sum-of-squares. The optimisation process is similar to last week, except that we need to **maximise** the likelihood. To do this, fill in the \"optim\" command provided below. "
   ]
  },
  {
   "cell_type": "code",
   "execution_count": 1,
   "metadata": {
    "scrolled": true
   },
   "outputs": [
    {
     "ename": "ERROR",
     "evalue": "Error in parse(text = x, srcfile = src): <text>:9:10: unexpected '='\n8: optim(par = #YOUR CODE#,\n9:       fn =\n            ^\n",
     "output_type": "error",
     "traceback": [
      "Error in parse(text = x, srcfile = src): <text>:9:10: unexpected '='\n8: optim(par = #YOUR CODE#,\n9:       fn =\n            ^\nTraceback:\n"
     ]
    }
   ],
   "source": [
    "# Load the flu dataset of reported cases\n",
    "reported_data <- read.csv(\"Graphics and Data/idm2_sir_reported_data.csv\")\n",
    "\n",
    "### YOUR CODE GOES HERE ###\n",
    "\n",
    "# OPTIMISATION:\n",
    "\n",
    "optim(par = #YOUR CODE#,\n",
    "      fn = #YOUR CODE#,\n",
    "      dat = #YOUR CODE#, the name of this variable should match the second argument in your function\n",
    "      control = list(fnscale=-1))  # tells optim() to look for the maximum number instead of the minimum (the default)"
   ]
  },
  {
   "cell_type": "markdown",
   "metadata": {},
   "source": [
    "Finally, since we have the full dataset of the number of infected people, confirm that these parameter values indeed produce a good visual fit to the real data by plotting the model simulation alongside the data, in the cell below."
   ]
  },
  {
   "cell_type": "code",
   "execution_count": null,
   "metadata": {},
   "outputs": [],
   "source": [
    "# Load the flu dataset of the total number infected\n",
    "full_data <- read.csv(\"Graphics and Data/idm2_sir_data.csv\")\n",
    "\n",
    "### YOUR CODE GOES HERE ###"
   ]
  }
 ],
 "metadata": {
  "kernelspec": {
   "display_name": "R",
   "language": "R",
   "name": "ir"
  },
  "language_info": {
   "codemirror_mode": "r",
   "file_extension": ".r",
   "mimetype": "text/x-r-source",
   "name": "R",
   "pygments_lexer": "r",
   "version": "3.5.1"
  }
 },
 "nbformat": 4,
 "nbformat_minor": 2
}

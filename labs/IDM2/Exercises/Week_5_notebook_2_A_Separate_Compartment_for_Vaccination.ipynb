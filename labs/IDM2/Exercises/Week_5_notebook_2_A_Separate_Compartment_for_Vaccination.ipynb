{
 "cells": [
  {
   "cell_type": "markdown",
   "metadata": {},
   "source": [
    "# A separate compartment for vaccination"
   ]
  },
  {
   "cell_type": "markdown",
   "metadata": {},
   "source": [
    "In this etivity, you will develop a simple model of vaccination that you can modify to explore different ways of modelling vaccine impact in the following etivities. Last week, we represented vaccination by chosing a certain proportion of population immunity, represented by the R compartment, at the beginning of the simulation. \n",
    "\n",
    "However, if we want to distinguish the effect of vaccination, or if we want to capture some important difference in vaccine-induced immunity compared to recovery-induced immunity, we can include a separate compartment V for vaccinated people in addition to the recovered compartment R. In this exercise we are still modelling vaccination coverage through the initial conditions, so no new parameters are added to the model, but the vaccination coverage *p* should be included in the initial state values. The proportion of the population that is effectively vaccinated does not change over the simulation.\n",
    "\n",
    "### Draw a diagram of the model structure on paper and write down the initial conditions for a scenario of a single infected person introduced into an unexposed population with pre-existing vaccination at coverage *p*.\n",
    "\n",
    "Reuse the code from your simple SIR model and add this new compartment in the cell below. Use model parameters so that R<sub>0</sub> > 1 and total population size assumptions of your choice to double-check that your code works, by plotting the proportion of the population in each compartment over time. First, think about what \"your code working\" actually means in this context - what would you **expect** to see in your output? If you are not sure, there is a hint at the bottom of the page."
   ]
  },
  {
   "cell_type": "code",
   "execution_count": null,
   "metadata": {},
   "outputs": [],
   "source": [
    "### YOUR CODE GOES HERE ###"
   ]
  },
  {
   "cell_type": "markdown",
   "metadata": {},
   "source": [
    "<br> \n",
    "<br>\n",
    "<br> \n",
    "<br> \n",
    "<br> \n",
    "<br> \n",
    "<br> \n",
    "<br> \n",
    "<br> \n",
    "<br> \n",
    "<br> \n",
    "<br> \n",
    "<br> \n",
    "<br> \n",
    "<br> \n",
    "<br> \n",
    "**Hint: How can you check if your code is working?**  \n",
    "In this case, there are three easy-to-check conditions that your output needs to fulfill. \n",
    "- with no or a low vaccination coverage, you should see an epidemic (given that R<sub>0</sub> > 1)\n",
    "- with a vaccination coverage > herd immunity threshold, you should see that no epidemic occurs\n",
    "- the proportion of the population in the vaccinated compartment V should stay the same over time"
   ]
  }
 ],
 "metadata": {
  "kernelspec": {
   "display_name": "R",
   "language": "R",
   "name": "ir"
  }
 },
 "nbformat": 4,
 "nbformat_minor": 2
}

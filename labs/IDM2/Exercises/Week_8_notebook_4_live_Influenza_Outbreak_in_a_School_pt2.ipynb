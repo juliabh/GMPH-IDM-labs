{
 "cells": [
  {
   "cell_type": "markdown",
   "metadata": {},
   "source": [
    "# Influenza outbreak in a school"
   ]
  },
  {
   "cell_type": "markdown",
   "metadata": {},
   "source": [
    "In this live session, you will be working as teams to extend the modelling study of a real flu outbreak in an elementary school from the previous etivity. Remember, you first calibrated your SIR model to data from the early stage of the flu outbreak to project how many flu cases would have occurred if no intervention had been introduced. You then compared this to the full dataset, which shows the effect of the school closure that was introduced in reality. Now, we want to further study the potential impact that other interventions could have had on this outbreak.\n",
    "\n",
    "Earlier in this course, you learned how to model the impact of different types of vaccines (all-or-nothing and leaky) as well as treatment for an infection. The cell below contains the code you developed in the previous etivity for the flu outbreak model. Within your team, build on this code to explore two different intervention scenarios - one using a vaccine, and one using treatment - to find out if they would have been more or less effective than the school closure, and which intervention would have been most effective at reducing the number of flu cases overall. \n",
    "\n",
    "Assume that the vaccine has an efficacy of 40%, but you are free to chose the coverage and mechanism of action of the vaccine. Further, assume that treatment immediately stops infectiousness, but can only be initiated from 3 days after the onset of symptoms onwards (i.e. the recovery rate due to treatment can at most be 1/3 per day).\n",
    "\n",
    "At the end of the session, we will compare the results with the whole class and discuss their implications."
   ]
  },
  {
   "cell_type": "code",
   "execution_count": null,
   "metadata": {},
   "outputs": [],
   "source": [
    "# Read in the dataset\n",
    "flu_data <- read.csv(\"../GraphicsAndData/w8_nb3_flu_data.csv\")\n",
    "\n",
    "# PACKAGES\n",
    "require(deSolve)\n",
    "require(reshape2)\n",
    "require(ggplot2)\n",
    "\n",
    "# INPUT\n",
    "initial_state_values <- c(S = 455,  # of the 456 students in the school, all but the one infected case are susceptible\n",
    "                          I = 1,    # the outbreak starts with one infected case\n",
    "                          R = 0)    # there is no previous immunity to the pandemic influenza strain in the population\n",
    "\n",
    "# Calibrated parameter values\n",
    "parameters <- c(beta = 0.77,\n",
    "                gamma = 0.58)\n",
    "\n",
    "# Simulate for 50 days\n",
    "times <- seq(from = 0, to = 50, by = 1)  \n",
    "\n",
    "# SIR MODEL FUNCTION\n",
    "sir_model <- function(time, state, parameters) {  \n",
    "  \n",
    "  with(as.list(c(state, parameters)), {\n",
    "    \n",
    "    N <- S+I+R\n",
    "    \n",
    "    lambda <- beta * I/N\n",
    "    \n",
    "    # The differential equations\n",
    "    dS <- -lambda * S               \n",
    "    dI <- lambda * S - gamma * I\n",
    "    dR <- gamma * I             \n",
    "    \n",
    "    # Output\n",
    "    return(list(c(dS, dI, dR))) \n",
    "  })\n",
    "}\n",
    "\n",
    "# Simulate the model\n",
    "output <- as.data.frame(ode(y = initial_state_values, \n",
    "                            times = times, \n",
    "                            func = sir_model,\n",
    "                            parms = parameters))"
   ]
  }
 ],
 "metadata": {
  "kernelspec": {
   "display_name": "R",
   "language": "R",
   "name": "ir"
  }
 },
 "nbformat": 4,
 "nbformat_minor": 2
}

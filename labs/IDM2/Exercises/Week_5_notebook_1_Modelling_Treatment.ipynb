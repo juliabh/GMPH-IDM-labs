{
 "cells": [
  {
   "cell_type": "markdown",
   "metadata": {},
   "source": [
    "# Modelling treatment"
   ]
  },
  {
   "cell_type": "markdown",
   "metadata": {},
   "source": [
    "In this etivity, the focus is on extending the simple SIR model to incorporate a treatment intervention and study its effect on the epidemiology of an immunising infection. \n",
    "\n",
    "Your task is to model a viral epidemic in a town of 300,000 people, which starts with the introduction of a single infected case in a fully susceptible population. From other, similar outbreaks elsewhere, public health authorities believe the infection rate is 0.6 days$^{-1}$ and that people stay infected for 5 days on average before recovering. Once recovered, people are immune to reinfection. \n",
    "\n",
    "Luckily, a treatment against the virus is available. Although it does not cure people immediately, it helps them to recover more quickly: on average, people recover after 1.25 days of treatment. Treatment has no effect on transmission of the virus, so treated people are just as infectious as untreated infected people. Imagine that people start taking the treatment on average 4 days after becoming infected. \n",
    "\n",
    "In the video, you have seen how you can extend the simple SIR model to include a separate compartment for people on treatment, T. However, here we have a new situation where infectious people are now separated into 2 different compartments: treated (T) and untreated (I) infected people can transmit the virus. This means that we have to adjust the force of infection $\\lambda$, as described below.\n",
    "\n",
    "**Specifying the force of infection in the treatment model:**  \n",
    "Remember, the force of infection $\\lambda$ acts on susceptibles. It removes people from the S compartment and adds them into the I compartment - this remains the same in our treatment model. \n",
    "\n",
    "The only difference is that people in both the I and T compartments are a source of infection now. Here, we assume they are equally good at passing on the infection, which means they both transmit the virus to susceptibles at a rate $\\beta$. Remember, $\\beta$ is simply the average number of secondary infections caused by an infectious person per unit time - here we are assuming that untreated and treated people cause the same average number of secondary infections per unit time.\n",
    "\n",
    "In the basic SIR model, the equation for the force of infection was:\n",
    "\n",
    "\\begin{align}\n",
    "\\lambda & = \\beta \\frac{I}{N}\n",
    "\\end{align}\n",
    "\n",
    "All we have to do now is add those additional infectious people in the T compartment:\n",
    "\n",
    "\\begin{align}\n",
    "\\lambda & = \\beta \\frac{I+T}{N}\n",
    "\\end{align}\n",
    "\n",
    "Or another way of expressing this:\n",
    "\n",
    "\\begin{align}\n",
    "\\lambda & = \\beta \\frac{I}{N} + \\beta \\frac{T}{N}\n",
    "\\end{align}\n",
    "\n",
    "Now, it's your turn to investigate the impact that treatment has on the course of this epidemic. Use the information above to define a new model function, initial conditions and parameters below and solve this new system. You might find it helpful to draw a diagram of the model structure and write down the differential equations on paper first.\n",
    "\n",
    "Plot the prevalence of infection over time, being careful to include all infected compartments. \n",
    "\n",
    "### Question: How many people are infected at the peak of the epidemic?"
   ]
  },
  {
   "cell_type": "code",
   "execution_count": 1,
   "metadata": {},
   "outputs": [],
   "source": [
    "### YOUR CODE GOES HERE ###"
   ]
  },
  {
   "cell_type": "markdown",
   "metadata": {},
   "source": [
    "As you can see, despite the treatment, an epidemic still occurs, albeit a smaller one than if no one was treated.\n",
    "\n",
    "Now, think about how you could improve the impact of this treatment on reducing the prevalence of this infection, by changing the treatment initiation rate in your code above.\n",
    "\n",
    "### Question: How rapidly does treatment need to be initiated in order to interrupt transmission, i.e. to bring R<sub>0</sub> below 1? Based on this, do you think it is feasible to interrupt transmission through treatment alone?\n",
    "\n",
    "As you have learnt in previous weeks, it is also possible to derive a formula to calculate R<sub>0</sub> for more complex extensions to the SIR model like this one. Derive and apply this equation to your parameter values to determine the minimum treatment initiation rate that you would need to reduce R<sub>0</sub> below 1. For this, remember the definition of R<sub>0</sub>. \n",
    "\n",
    "### Question: Using only reasoning based on R<sub>0</sub> (i.e. without computer simulation), what is the minimum value of *h* needed to interrupt transmission? Is this consistent with what you found using the model in the previous question?\n",
    "\n",
    "### Question: What other (theoretical) changes could you make to this treatment to improve its impact on the epidemic?\n",
    "\n",
    "## Etivity solutions\n",
    "\n",
    "Solutions to all coding etivities are provided in the \"Solutions\" folder in your Jupyter workspace. In this folder, you will find feedback and model code for all the coding etivities throughout the course. After completing an exercise, you should always carefully compare your answers and code with the solutions! To make the most of the learning experience, we always recommend trying to complete the whole etivity before checking the solutions - but if you are stuck at any point, they can also help you to move on to the next part."
   ]
  }
 ],
 "metadata": {
  "kernelspec": {
   "display_name": "R",
   "language": "R",
   "name": "ir"
  }
 },
 "nbformat": 4,
 "nbformat_minor": 2
}

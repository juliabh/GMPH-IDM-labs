{
 "cells": [
  {
   "cell_type": "markdown",
   "metadata": {},
   "source": [
    "# Modelling additional vaccine effects"
   ]
  },
  {
   "cell_type": "markdown",
   "metadata": {},
   "source": [
    "In this exercise, you have the chance to bring together your experience from the previous etivities to model a vaccine with a *combined* leaky effect. From the video lecture, you will remember that this means the vaccine reduces not only susceptibility, like in the previous exercise, but also the infectivity of those who become infected despite being vaccinated. The parameter c<sub>s</sub> describes the effectiveness of the vaccine in reducing susceptibility of vaccinated individuals, and the parameter c<sub>i</sub> describes the effectiveness of the vaccine in reducing infectivity of vaccinated individuals.\n",
    "\n",
    "### Write down the differential equations for a model that describes the impact of a vaccine with a combined leaky mechanism.\n",
    "\n",
    "Adapt the code from the vaccine model you developed in the previous etivity to incorporate the new compartment and parameter in the cell below. We have already provided you with the same parameter values as in the previous etivity, and again you can assume a single infected person is introduced into an otherwise susceptible population. From the treatment etivity earlier this week, you will also know how to code the force of infection for a model with more than one infectious compartment. \n",
    "\n",
    "### Question: Based on the code below, what is the efficacy of the vaccine in terms of reducing susceptibility and in terms of reducing infectivity?\n",
    "\n",
    "### Question: What is the peak prevalence (peak number of infected people) with a vaccine coverage of 60%?\n",
    "\n",
    "### Question: For this vaccine, what is the minimum vaccination coverage required to interrupt transmission, i.e. to bring R<sub>eff</sub> below 1? Calculate this on paper, then confirm the value you derived using your model. "
   ]
  },
  {
   "cell_type": "code",
   "execution_count": null,
   "metadata": {},
   "outputs": [],
   "source": [
    "# LOAD THE PACKAGES:\n",
    "library(deSolve)\n",
    "library(reshape2)\n",
    "library(ggplot2)\n",
    "\n",
    "# MODEL INPUTS:\n",
    "\n",
    "N <- 1000000                     # total population size\n",
    "\n",
    "# Parameters\n",
    "parameters <- c(beta = 0.25,      # the infection rate in units of days^-1\n",
    "                gamma = 0.1,      # the rate of recovery in units of days^-1\n",
    "                c_s = 0.3,        # the reduction in the force of infection acting on those vaccinated\n",
    "                c_i = 0.5)            \n",
    "\n",
    "### YOUR CODE GOES HERE ###"
   ]
  }
 ],
 "metadata": {
  "kernelspec": {
   "display_name": "R",
   "language": "R",
   "name": "ir"
  },
  "language_info": {
   "codemirror_mode": "r",
   "file_extension": ".r",
   "mimetype": "text/x-r-source",
   "name": "R",
   "pygments_lexer": "r",
   "version": "3.5.1"
  }
 },
 "nbformat": 4,
 "nbformat_minor": 2
}

{
 "cells": [
  {
   "cell_type": "markdown",
   "metadata": {},
   "source": [
    "# Manual calibration of an SIR model (part 2)"
   ]
  },
  {
   "cell_type": "markdown",
   "metadata": {},
   "source": [
    "As you saw in the discussion prompt and video lecture, most people found different combinations of $\\beta$ and $\\gamma$ in the last etivity. This is because there is not enough data in the early epidemic curve alone, to identify unique values for the two parameters separately. However, the particular outbreak we are looking at is actually already over, and we have data for the following days too!\n",
    "\n",
    "Here is the data for the full epidemic (not just the initial growth), saved in the \"data\" variable, with the number of infected people recorded over 14 days:"
   ]
  },
  {
   "cell_type": "code",
   "execution_count": 2,
   "metadata": {},
   "outputs": [],
   "source": [
    "data <- read.csv(\"Graphics and Data/idm2_sir_data.csv\")   # read in the data from a CSV file"
   ]
  },
  {
   "cell_type": "markdown",
   "metadata": {},
   "source": [
    "Now, let's see what happens if we run the model again, with the parameter values we found before, but for a longer time (you can fill in your own values below, if you like). Does it still also fit the later part of the epidemic curve?"
   ]
  },
  {
   "cell_type": "code",
   "execution_count": null,
   "metadata": {},
   "outputs": [],
   "source": [
    "# PACKAGES\n",
    "require(deSolve)\n",
    "require(reshape2)\n",
    "require(ggplot2)\n",
    "\n",
    "# INPUT\n",
    "initial_state_values <- c(S = 762,  \n",
    "                          I = 1,       \n",
    "                          R = 0)\n",
    "\n",
    "# Adding the parameters vector\n",
    "parameters <- c(beta = 1.15,\n",
    "                gamma = 0.02)\n",
    "\n",
    "times <- seq(from = 0, to = 14, by = 0.1)\n",
    "\n",
    "# MODEL FUNCTION\n",
    "sir_model <- function(time, state, parameters) {  \n",
    "  \n",
    "  with(as.list(c(state, parameters)), {\n",
    "    \n",
    "    N <- S+I+R\n",
    "    \n",
    "    lambda <- beta * I/N\n",
    "    \n",
    "    # The differential equations\n",
    "    dS <- -lambda * S               \n",
    "    dI <- lambda * S - gamma * I\n",
    "    dR <- gamma * I             \n",
    "    \n",
    "    # Output\n",
    "    return(list(c(dS, dI, dR))) \n",
    "  })\n",
    "}\n",
    "    \n",
    "    \n",
    "# MODEL OUTPUT\n",
    "\n",
    "output <- as.data.frame(ode(y = initial_state_values, \n",
    "                            times = times, \n",
    "                            func = sir_model,\n",
    "                            parms = parameters))\n",
    "\n",
    "# PLOT OF THE MODEL FIT\n",
    "\n",
    "ggplot() +\n",
    "  geom_line(data = output, aes(x = time, y = I)) +                               # plot the model prediction of the\n",
    "                                                                                 # number infected as a line\n",
    "  geom_point(data = data, aes(x = time, y = number_infected), colour = \"red\") +  # overlay the data as red dots\n",
    "  xlab(\"Time (days)\")+                                              \n",
    "  ylab(\"Number of infected people\") +                                 \n",
    "  labs(title = paste(\"Model fit to the epidemic curve with beta =\", parameters[\"beta\"], \n",
    "                     \"and gamma =\", parameters[\"gamma\"]))"
   ]
  },
  {
   "cell_type": "markdown",
   "metadata": {},
   "source": [
    "As you can see, the model completely overestimates the number of infected people at later timepoints. In fact, the last datapoint the model was calibrated to was already close to the peak of the epidemic, but of course there was nothing in the data you used for the previous etivity to suggest this. Your result here might vary depending on which parameter values you found to produce the best fit in the last etivity. If you were lucky, you might have produced an epidemic curve that matches the full epidemic data more closely. But the main point remains: the limited data that you worked with in the previous etivity can give rise to a range of projected epidemic curves, not all of them consistent with how the epidemic actually developed.\n",
    "\n",
    "Now, can you find values of $\\beta$ and $\\gamma$ that match the model as closely as possible to this new data, for the full epidemic curve? Use the code above and proceed in the same way as in the last etivity by manually varying the values for $\\beta$ and $\\gamma$, until the line of the model output closely matches the datapoints. This time, calibrate the model to the full dataset provided here. \n",
    "\n",
    "### Question: Which value for $\\beta$ and value for $\\gamma$ did you find to give the best fit to the data?"
   ]
  },
  {
   "cell_type": "markdown",
   "metadata": {},
   "source": [
    "**Background information on the dataset:**  \n",
    "The dataset we use here is from a real influenza outbreak, which occurred in an English boarding school in 1978! The number infected actually represents the number of boys that were confined to bed each day.\n",
    "\n",
    "The numbers presented here were taken from De Vries et al. (2006) and if you are interested, you can find out more about the outbreak from the original publication in the British Medical Journal.\n",
    "\n",
    "*References:*  \n",
    "Anonymous. 1978. Influenza in a boarding school. British Medical Journal 1:578.  \n",
    "G. De Vries, T. Hillen, M. Lewis, J. Mueller, and B. Schoenfisch.  2006.  A Course in Mathematical Biology:  Quantitative Modeling with Mathematical and Computational Methods.  Society for Industrial and Applied Mathematics."
   ]
  }
 ],
 "metadata": {
  "kernelspec": {
   "display_name": "R",
   "language": "R",
   "name": "ir"
  }
 },
 "nbformat": 4,
 "nbformat_minor": 2
}

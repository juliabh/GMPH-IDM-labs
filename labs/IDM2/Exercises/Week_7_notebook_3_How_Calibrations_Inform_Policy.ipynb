{
 "cells": [
  {
   "cell_type": "markdown",
   "metadata": {},
   "source": [
    "# How calibrations inform policy"
   ]
  },
  {
   "cell_type": "markdown",
   "metadata": {},
   "source": [
    "As you have learned, in many practical applications of modelling, we don't know the values of all the parameters. To determine the impact of interventions on an epidemic using mathematical modelling and to inform policy, we first need to estimate the parameter values from the available data, such as the prevalence of infection. Then, we can use the inferred parameter values to make projections about the effect of different interventions. \n",
    "\n",
    "Now that you are familiar with least-squares approach to calibrate a model, this exercise will show you how it can be used in the model development process with the aim of informing policy-relevant questions. \n",
    "\n",
    "Running the cell below will load a new dataset of the prevalence of infection for an outbreak that lasted 200 days, in a population of 500 people. Your task is to calibrate an SIR model to this dataset using the automated least-squares algorithm, and then to use this information to draw conclusions about the amount of vaccination that will be needed, to protect other populations from this disease.\n",
    "\n",
    "### What are the best-fitting values for $\\beta$ and $\\gamma$?\n",
    "### Based on your estimates parameter values, what would be the critical vaccination threshold required to prevent this epidemic, assuming an all-or-nothing vaccine with 75% efficacy? You can calculate this on paper."
   ]
  },
  {
   "cell_type": "code",
   "execution_count": null,
   "metadata": {},
   "outputs": [],
   "source": [
    "data <- read.csv(\"../GraphicsAndData/w7_nb3_data.csv\")\n",
    "\n",
    "### YOUR CODE GOES HERE ###"
   ]
  }
 ],
 "metadata": {
  "kernelspec": {
   "display_name": "R",
   "language": "R",
   "name": "ir"
  }
 },
 "nbformat": 4,
 "nbformat_minor": 2
}

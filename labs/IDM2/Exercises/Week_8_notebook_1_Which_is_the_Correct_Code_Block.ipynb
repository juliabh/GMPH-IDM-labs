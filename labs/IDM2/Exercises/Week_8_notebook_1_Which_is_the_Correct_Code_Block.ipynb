{
 "cells": [
  {
   "cell_type": "markdown",
   "metadata": {},
   "source": [
    "# Which is the correct code block?"
   ]
  },
  {
   "cell_type": "markdown",
   "metadata": {},
   "source": [
    "In this etivity, we are building up to calibrating the SIR model to our flu outbreak data from previous exercises using **likelihood** as a measure of the divergence between the model projections and the data. \n",
    "\n",
    "This time, even though we are looking at the same outbreak, the dataset only shows the **reported cases**, and we know that 60% of flu cases are reported. We have provided you with all the code you need below - you just have to find the correct one!\n",
    "\n",
    "First, run the following cell to load the model function, inputs and datasets as before. The code first produces a plot of the dataset, then simulates the SIR model using the parameter values we found in the manual calibration to the full dataset of the total number infected. "
   ]
  },
  {
   "cell_type": "code",
   "execution_count": 1,
   "metadata": {},
   "outputs": [
    {
     "name": "stderr",
     "output_type": "stream",
     "text": [
      "Loading required package: deSolve\n",
      "Loading required package: reshape2\n",
      "Loading required package: ggplot2\n"
     ]
    },
    {
     "data": {
      "image/png": "[encoded data removed]",
      "text/plain": [
       "plot without title"
      ]
     },
     "metadata": {},
     "output_type": "display_data"
    }
   ],
   "source": [
    "# PACKAGES\n",
    "require(deSolve)\n",
    "require(reshape2)\n",
    "require(ggplot2)\n",
    "\n",
    "# Load the flu dataset of reported cases\n",
    "reported_data <- read.csv(\"../GraphicsAndData/idm2_sir_reported_data.csv\")\n",
    "\n",
    "# Plot of the data\n",
    "\n",
    "ggplot() +\n",
    "  geom_point(data = reported_data, aes(x = time, y = number_reported), colour = \"red\") + \n",
    "  xlab(\"Time (days)\")+                                              \n",
    "  ylab(\"Number of reported cases\")\n",
    "\n",
    "# INPUT\n",
    "initial_state_values <- c(S = 762,  \n",
    "                          I = 1,       \n",
    "                          R = 0)\n",
    "\n",
    "parameters <- c(beta = 1.7,\n",
    "                gamma = 0.45) \n",
    "\n",
    "times <- seq(from = 0, to = 14, by = 0.1)\n",
    "\n",
    "# SIR MODEL FUNCTION\n",
    "sir_model <- function(time, state, parameters) {  \n",
    "  \n",
    "  with(as.list(c(state, parameters)), {\n",
    "    \n",
    "    N <- S+I+R\n",
    "    \n",
    "    lambda <- beta * I/N\n",
    "    \n",
    "    # The differential equations\n",
    "    dS <- -lambda * S               \n",
    "    dI <- lambda * S - gamma * I\n",
    "    dR <- gamma * I             \n",
    "    \n",
    "    # Output\n",
    "    return(list(c(dS, dI, dR))) \n",
    "  })\n",
    "}\n",
    "    \n",
    "# MODEL OUTPUT\n",
    "\n",
    "output <- as.data.frame(ode(y = initial_state_values, \n",
    "                            times = times, \n",
    "                            func = sir_model,\n",
    "                            parms = parameters))"
   ]
  },
  {
   "cell_type": "markdown",
   "metadata": {},
   "source": [
    "Now, we want to calculate the likelihood of the model with these specific parameter values, i.e. the probability of observing these numbers of **reported** cases given our simulated numbers of **infected** people.\n",
    "\n",
    "### Question: Look through the six code blocks below. Which is the correct approach to calculate the Poisson log-likelihood for the epidemic curve shown here? \n",
    "\n",
    "You can also print the LL variables to look at the output, and use the in-built help files for commands you don't recognise (e.g. run ?sum to look up what the sum command does). Note that there is no solution file provided for this etivity. Instead, answer the multiple-choice question attached to this lesson on Coursera to see if you were right!"
   ]
  },
  {
   "cell_type": "code",
   "execution_count": null,
   "metadata": {},
   "outputs": [],
   "source": [
    "# Code block 1:\n",
    "LL <- sum(0.6 * (dpois(x = reported_data$number_reported, lambda = output$I[output$time %in% reported_data$time])))"
   ]
  },
  {
   "cell_type": "code",
   "execution_count": null,
   "metadata": {},
   "outputs": [],
   "source": [
    "# Code block 2:\n",
    "LL <- prod(dpois(x = reported_data$number_reported, lambda = 0.6 * output$I[output$time %in% reported_data$time]))"
   ]
  },
  {
   "cell_type": "code",
   "execution_count": null,
   "metadata": {},
   "outputs": [],
   "source": [
    "# Code block 3:\n",
    "LL <- dpois(x = reported_data$number_reported, lambda = 0.6 * output$I[output$time %in% reported_data$time], log = TRUE)"
   ]
  },
  {
   "cell_type": "code",
   "execution_count": null,
   "metadata": {},
   "outputs": [],
   "source": [
    "# Code block 4:\n",
    "LL <- sum(dpois(x = reported_data$number_reported, lambda = 0.6 * output$I[output$time %in% reported_data$time], log = TRUE))"
   ]
  },
  {
   "cell_type": "code",
   "execution_count": null,
   "metadata": {},
   "outputs": [],
   "source": [
    "# Code block 5:\n",
    "LL <- prod(0.6 * (dpois(x = reported_data$number_reported, lambda = output$I[output$time %in% reported_data$time])))"
   ]
  },
  {
   "cell_type": "code",
   "execution_count": null,
   "metadata": {},
   "outputs": [],
   "source": [
    "# Code block 6:\n",
    "LL <- sum(dpois(x = reported_data$number_reported, lambda = output$I[output$time %in% reported_data$time], log = TRUE))"
   ]
  },
  {
   "cell_type": "markdown",
   "metadata": {},
   "source": [
    "**Remember:** Our dataset contains the number of cases for each day, but we solve the differential equations of our model every 0.1 days (as defined in the \"times\" vector). This means we need to be careful to match the model output to the numbers from the dataset at the correct timepoints! We can do this by selecting the model output as follows:  "
   ]
  },
  {
   "cell_type": "code",
   "execution_count": null,
   "metadata": {},
   "outputs": [],
   "source": [
    "output$I[output$time %in% reported_data$time]"
   ]
  },
  {
   "cell_type": "markdown",
   "metadata": {},
   "source": [
    "This selects the simulated number of infected people only at all those timesteps which are present in the dataset \"time\" column."
   ]
  }
 ],
 "metadata": {
  "kernelspec": {
   "display_name": "R",
   "language": "R",
   "name": "ir"
  },
  "language_info": {
   "codemirror_mode": "r",
   "file_extension": ".r",
   "mimetype": "text/x-r-source",
   "name": "R",
   "pygments_lexer": "r",
   "version": "3.5.1"
  }
 },
 "nbformat": 4,
 "nbformat_minor": 2
}

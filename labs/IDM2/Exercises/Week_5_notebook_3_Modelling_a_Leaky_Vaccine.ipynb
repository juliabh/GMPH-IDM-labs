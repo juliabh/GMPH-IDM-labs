{
 "cells": [
  {
   "cell_type": "markdown",
   "metadata": {},
   "source": [
    "# Modelling a leaky vaccine"
   ]
  },
  {
   "cell_type": "markdown",
   "metadata": {},
   "source": [
    "In this exercise, we will continue working on the model that you developed in the previous etivity. In that etivity, we assumed that a proportion *p* of the population received a vaccine that is fully effective in protecting against infection.\n",
    "\n",
    "### Question: Assuming $\\beta$ equals 0.25 days$^{-1}$ and $\\gamma$ equals 0.1 days$^{-1}$, what proportion of the population would have to be vaccinated with a perfectly effective vaccine to prevent an epidemic?\n",
    "\n",
    "Now, what if the vaccine is not perfect (as is usually the case in reality)? As you learnt in the video, there are two common assumptions modellers make about how imperfect vaccines work: the \"all-or-nothing\" and the \"leaky\" mechanism. All-or-nothing vaccines give full immunity to a proportion of those vaccinated, but don't work at all in the other vaccinated people. \n",
    "\n",
    "### Question: Given the parameter assumptions above, what proportion of the population would have to be vaccinated with an all-or-nothing vaccine with 70% efficacy to prevent an epidemic?\n",
    "\n",
    "In contrast, leaky vaccines reduce susceptibility in everyone who received the vaccine by the same fraction. This means that vaccinated people can still become infected, but at a reduced rate (force of infection), like so:\n",
    "\n",
    "<img src=\"Graphics and Data/w5_nb3_diagram.png\"> \n",
    "\n",
    "### Question: Based on the diagram, write down the differential equations for this model on paper. What is the value of *c<sub>s</sub>* for a leaky vaccine with 70% efficacy?\n",
    "\n",
    "Now, building on your code from the previous etivity where you set up the V compartment for vaccinated people, explore the impact of a \"leaky\" vaccine on an epidemic. Copy-paste your code and adapt the differential equations to reflect the leaky mechanism. Like before, vaccination still happens before before the epidemic, so you can represent vaccination coverage through the initial conditions.\n",
    "\n",
    "### Question: With a leaky vaccine with 70% efficacy, what proportion of the population would have to be vaccinated to prevent an epidemic (R<sub>eff</sub> < 1)? Try addressing this first through simulation."
   ]
  },
  {
   "cell_type": "code",
   "execution_count": 1,
   "metadata": {},
   "outputs": [],
   "source": [
    "### YOUR CODE GOES HERE ###"
   ]
  },
  {
   "cell_type": "markdown",
   "metadata": {},
   "source": [
    "### Question: Now, can you confirm this result using equations, and not simulation? For this, think about the relationship between R<sub>0</sub> and R<sub>eff</sub> introduced in week 3 of this degree specialisation.  "
   ]
  }
 ],
 "metadata": {
  "kernelspec": {
   "display_name": "R",
   "language": "R",
   "name": "ir"
  }
 },
 "nbformat": 4,
 "nbformat_minor": 2
}

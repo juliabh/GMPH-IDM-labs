{
 "cells": [
  {
   "cell_type": "markdown",
   "metadata": {},
   "source": [
    "# Automated least-squares calibration: Using ```optim()```, R's built-in optimisation function\n",
    "\n",
    "## Introduction\n",
    "\n",
    "If you've completed the previous etivity, you should now have a working function which takes in data and parameters for an SIR model and calculates the sum-of-squares for the model fit. This is now a function which you can put into ```optim()``` to find the $\\beta$ and $\\gamma$ for the best SIR model fit to a dataset, as measured by least squares.  \n",
    "\n",
    "Using ```optim()```:  \n",
    "You can use ```optim()``` without having to install any packages: it is in the ```stats``` package, which comes with your R installation anyway.\n",
    "\n",
    "It's usually informative to check the help page to see what a function requires:"
   ]
  },
  {
   "cell_type": "code",
   "execution_count": null,
   "metadata": {
    "attributes": {
     "": "",
     "classes": [],
     "id": ""
    }
   },
   "outputs": [],
   "source": [
    "?optim"
   ]
  },
  {
   "cell_type": "markdown",
   "metadata": {},
   "source": [
    "This tells you that the arguments it needs at a minimum are:\n",
    "\n",
    "```par``` : initial values for the parameters to be optimised over  \n",
    "```fn```  : a function to be minimised  \n",
    "\n",
    "So ```optim()``` takes a function (which you provide in the ```fn``` argument) for which it needs to find the minimum (or maximum) value. The output value of the function depends on the values of the parameters, which ```optim()``` will change as it works through the optimisation process; you need to give it some starting values in the ```par``` argument.  \n",
    "\n",
    "What other argument might you need to give?  \n",
    "\n",
    "Hint:  \n",
    "\n",
    "* The help file gives:  \n",
    "```...``` Further arguments to be passed to ```fn``` and ```gr```.  \n",
    "\n",
    "Your ```fn``` argument is your ```SIR_SSQ()``` function. You can't run that function on its own without giving it parameters and a dataset... perhaps you have to provide at least one of these when you run ```optim()```.  \n",
    "\n",
    "\n",
    "## Tasks\n",
    "\n",
    "Your tasks for this etivity are:  \n",
    "\n",
    "1. Use ```optim()``` to find the beta and gamma for the best SIR model to fit an example dataset  \n",
    "2.  Plot the example dataset against your \"best fit\" model  \n",
    "\n",
    "This will involve completing the following example code:  "
   ]
  },
  {
   "cell_type": "code",
   "execution_count": null,
   "metadata": {},
   "outputs": [],
   "source": [
    "## load data \n",
    "flu_data <- read.csv(\"../GraphicsAndData/idm2_sir_data.csv\")\n",
    "initial_state_values <- c(S = 762, I = 1, R = 0)\n",
    "\n",
    "## Check! Does your data have the column names that your SIR function is expecting?\n",
    "## replace relevant column names if necessary!\n",
    "### YOUR CODE HERE ###\n",
    "\n",
    "# run optim\n",
    "optimised <- optim( par = ###YOUR CODE HERE###\n",
    "                  , fn  = ###YOUR CODE HERE###\n",
    "                    ### YOUR CODE HERE###\n",
    "             )\n",
    "\n",
    "# examine optim() output and plot \"best\" model against example dataset\n",
    " \n",
    "#### YOUR CODE HERE ####"
   ]
  }
 ],
 "metadata": {
  "kernelspec": {
   "display_name": "R",
   "language": "R",
   "name": "ir"
  }
 },
 "nbformat": 4,
 "nbformat_minor": 2
}

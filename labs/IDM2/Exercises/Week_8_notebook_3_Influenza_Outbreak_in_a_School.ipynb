{
 "cells": [
  {
   "cell_type": "markdown",
   "metadata": {},
   "source": [
    "# Influenza outbreak in a school"
   ]
  },
  {
   "cell_type": "markdown",
   "metadata": {},
   "source": [
    "Over the past few weeks, you have gained insight into different approaches to calibrating a model, and how to implement them in R. This exercise now allows you to put into practice what you have learnt to answer a specific research question about a real-life influenza outbreak.\n",
    "\n",
    "You will be using data from a H1N1 pandemic influenza outbreak that started in an elementary school in Pennsylvania in 2009 (published in Cauchemez et al. 2011). This data was collected by the Centers for Disease Control and Prevention (CDC) and the Pennsylvania\n",
    "Department of Health. Between April and May of that year, 129 of the 456 students attending the school were reported to have acute respiratory illness, as defined by symptoms such as fever, cough, sore throat, and runny nose. We assume that every student experiencing these symptoms indeed represents a case of flu, and that all cases were symptomatic. People usually do not have previous immunity to pandemic influenza because they have had no previous exposure to this strain. \n",
    "\n",
    "Run the following cell to see a plot of the full epidemic curve over 51 days:"
   ]
  },
  {
   "cell_type": "code",
   "execution_count": 5,
   "metadata": {},
   "outputs": [
    {
     "data": {
      "image/png": "[encoded data removed]",
      "text/plain": [
       "plot without title"
      ]
     },
     "metadata": {},
     "output_type": "display_data"
    }
   ],
   "source": [
    "# Load the dataset\n",
    "flu_data <- read.csv(\"../GraphicsAndData/w8_nb3_flu_data.csv\")\n",
    "\n",
    "# Plot the epidemic curve\n",
    "library(ggplot2)\n",
    "ggplot(data = flu_data) +\n",
    "  geom_col(aes(x = day, y = cases)) +\n",
    "  labs(x = \"Day\", y = \"Number of flu cases\")"
   ]
  },
  {
   "cell_type": "markdown",
   "metadata": {},
   "source": [
    "Because of the outbreak, the school was closed between days 18 and 24. Your task in this exercise is to investigate what effect this intervention had on the epidemic, and answer the question:\n",
    "\n",
    "### How many flu cases were averted by the school closure?\n",
    "\n",
    "To do this, proceed in the following 3 stages:\n",
    "\n",
    "1) Use your calibration skills to fit an SIR model to the outbreak data before the intervention was introduced (up until day 17), using the maximum-likelihood approach.   \n",
    "2) Use the parameters estimated in the calibration to project how the outbreak would have progressed without the school closure.  \n",
    "3) Compare this projection with the data visually and calculate the total number of cases averted by the intervention.\n",
    "\n",
    "For the purpose of this etivity, there is no need to take into account uncertainty in the model parameters or output!"
   ]
  },
  {
   "cell_type": "code",
   "execution_count": null,
   "metadata": {},
   "outputs": [],
   "source": [
    "### YOUR CODE GOES HERE ###"
   ]
  },
  {
   "cell_type": "markdown",
   "metadata": {},
   "source": [
    "**Dataset reference:**\n",
    "\n",
    "Cauchemez, S., Bhattarai, A., Marchbanks, T. L., Fagan, R. P., Ostroff, S., Ferguson, N. M., & Pennsylvania H1N1 Working Group. (2011). Role of social networks in shaping disease transmission during a community outbreak of 2009 H1N1 pandemic influenza. Proceedings of the National Academy of Sciences, 108(7), 2825-2830."
   ]
  }
 ],
 "metadata": {
  "kernelspec": {
   "display_name": "R",
   "language": "R",
   "name": "ir"
  },
  "language_info": {
   "codemirror_mode": "r",
   "file_extension": ".r",
   "mimetype": "text/x-r-source",
   "name": "R",
   "pygments_lexer": "r",
   "version": "3.5.1"
  }
 },
 "nbformat": 4,
 "nbformat_minor": 2
}

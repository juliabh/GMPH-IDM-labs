{
 "cells": [
  {
   "cell_type": "markdown",
   "metadata": {},
   "source": [
    "# Manual calibration of an SIR model (part 1)"
   ]
  },
  {
   "cell_type": "markdown",
   "metadata": {},
   "source": [
    "Over the past weeks, you have learnt about how to code infectious disease models, and how they behave. \n",
    "\n",
    "As explained in the lectures, the next step is to make sure that your model is able to capture real-world data. In this exercise you will learn how to do this, with some simple examples. The cell below contains the epidemic data you will be working with, with a column for the time in days, and a column for the prevalence of infection on each day.\n",
    "\n",
    "To familiarise yourself with the data, first plot the epidemic curve.\n",
    "\n",
    "### Question: Based on the plot, what does the data represent?"
   ]
  },
  {
   "cell_type": "code",
   "execution_count": 1,
   "metadata": {},
   "outputs": [],
   "source": [
    "data <- data.frame(time = 1:5,\n",
    "                   number_infected = c(3,8,26,76,225))\n",
    "\n",
    "# PLOT\n",
    "\n",
    "require(ggplot2)\n",
    "\n",
    "### YOUR CODE GOES HERE ###"
   ]
  },
  {
   "cell_type": "markdown",
   "metadata": {},
   "source": [
    "Now, your task is to calibrate a simple SIR model to this data, i.e. find the combination of $\\beta$ and $\\gamma$ that best reproduces the data. For this exercise, you will do a manual calibration, which means you vary the parameter values manually and compare the model output with the data visually. Through trial-and-error, you find the best parameter values. In later exercises you will learn how to do this more efficiently. To begin with, this manual approach should help to familiarise you with what is happening when you calibrate a model.\n",
    "\n",
    "Below, we have provided you with the SIR model code that you are already very familiar with. Take a moment to look through this code, to make sure you understand what it represents. As you can see, we are simulating the epidemic for the same duration that we have data for.\n",
    "\n",
    "### Question: Based on the code, what is the total size of the population you are modelling? For plotting, which variables in the model output correspond to the variables in the dataset? "
   ]
  },
  {
   "cell_type": "code",
   "execution_count": null,
   "metadata": {},
   "outputs": [],
   "source": [
    "# PACKAGES\n",
    "require(deSolve)\n",
    "require(reshape2)\n",
    "require(ggplot2)\n",
    "\n",
    "# INPUT\n",
    "initial_state_values <- c(S = 762,  \n",
    "                          I = 1,       \n",
    "                          R = 0)\n",
    "\n",
    "times <- seq(from = 0, to = 6, by = 0.1)\n",
    "\n",
    "# MODEL FUNCTION\n",
    "sir_model <- function(time, state, parameters) {  \n",
    "  \n",
    "  with(as.list(c(state, parameters)), {\n",
    "    \n",
    "    N <- S+I+R\n",
    "    \n",
    "    lambda <- beta * I/N\n",
    "    \n",
    "    # The differential equations\n",
    "    dS <- -lambda * S               \n",
    "    dI <- lambda * S - gamma * I\n",
    "    dR <- gamma * I             \n",
    "    \n",
    "    # Output\n",
    "    return(list(c(dS, dI, dR))) \n",
    "  })"
   ]
  },
  {
   "cell_type": "markdown",
   "metadata": {},
   "source": [
    "Now, use the cell below to write code to specify values for $\\beta$ and $\\gamma$, solve the model, and plot the model output and the data in the same graph. This plot will show how well your model prediction fits to the data.\n",
    "\n",
    "*Hint: for time series data like this, it is common practice to plot the model output over time as a line, and overlay the data as points (ideally in a different colour). In ggplot, the commands for this are geom_line() and geom_point() respectively. You can either combine the model output and dataset into the same dataframe, or you might find it easier to define the 'data' and 'aes' arguments in the geom_line and geom_point commands separately. Of course, if you prefer you can also use base R plotting commands (plot()).*"
   ]
  },
  {
   "cell_type": "code",
   "execution_count": null,
   "metadata": {},
   "outputs": [],
   "source": [
    "### YOUR CODE GOES HERE ###"
   ]
  },
  {
   "cell_type": "markdown",
   "metadata": {},
   "source": [
    "In your code above, try different values for $\\beta$ and $\\gamma$ until you find a combination that produces an output closely matching the observed data. If you don't know where to start, remember that we are modelling the epidemic in units of days, and remind yourself of the condition that $\\beta$ and $\\gamma$ need to fulfill to observe an outbreak.\n",
    "\n",
    "### Question: Which value for $\\beta$ and value for $\\gamma$ did you find to give the best fit to the data? Share your values in the discussion prompt in this lesson. Did other people get the same result? Can you explain why or why not?"
   ]
  },
  {
   "cell_type": "code",
   "execution_count": null,
   "metadata": {},
   "outputs": [],
   "source": []
  }
 ],
 "metadata": {
  "kernelspec": {
   "display_name": "R",
   "language": "R",
   "name": "ir"
  }
 },
 "nbformat": 4,
 "nbformat_minor": 2
}

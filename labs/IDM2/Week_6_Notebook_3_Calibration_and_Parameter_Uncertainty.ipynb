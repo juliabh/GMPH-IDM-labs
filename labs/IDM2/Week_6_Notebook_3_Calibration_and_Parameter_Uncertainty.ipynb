{
 "cells": [
  {
   "cell_type": "markdown",
   "metadata": {},
   "source": [
    "# Calibration and parameter uncertainty"
   ]
  },
  {
   "cell_type": "markdown",
   "metadata": {},
   "source": [
    "In the last two exercises, you got an idea of how a model can be calibrated to real-life data. But why is this important? In reality, we often don't know exact rates of progression between the modelled compartments. In particular,  parameters like $\\beta$ are typically not measured directly, but rather need to be inferred from the data. This is why we need to adjust the model parameters so that the model agrees with epidemiological data. As you will see in this etivity, the assumptions we make about our parameter values - the inputs - have an effect on the model output, and the policy recommendations arising from it.\n",
    "\n",
    "Imagine a situation where we are in the early stages of an epidemic, similar to the first calibration etivity. However, this time the outbreak is caused by a completely novel pathogen, which we know little about. Initial clinical observations suggest that the infectious period lasts **7 days** on average, but there is some uncertainty regarding this - it may in fact be anything **between 5 and 10 days**.\n",
    "\n",
    "Running the first cell below will read in the available data on the epidemic so far - have a look at the dataset first. Your first task is to calibrate an SIR model manually by varying $\\beta$, and using your existing knowledge on the recovery rate, in the second cell. \n",
    "\n",
    "Once you have estimated $\\beta$, use your parameter values to calculate what vaccine coverage would be required to interrupt transmission of this disease, i.e. bring R<sub>0</sub> below 1.\n",
    "\n",
    "### Question: What vaccination coverage would you recommend to public health authorities to interrupt transmission? \n",
    "\n",
    "*Hint: Start by making an assumption for the value of gamma given the information above. Then, find which value of beta best matches the epidemic data. Once you have this value, what is the critical vaccination coverage? Remember that this finding depends on the value you've assumed for $\\gamma$: how does it change, for alternative values of $\\gamma$?*"
   ]
  },
  {
   "cell_type": "code",
   "execution_count": 1,
   "metadata": {},
   "outputs": [
    {
     "data": {
      "text/html": [
       "<table>\n",
       "<thead><tr><th scope=col>days</th><th scope=col>number_infected</th></tr></thead>\n",
       "<tbody>\n",
       "\t<tr><td> 3 </td><td>  2</td></tr>\n",
       "\t<tr><td> 7 </td><td> 30</td></tr>\n",
       "\t<tr><td>10 </td><td>106</td></tr>\n",
       "\t<tr><td>12 </td><td>311</td></tr>\n",
       "\t<tr><td>13 </td><td>278</td></tr>\n",
       "\t<tr><td>14 </td><td>323</td></tr>\n",
       "\t<tr><td>16 </td><td>439</td></tr>\n",
       "</tbody>\n",
       "</table>\n"
      ],
      "text/latex": [
       "\\begin{tabular}{r|ll}\n",
       " days & number\\_infected\\\\\n",
       "\\hline\n",
       "\t  3  &   2\\\\\n",
       "\t  7  &  30\\\\\n",
       "\t 10  & 106\\\\\n",
       "\t 12  & 311\\\\\n",
       "\t 13  & 278\\\\\n",
       "\t 14  & 323\\\\\n",
       "\t 16  & 439\\\\\n",
       "\\end{tabular}\n"
      ],
      "text/markdown": [
       "\n",
       "| days | number_infected |\n",
       "|---|---|\n",
       "|  3  |   2 |\n",
       "|  7  |  30 |\n",
       "| 10  | 106 |\n",
       "| 12  | 311 |\n",
       "| 13  | 278 |\n",
       "| 14  | 323 |\n",
       "| 16  | 439 |\n",
       "\n"
      ],
      "text/plain": [
       "  days number_infected\n",
       "1  3     2            \n",
       "2  7    30            \n",
       "3 10   106            \n",
       "4 12   311            \n",
       "5 13   278            \n",
       "6 14   323            \n",
       "7 16   439            "
      ]
     },
     "metadata": {},
     "output_type": "display_data"
    }
   ],
   "source": [
    "# CELL 1: READ IN THE DATASET AND SAVE IT INTO A VARIABLE CALLED \"data\"\n",
    "data <- read.csv(\"Graphics and Data/w6_nb3_data.csv\")\n",
    "\n",
    "data"
   ]
  },
  {
   "cell_type": "code",
   "execution_count": 3,
   "metadata": {},
   "outputs": [
    {
     "data": {
      "text/html": [
       "<table>\n",
       "<thead><tr><th scope=col>days</th><th scope=col>number_infected</th></tr></thead>\n",
       "<tbody>\n",
       "\t<tr><td> 3 </td><td>  2</td></tr>\n",
       "\t<tr><td> 7 </td><td> 30</td></tr>\n",
       "\t<tr><td>10 </td><td>106</td></tr>\n",
       "\t<tr><td>12 </td><td>311</td></tr>\n",
       "\t<tr><td>13 </td><td>278</td></tr>\n",
       "\t<tr><td>14 </td><td>323</td></tr>\n",
       "\t<tr><td>16 </td><td>439</td></tr>\n",
       "</tbody>\n",
       "</table>\n"
      ],
      "text/latex": [
       "\\begin{tabular}{r|ll}\n",
       " days & number\\_infected\\\\\n",
       "\\hline\n",
       "\t  3  &   2\\\\\n",
       "\t  7  &  30\\\\\n",
       "\t 10  & 106\\\\\n",
       "\t 12  & 311\\\\\n",
       "\t 13  & 278\\\\\n",
       "\t 14  & 323\\\\\n",
       "\t 16  & 439\\\\\n",
       "\\end{tabular}\n"
      ],
      "text/markdown": [
       "\n",
       "| days | number_infected |\n",
       "|---|---|\n",
       "|  3  |   2 |\n",
       "|  7  |  30 |\n",
       "| 10  | 106 |\n",
       "| 12  | 311 |\n",
       "| 13  | 278 |\n",
       "| 14  | 323 |\n",
       "| 16  | 439 |\n",
       "\n"
      ],
      "text/plain": [
       "  days number_infected\n",
       "1  3     2            \n",
       "2  7    30            \n",
       "3 10   106            \n",
       "4 12   311            \n",
       "5 13   278            \n",
       "6 14   323            \n",
       "7 16   439            "
      ]
     },
     "metadata": {},
     "output_type": "display_data"
    }
   ],
   "source": [
    "# CELL 2: MANUALLY CALIBRATE THE SIR MODEL\n",
    "\n",
    "### YOUR CODE GOES HERE ###"
   ]
  },
  {
   "cell_type": "code",
   "execution_count": null,
   "metadata": {},
   "outputs": [],
   "source": []
  }
 ],
 "metadata": {
  "kernelspec": {
   "display_name": "R",
   "language": "R",
   "name": "ir"
  },
  "language_info": {
   "codemirror_mode": "r",
   "file_extension": ".r",
   "mimetype": "text/x-r-source",
   "name": "R",
   "pygments_lexer": "r",
   "version": "3.5.1"
  }
 },
 "nbformat": 4,
 "nbformat_minor": 2
}

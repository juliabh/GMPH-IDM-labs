{
 "cells": [
  {
   "cell_type": "markdown",
   "metadata": {},
   "source": [
    "# Population effects of vaccination"
   ]
  },
  {
   "cell_type": "markdown",
   "metadata": {},
   "source": [
    "In this etivity, you will model a scenario in an animal population. The disease we are interested in can present in a mild and a severe form depending on the animal's underlying risk factors. We therefore distinguish between the general population and the high-risk population, who, if they get infected, will develop severe disease. Animals with severe disease die very quickly, but a vaccine has recently been developed that can protect high-risk animals from dying. However, the vaccine has no effect on preventing infection. In this etivity, your task is to evaluate the impact of such a vaccine on transmission and mortality in this population. \n",
    "\n",
    "Here is some information on the population and the infection:\n",
    "- The total population size is 100,000 and 10% of animals are in the high-risk group.\n",
    "- The outbreak starts with a single infected case in the general population, while all other animals are susceptible.\n",
    "- All infected animals (high-risk or general population) are equally infectious at a rate of 0.4 days$^{-1}$. Vaccination does not affect their infectivity.\n",
    "- All infected animals (high-risk or general population) recover at the same rate, on average in 5 days.\n",
    "- Animals with severe disease die very quickly: on average, just 1 day after getting infected. Infected animals without severe disease experience no additional mortality, and because we are simulating a relatively short time period, there is no need to include background mortality.\n",
    "- Only high-risk animals receive the vaccine (we are assuming that we can easily distinguish them from the general population).\n",
    "\n",
    "To model all these different groups, we need to extend the simple SIR model to represent a total of 10 compartments, as shown in the diagram below. Here, we stratify the population both by risk group (general population vs. high-risk), and, among the high-risk group, by vaccination status. Within these 3 strata (general population, high-risk unvaccinated and high-risk vaccinated), animals follow the normal SIR model progression. \n",
    "\n",
    "<img src=\"Graphics and Data/w5_nb5_diagram.png\"> \n",
    "\n",
    "Code this model in the cell below, filling in the required values according to the description above. Include a vaccine coverage parameter in the initial conditions. We want to compare the epidemic in the population with and without vaccination. First, simulate the disease in the absence of vaccination (simulating for 150 days).\n",
    "\n",
    "Plot the prevalence of infection and the number of deaths over time.\n",
    "\n",
    "### Question: In the absence of vaccination, what is the total prevalence of infection at the peak of the epidemic? How many animals have died by the end of the epidemic?"
   ]
  },
  {
   "cell_type": "code",
   "execution_count": null,
   "metadata": {},
   "outputs": [],
   "source": [
    "### YOUR CODE GOES HERE ###"
   ]
  },
  {
   "cell_type": "markdown",
   "metadata": {},
   "source": [
    "Now, in the cell below simulate the model assuming that all high-risk animals receive the vaccine (vaccine coverage of 100%). \n",
    "\n",
    "### Question: How does the vaccine affect the peak prevalence of infection and the total number of deaths? Can you explain this finding?"
   ]
  },
  {
   "cell_type": "code",
   "execution_count": null,
   "metadata": {},
   "outputs": [],
   "source": [
    "### YOUR CODE GOES HERE ###"
   ]
  },
  {
   "cell_type": "markdown",
   "metadata": {},
   "source": [
    "### Question: Based on your answer to the previous question, what do you think is the effect of the vaccine if 30% of the population are at risk of severe disease, instead of 10%? Use your model to confirm this below."
   ]
  },
  {
   "cell_type": "code",
   "execution_count": 1,
   "metadata": {},
   "outputs": [],
   "source": [
    "### YOUR CODE GOES HERE ###"
   ]
  }
 ],
 "metadata": {
  "kernelspec": {
   "display_name": "R",
   "language": "R",
   "name": "ir"
  },
  "language_info": {
   "codemirror_mode": "r",
   "file_extension": ".r",
   "mimetype": "text/x-r-source",
   "name": "R",
   "pygments_lexer": "r",
   "version": "3.5.1"
  }
 },
 "nbformat": 4,
 "nbformat_minor": 2
}
